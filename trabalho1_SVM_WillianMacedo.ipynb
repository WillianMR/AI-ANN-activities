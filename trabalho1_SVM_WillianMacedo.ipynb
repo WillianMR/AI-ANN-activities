{
 "cells": [
  {
   "cell_type": "markdown",
   "id": "c4d8eee9",
   "metadata": {},
   "source": [
    "\n",
    "# Trabalho 1 - Aplicações em Machine Learning\n",
    "\n",
    "Este notebook é dedicado ao primeiro trabalho prático do curso, onde diferentes técnicas de aprendizado supervisionado\n",
    "são aplicadas a um conjunto de dados específico. Os principais tópicos abordados incluem:\n",
    "\n",
    "1. Limpeza e Pré-processamento dos Dados\n",
    "2. Treinamento de Modelos de Classificação\n",
    "3. Avaliação e Comparação de Desempenho dos Modelos\n"
   ]
  },
  {
   "cell_type": "markdown",
   "metadata": {
    "id": "-h698BJ15SI_"
   },
   "source": [
    "# SVM Classifier"
   ]
  },
  {
   "cell_type": "markdown",
   "metadata": {
    "id": "b354E5t55V4t"
   },
   "source": [
    "https://www.youtube.com/watch?v=efR1C6CvhmE\n",
    "\n",
    "https://towardsdatascience.com/support-vector-machines-svm-c9ef22815589\n",
    "\n",
    "https://towardsdatascience.com/support-vector-machine-introduction-to-machine-learning-algorithms-934a444fca47\n",
    "\n",
    "https://towardsdatascience.com/a-guide-to-svm-parameter-tuning-8bfe6b8a452c\n",
    "\n",
    "https://towardsdatascience.com/understanding-support-vector-machine-part-2-kernel-trick-mercers-theorem-e1e6848c6c4d\n",
    "\n",
    "https://www.datacamp.com/community/tutorials/svm-classification-scikit-learn-python\n",
    "\n",
    "https://stackabuse.com/implementing-svm-and-kernel-svm-with-pythons-scikit-learn/\n",
    "\n",
    "\n",
    "Métricas\n",
    "\n",
    "https://en.wikipedia.org/wiki/Precision_and_recall\n",
    "\n",
    "Pipeline\n",
    "\n",
    "https://medium.com/vickdata/a-simple-guide-to-scikit-learn-pipelines-4ac0d974bdcf\n",
    "\n",
    "https://towardsdatascience.com/a-simple-example-of-pipeline-in-machine-learning-with-scikit-learn-e726ffbb6976\n",
    "\n",
    "https://www.kaggle.com/baghern/a-deep-dive-into-sklearn-pipelines\n"
   ]
  },
  {
   "cell_type": "markdown",
   "metadata": {
    "id": "GkYofzmNCXzN"
   },
   "source": [
    "## Exercício:\n",
    "\n",
    "Implemente o Classificador SVM usando os Kernels Linear e RBF. Utilize como ponto de partida este Notebook em anexo.\n",
    "\n",
    "E seguida, usando validação cruzada K-fold (K=5), ajuste os parâmetros (usando GridSearchCV) para ambos os classificadores (Linear e RBF), parâmetro de regularização C, e  γ  (gamma, somente RBF) e informe qual a melhor configuração para obter melhor (i) Acurácia, (ii) Precision, (iii) Recall e (iv) F1. Utilize pipelines para resolver esta atividade.\n",
    "\n",
    "    Você pode encontrar informações sobre as métricas nos links abaixo:\n",
    "    https://en.wikipedia.org/wiki/Precision_and_recall\n",
    "\n",
    "=============================================\n",
    "\n",
    "Em detalhes, você deve fazer o seguinte (os itens 1 e 2 tem apenas caráter didático):\n",
    "\n",
    "1) Padronização dos dados de entrada (média 0 e desvio-padrão 1); Dica: lembra do StandarScaler?\n",
    "https://scikit-learn.org/stable/modules/generated/sklearn.preprocessing.StandardScaler.html\n",
    "\n",
    "2) Validação Cruzada usando o GridSearchCV (avaliando o grid de Parâmetros) usando diferente métricas: (i) Acurácia, (ii) Precision, (iii) Recall e (iv) F1. Dica: checar o parâmetro 'scoring'.\n",
    "\n",
    "        GridSearchCV\n",
    "        https://scikit-learn.org/stable/modules/generated/sklearn.model_selection.GridSearchCV.html\n",
    "\n",
    "        Lista de valores string do parâmetro 'scoring' que você pode utilizar:\n",
    "        https://scikit-learn.org/stable/modules/model_evaluation.html\n",
    "\n",
    "3) Pipeline: agora refaça os itens acima mas usando Pipeline. Você deve criar *dois pipelines* -- um para o kernel 'linear' (pipe_svc_linear) e outro para o kernel 'rbf' (pipe_svc_rbf) -- ambos de dois passos:\n",
    "\n",
    "    (i) 'scaler': escale/padronize os dados (média=0, desv.pad=1);\n",
    "    (ii) 'svm_linear' ou 'svm_rbf', respectivamente para cada kernel: LINEAR ou RBF.\n",
    "        https://scikit-learn.org/stable/modules/generated/sklearn.pipeline.Pipeline.html\n",
    "        https://medium.com/data-hackers/como-usar-pipelines-no-scikit-learn-1398a4cc6ae9\n",
    "\n",
    "4) Por fim, agora faça a validação cruzada (da mesma forma feita no item 2) em ambos os pipelines.\n",
    "\n",
    "Obs: Esta atividade foi dividida em itens 1-4 apenas pra ficar didática. Os itens que realmente importam são os 3 e 4, pois contemplam os itens 1 e 2.\n",
    "\n",
    "Bom trabalho! :)\n"
   ]
  },
  {
   "cell_type": "markdown",
   "metadata": {
    "id": "5aDzTOoy1kqs"
   },
   "source": [
    "### Importing Libraries"
   ]
  },
  {
   "cell_type": "code",
   "execution_count": 1,
   "metadata": {
    "executionInfo": {
     "elapsed": 2274,
     "status": "ok",
     "timestamp": 1716081438236,
     "user": {
      "displayName": "Willian Macedo Rodrigues",
      "userId": "04289625524537895451"
     },
     "user_tz": 180
    },
    "id": "wWnBRXXc1qIC"
   },
   "outputs": [],
   "source": [
    "\n",
    "# Dividir os dados em conjuntos de treino e teste\n",
    "# Isso ajuda a avaliar a capacidade de generalização dos modelos.\n",
    "X_train, X_test, y_train, y_test = train_test_split(X, y, test_size=0.2, random_state=42)\n",
    "# Import Libraries\n",
    "import numpy as np\n",
    "import pandas as pd\n",
    "import matplotlib.pyplot as plt\n",
    "import seaborn as sns\n",
    "\n",
    "#Import scikit-learn dataset library\n",
    "from sklearn import datasets\n",
    "\n",
    "# Import train_test_split function\n",
    "from sklearn.model_selection import train_test_split\n",
    "#Import svm model\n",
    "from sklearn import svm\n",
    "#Import scikit-learn metrics module for accuracy calculation\n",
    "from sklearn import metrics"
   ]
  },
  {
   "cell_type": "markdown",
   "metadata": {
    "id": "mRu8IK-ny0B_"
   },
   "source": [
    "### Loading Data"
   ]
  },
  {
   "cell_type": "code",
   "execution_count": 2,
   "metadata": {
    "executionInfo": {
     "elapsed": 12,
     "status": "ok",
     "timestamp": 1716081438237,
     "user": {
      "displayName": "Willian Macedo Rodrigues",
      "userId": "04289625524537895451"
     },
     "user_tz": 180
    },
    "id": "5TnaVb_b5OOj"
   },
   "outputs": [],
   "source": [
    "#Load dataset\n",
    "cancer = datasets.load_breast_cancer()"
   ]
  },
  {
   "cell_type": "markdown",
   "metadata": {
    "id": "1xNarLHJy0wZ"
   },
   "source": [
    "### Exploring Data\n",
    "\n",
    "After you have loaded the dataset, you might want to know a little bit more about it. You can check feature and target names.\n",
    "\n"
   ]
  },
  {
   "cell_type": "code",
   "execution_count": 3,
   "metadata": {
    "colab": {
     "base_uri": "https://localhost:8080/",
     "height": 290
    },
    "executionInfo": {
     "elapsed": 10,
     "status": "ok",
     "timestamp": 1716081438237,
     "user": {
      "displayName": "Willian Macedo Rodrigues",
      "userId": "04289625524537895451"
     },
     "user_tz": 180
    },
    "id": "9Hjrioz31aB0",
    "outputId": "aa4a75f4-722d-40f0-fee0-86a74f826f2c"
   },
   "outputs": [
    {
     "data": {
      "application/vnd.google.colaboratory.intrinsic+json": {
       "type": "dataframe",
       "variable_name": "df_cancer"
      },
      "text/html": [
       "\n",
       "  <div id=\"df-e9d4cab6-368d-48cc-ae22-eeb21fd8253e\" class=\"colab-df-container\">\n",
       "    <div>\n",
       "<style scoped>\n",
       "    .dataframe tbody tr th:only-of-type {\n",
       "        vertical-align: middle;\n",
       "    }\n",
       "\n",
       "    .dataframe tbody tr th {\n",
       "        vertical-align: top;\n",
       "    }\n",
       "\n",
       "    .dataframe thead th {\n",
       "        text-align: right;\n",
       "    }\n",
       "</style>\n",
       "<table border=\"1\" class=\"dataframe\">\n",
       "  <thead>\n",
       "    <tr style=\"text-align: right;\">\n",
       "      <th></th>\n",
       "      <th>mean radius</th>\n",
       "      <th>mean texture</th>\n",
       "      <th>mean perimeter</th>\n",
       "      <th>mean area</th>\n",
       "      <th>mean smoothness</th>\n",
       "      <th>mean compactness</th>\n",
       "      <th>mean concavity</th>\n",
       "      <th>mean concave points</th>\n",
       "      <th>mean symmetry</th>\n",
       "      <th>mean fractal dimension</th>\n",
       "      <th>...</th>\n",
       "      <th>worst texture</th>\n",
       "      <th>worst perimeter</th>\n",
       "      <th>worst area</th>\n",
       "      <th>worst smoothness</th>\n",
       "      <th>worst compactness</th>\n",
       "      <th>worst concavity</th>\n",
       "      <th>worst concave points</th>\n",
       "      <th>worst symmetry</th>\n",
       "      <th>worst fractal dimension</th>\n",
       "      <th>CLASS</th>\n",
       "    </tr>\n",
       "  </thead>\n",
       "  <tbody>\n",
       "    <tr>\n",
       "      <th>0</th>\n",
       "      <td>17.99</td>\n",
       "      <td>10.38</td>\n",
       "      <td>122.80</td>\n",
       "      <td>1001.0</td>\n",
       "      <td>0.11840</td>\n",
       "      <td>0.27760</td>\n",
       "      <td>0.3001</td>\n",
       "      <td>0.14710</td>\n",
       "      <td>0.2419</td>\n",
       "      <td>0.07871</td>\n",
       "      <td>...</td>\n",
       "      <td>17.33</td>\n",
       "      <td>184.60</td>\n",
       "      <td>2019.0</td>\n",
       "      <td>0.1622</td>\n",
       "      <td>0.6656</td>\n",
       "      <td>0.7119</td>\n",
       "      <td>0.2654</td>\n",
       "      <td>0.4601</td>\n",
       "      <td>0.11890</td>\n",
       "      <td>0</td>\n",
       "    </tr>\n",
       "    <tr>\n",
       "      <th>1</th>\n",
       "      <td>20.57</td>\n",
       "      <td>17.77</td>\n",
       "      <td>132.90</td>\n",
       "      <td>1326.0</td>\n",
       "      <td>0.08474</td>\n",
       "      <td>0.07864</td>\n",
       "      <td>0.0869</td>\n",
       "      <td>0.07017</td>\n",
       "      <td>0.1812</td>\n",
       "      <td>0.05667</td>\n",
       "      <td>...</td>\n",
       "      <td>23.41</td>\n",
       "      <td>158.80</td>\n",
       "      <td>1956.0</td>\n",
       "      <td>0.1238</td>\n",
       "      <td>0.1866</td>\n",
       "      <td>0.2416</td>\n",
       "      <td>0.1860</td>\n",
       "      <td>0.2750</td>\n",
       "      <td>0.08902</td>\n",
       "      <td>0</td>\n",
       "    </tr>\n",
       "    <tr>\n",
       "      <th>2</th>\n",
       "      <td>19.69</td>\n",
       "      <td>21.25</td>\n",
       "      <td>130.00</td>\n",
       "      <td>1203.0</td>\n",
       "      <td>0.10960</td>\n",
       "      <td>0.15990</td>\n",
       "      <td>0.1974</td>\n",
       "      <td>0.12790</td>\n",
       "      <td>0.2069</td>\n",
       "      <td>0.05999</td>\n",
       "      <td>...</td>\n",
       "      <td>25.53</td>\n",
       "      <td>152.50</td>\n",
       "      <td>1709.0</td>\n",
       "      <td>0.1444</td>\n",
       "      <td>0.4245</td>\n",
       "      <td>0.4504</td>\n",
       "      <td>0.2430</td>\n",
       "      <td>0.3613</td>\n",
       "      <td>0.08758</td>\n",
       "      <td>0</td>\n",
       "    </tr>\n",
       "    <tr>\n",
       "      <th>3</th>\n",
       "      <td>11.42</td>\n",
       "      <td>20.38</td>\n",
       "      <td>77.58</td>\n",
       "      <td>386.1</td>\n",
       "      <td>0.14250</td>\n",
       "      <td>0.28390</td>\n",
       "      <td>0.2414</td>\n",
       "      <td>0.10520</td>\n",
       "      <td>0.2597</td>\n",
       "      <td>0.09744</td>\n",
       "      <td>...</td>\n",
       "      <td>26.50</td>\n",
       "      <td>98.87</td>\n",
       "      <td>567.7</td>\n",
       "      <td>0.2098</td>\n",
       "      <td>0.8663</td>\n",
       "      <td>0.6869</td>\n",
       "      <td>0.2575</td>\n",
       "      <td>0.6638</td>\n",
       "      <td>0.17300</td>\n",
       "      <td>0</td>\n",
       "    </tr>\n",
       "    <tr>\n",
       "      <th>4</th>\n",
       "      <td>20.29</td>\n",
       "      <td>14.34</td>\n",
       "      <td>135.10</td>\n",
       "      <td>1297.0</td>\n",
       "      <td>0.10030</td>\n",
       "      <td>0.13280</td>\n",
       "      <td>0.1980</td>\n",
       "      <td>0.10430</td>\n",
       "      <td>0.1809</td>\n",
       "      <td>0.05883</td>\n",
       "      <td>...</td>\n",
       "      <td>16.67</td>\n",
       "      <td>152.20</td>\n",
       "      <td>1575.0</td>\n",
       "      <td>0.1374</td>\n",
       "      <td>0.2050</td>\n",
       "      <td>0.4000</td>\n",
       "      <td>0.1625</td>\n",
       "      <td>0.2364</td>\n",
       "      <td>0.07678</td>\n",
       "      <td>0</td>\n",
       "    </tr>\n",
       "  </tbody>\n",
       "</table>\n",
       "<p>5 rows × 31 columns</p>\n",
       "</div>\n",
       "    <div class=\"colab-df-buttons\">\n",
       "\n",
       "  <div class=\"colab-df-container\">\n",
       "    <button class=\"colab-df-convert\" onclick=\"convertToInteractive('df-e9d4cab6-368d-48cc-ae22-eeb21fd8253e')\"\n",
       "            title=\"Convert this dataframe to an interactive table.\"\n",
       "            style=\"display:none;\">\n",
       "\n",
       "  <svg xmlns=\"http://www.w3.org/2000/svg\" height=\"24px\" viewBox=\"0 -960 960 960\">\n",
       "    <path d=\"M120-120v-720h720v720H120Zm60-500h600v-160H180v160Zm220 220h160v-160H400v160Zm0 220h160v-160H400v160ZM180-400h160v-160H180v160Zm440 0h160v-160H620v160ZM180-180h160v-160H180v160Zm440 0h160v-160H620v160Z\"/>\n",
       "  </svg>\n",
       "    </button>\n",
       "\n",
       "  <style>\n",
       "    .colab-df-container {\n",
       "      display:flex;\n",
       "      gap: 12px;\n",
       "    }\n",
       "\n",
       "    .colab-df-convert {\n",
       "      background-color: #E8F0FE;\n",
       "      border: none;\n",
       "      border-radius: 50%;\n",
       "      cursor: pointer;\n",
       "      display: none;\n",
       "      fill: #1967D2;\n",
       "      height: 32px;\n",
       "      padding: 0 0 0 0;\n",
       "      width: 32px;\n",
       "    }\n",
       "\n",
       "    .colab-df-convert:hover {\n",
       "      background-color: #E2EBFA;\n",
       "      box-shadow: 0px 1px 2px rgba(60, 64, 67, 0.3), 0px 1px 3px 1px rgba(60, 64, 67, 0.15);\n",
       "      fill: #174EA6;\n",
       "    }\n",
       "\n",
       "    .colab-df-buttons div {\n",
       "      margin-bottom: 4px;\n",
       "    }\n",
       "\n",
       "    [theme=dark] .colab-df-convert {\n",
       "      background-color: #3B4455;\n",
       "      fill: #D2E3FC;\n",
       "    }\n",
       "\n",
       "    [theme=dark] .colab-df-convert:hover {\n",
       "      background-color: #434B5C;\n",
       "      box-shadow: 0px 1px 3px 1px rgba(0, 0, 0, 0.15);\n",
       "      filter: drop-shadow(0px 1px 2px rgba(0, 0, 0, 0.3));\n",
       "      fill: #FFFFFF;\n",
       "    }\n",
       "  </style>\n",
       "\n",
       "    <script>\n",
       "      const buttonEl =\n",
       "        document.querySelector('#df-e9d4cab6-368d-48cc-ae22-eeb21fd8253e button.colab-df-convert');\n",
       "      buttonEl.style.display =\n",
       "        google.colab.kernel.accessAllowed ? 'block' : 'none';\n",
       "\n",
       "      async function convertToInteractive(key) {\n",
       "        const element = document.querySelector('#df-e9d4cab6-368d-48cc-ae22-eeb21fd8253e');\n",
       "        const dataTable =\n",
       "          await google.colab.kernel.invokeFunction('convertToInteractive',\n",
       "                                                    [key], {});\n",
       "        if (!dataTable) return;\n",
       "\n",
       "        const docLinkHtml = 'Like what you see? Visit the ' +\n",
       "          '<a target=\"_blank\" href=https://colab.research.google.com/notebooks/data_table.ipynb>data table notebook</a>'\n",
       "          + ' to learn more about interactive tables.';\n",
       "        element.innerHTML = '';\n",
       "        dataTable['output_type'] = 'display_data';\n",
       "        await google.colab.output.renderOutput(dataTable, element);\n",
       "        const docLink = document.createElement('div');\n",
       "        docLink.innerHTML = docLinkHtml;\n",
       "        element.appendChild(docLink);\n",
       "      }\n",
       "    </script>\n",
       "  </div>\n",
       "\n",
       "\n",
       "<div id=\"df-ba9b9796-5217-4488-af91-e91b0e5cd425\">\n",
       "  <button class=\"colab-df-quickchart\" onclick=\"quickchart('df-ba9b9796-5217-4488-af91-e91b0e5cd425')\"\n",
       "            title=\"Suggest charts\"\n",
       "            style=\"display:none;\">\n",
       "\n",
       "<svg xmlns=\"http://www.w3.org/2000/svg\" height=\"24px\"viewBox=\"0 0 24 24\"\n",
       "     width=\"24px\">\n",
       "    <g>\n",
       "        <path d=\"M19 3H5c-1.1 0-2 .9-2 2v14c0 1.1.9 2 2 2h14c1.1 0 2-.9 2-2V5c0-1.1-.9-2-2-2zM9 17H7v-7h2v7zm4 0h-2V7h2v10zm4 0h-2v-4h2v4z\"/>\n",
       "    </g>\n",
       "</svg>\n",
       "  </button>\n",
       "\n",
       "<style>\n",
       "  .colab-df-quickchart {\n",
       "      --bg-color: #E8F0FE;\n",
       "      --fill-color: #1967D2;\n",
       "      --hover-bg-color: #E2EBFA;\n",
       "      --hover-fill-color: #174EA6;\n",
       "      --disabled-fill-color: #AAA;\n",
       "      --disabled-bg-color: #DDD;\n",
       "  }\n",
       "\n",
       "  [theme=dark] .colab-df-quickchart {\n",
       "      --bg-color: #3B4455;\n",
       "      --fill-color: #D2E3FC;\n",
       "      --hover-bg-color: #434B5C;\n",
       "      --hover-fill-color: #FFFFFF;\n",
       "      --disabled-bg-color: #3B4455;\n",
       "      --disabled-fill-color: #666;\n",
       "  }\n",
       "\n",
       "  .colab-df-quickchart {\n",
       "    background-color: var(--bg-color);\n",
       "    border: none;\n",
       "    border-radius: 50%;\n",
       "    cursor: pointer;\n",
       "    display: none;\n",
       "    fill: var(--fill-color);\n",
       "    height: 32px;\n",
       "    padding: 0;\n",
       "    width: 32px;\n",
       "  }\n",
       "\n",
       "  .colab-df-quickchart:hover {\n",
       "    background-color: var(--hover-bg-color);\n",
       "    box-shadow: 0 1px 2px rgba(60, 64, 67, 0.3), 0 1px 3px 1px rgba(60, 64, 67, 0.15);\n",
       "    fill: var(--button-hover-fill-color);\n",
       "  }\n",
       "\n",
       "  .colab-df-quickchart-complete:disabled,\n",
       "  .colab-df-quickchart-complete:disabled:hover {\n",
       "    background-color: var(--disabled-bg-color);\n",
       "    fill: var(--disabled-fill-color);\n",
       "    box-shadow: none;\n",
       "  }\n",
       "\n",
       "  .colab-df-spinner {\n",
       "    border: 2px solid var(--fill-color);\n",
       "    border-color: transparent;\n",
       "    border-bottom-color: var(--fill-color);\n",
       "    animation:\n",
       "      spin 1s steps(1) infinite;\n",
       "  }\n",
       "\n",
       "  @keyframes spin {\n",
       "    0% {\n",
       "      border-color: transparent;\n",
       "      border-bottom-color: var(--fill-color);\n",
       "      border-left-color: var(--fill-color);\n",
       "    }\n",
       "    20% {\n",
       "      border-color: transparent;\n",
       "      border-left-color: var(--fill-color);\n",
       "      border-top-color: var(--fill-color);\n",
       "    }\n",
       "    30% {\n",
       "      border-color: transparent;\n",
       "      border-left-color: var(--fill-color);\n",
       "      border-top-color: var(--fill-color);\n",
       "      border-right-color: var(--fill-color);\n",
       "    }\n",
       "    40% {\n",
       "      border-color: transparent;\n",
       "      border-right-color: var(--fill-color);\n",
       "      border-top-color: var(--fill-color);\n",
       "    }\n",
       "    60% {\n",
       "      border-color: transparent;\n",
       "      border-right-color: var(--fill-color);\n",
       "    }\n",
       "    80% {\n",
       "      border-color: transparent;\n",
       "      border-right-color: var(--fill-color);\n",
       "      border-bottom-color: var(--fill-color);\n",
       "    }\n",
       "    90% {\n",
       "      border-color: transparent;\n",
       "      border-bottom-color: var(--fill-color);\n",
       "    }\n",
       "  }\n",
       "</style>\n",
       "\n",
       "  <script>\n",
       "    async function quickchart(key) {\n",
       "      const quickchartButtonEl =\n",
       "        document.querySelector('#' + key + ' button');\n",
       "      quickchartButtonEl.disabled = true;  // To prevent multiple clicks.\n",
       "      quickchartButtonEl.classList.add('colab-df-spinner');\n",
       "      try {\n",
       "        const charts = await google.colab.kernel.invokeFunction(\n",
       "            'suggestCharts', [key], {});\n",
       "      } catch (error) {\n",
       "        console.error('Error during call to suggestCharts:', error);\n",
       "      }\n",
       "      quickchartButtonEl.classList.remove('colab-df-spinner');\n",
       "      quickchartButtonEl.classList.add('colab-df-quickchart-complete');\n",
       "    }\n",
       "    (() => {\n",
       "      let quickchartButtonEl =\n",
       "        document.querySelector('#df-ba9b9796-5217-4488-af91-e91b0e5cd425 button');\n",
       "      quickchartButtonEl.style.display =\n",
       "        google.colab.kernel.accessAllowed ? 'block' : 'none';\n",
       "    })();\n",
       "  </script>\n",
       "</div>\n",
       "\n",
       "    </div>\n",
       "  </div>\n"
      ],
      "text/plain": [
       "   mean radius  mean texture  mean perimeter  mean area  mean smoothness  \\\n",
       "0        17.99         10.38          122.80     1001.0          0.11840   \n",
       "1        20.57         17.77          132.90     1326.0          0.08474   \n",
       "2        19.69         21.25          130.00     1203.0          0.10960   \n",
       "3        11.42         20.38           77.58      386.1          0.14250   \n",
       "4        20.29         14.34          135.10     1297.0          0.10030   \n",
       "\n",
       "   mean compactness  mean concavity  mean concave points  mean symmetry  \\\n",
       "0           0.27760          0.3001              0.14710         0.2419   \n",
       "1           0.07864          0.0869              0.07017         0.1812   \n",
       "2           0.15990          0.1974              0.12790         0.2069   \n",
       "3           0.28390          0.2414              0.10520         0.2597   \n",
       "4           0.13280          0.1980              0.10430         0.1809   \n",
       "\n",
       "   mean fractal dimension  ...  worst texture  worst perimeter  worst area  \\\n",
       "0                 0.07871  ...          17.33           184.60      2019.0   \n",
       "1                 0.05667  ...          23.41           158.80      1956.0   \n",
       "2                 0.05999  ...          25.53           152.50      1709.0   \n",
       "3                 0.09744  ...          26.50            98.87       567.7   \n",
       "4                 0.05883  ...          16.67           152.20      1575.0   \n",
       "\n",
       "   worst smoothness  worst compactness  worst concavity  worst concave points  \\\n",
       "0            0.1622             0.6656           0.7119                0.2654   \n",
       "1            0.1238             0.1866           0.2416                0.1860   \n",
       "2            0.1444             0.4245           0.4504                0.2430   \n",
       "3            0.2098             0.8663           0.6869                0.2575   \n",
       "4            0.1374             0.2050           0.4000                0.1625   \n",
       "\n",
       "   worst symmetry  worst fractal dimension  CLASS  \n",
       "0          0.4601                  0.11890      0  \n",
       "1          0.2750                  0.08902      0  \n",
       "2          0.3613                  0.08758      0  \n",
       "3          0.6638                  0.17300      0  \n",
       "4          0.2364                  0.07678      0  \n",
       "\n",
       "[5 rows x 31 columns]"
      ]
     },
     "execution_count": 3,
     "metadata": {},
     "output_type": "execute_result"
    }
   ],
   "source": [
    "# FEATURES\n",
    "df_cancer = pd.DataFrame(data=cancer.data, columns=cancer.feature_names)\n",
    "\n",
    "# CLASS / TARGET (0:Malign, 1:Benign)\n",
    "df_cancer['CLASS'] = cancer.target\n",
    "\n",
    "# print the cancer data features/target (top 5 records)\n",
    "df_cancer.head()"
   ]
  },
  {
   "cell_type": "code",
   "execution_count": 4,
   "metadata": {
    "colab": {
     "base_uri": "https://localhost:8080/"
    },
    "executionInfo": {
     "elapsed": 8,
     "status": "ok",
     "timestamp": 1716081438237,
     "user": {
      "displayName": "Willian Macedo Rodrigues",
      "userId": "04289625524537895451"
     },
     "user_tz": 180
    },
    "id": "VZvZLT0OzKpV",
    "outputId": "1b437ba9-ab9d-45c1-dcbc-5d632acac936"
   },
   "outputs": [
    {
     "data": {
      "text/plain": [
       "(569, 31)"
      ]
     },
     "execution_count": 4,
     "metadata": {},
     "output_type": "execute_result"
    }
   ],
   "source": [
    "# print data(feature)shape\n",
    "df_cancer.shape"
   ]
  },
  {
   "cell_type": "code",
   "execution_count": 5,
   "metadata": {
    "colab": {
     "base_uri": "https://localhost:8080/",
     "height": 987
    },
    "executionInfo": {
     "elapsed": 1668,
     "status": "ok",
     "timestamp": 1716081439899,
     "user": {
      "displayName": "Willian Macedo Rodrigues",
      "userId": "04289625524537895451"
     },
     "user_tz": 180
    },
    "id": "XLcrsc542xTB",
    "outputId": "97305ad7-c46c-41f3-c6cc-d87bef6ef775"
   },
   "outputs": [
    {
     "data": {
      "image/png": "[encoded data removed]",
      "text/plain": [
       "<Figure size 1000x1000 with 2 Axes>"
      ]
     },
     "metadata": {},
     "output_type": "display_data"
    }
   ],
   "source": [
    "f, ax = plt.subplots(figsize=(10, 10))\n",
    "#sns.heatmap(df, annot=True, fmt=\".3f\", linewidths=.5, ax=ax);\n",
    "\n",
    "sns.heatmap(df_cancer.corr(),  vmin=-1, vmax=1, cmap=\"Blues\");"
   ]
  },
  {
   "cell_type": "markdown",
   "metadata": {
    "id": "stVe_KthzfbP"
   },
   "source": [
    "### Splitting Data\n",
    "\n",
    "To understand model performance, dividing the dataset into a training set and a test set is a good strategy.\n",
    "\n",
    "Split the dataset by using the function train_test_split(). you need to pass 3 parameters features, target, and test_set size. Additionally, you can use random_state to select records randomly."
   ]
  },
  {
   "cell_type": "code",
   "execution_count": 6,
   "metadata": {
    "executionInfo": {
     "elapsed": 4,
     "status": "ok",
     "timestamp": 1716081439900,
     "user": {
      "displayName": "Willian Macedo Rodrigues",
      "userId": "04289625524537895451"
     },
     "user_tz": 180
    },
    "id": "A42PrkEMzazj"
   },
   "outputs": [],
   "source": [
    "\n",
    "# Dividir os dados em conjuntos de treino e teste\n",
    "# Isso ajuda a avaliar a capacidade de generalização dos modelos.\n",
    "X_train, X_test, y_train, y_test = train_test_split(X, y, test_size=0.2, random_state=42)\n",
    "X = df_cancer.drop(['CLASS'], axis=1)\n",
    "y = df_cancer['CLASS']\n",
    "\n",
    "# Split dataset into training set and test set\n",
    "# 70% training and 30% test\n",
    "X_train, X_test, \\\n",
    "y_train, y_test = train_test_split(X, y, train_size=0.75, random_state=42)"
   ]
  },
  {
   "cell_type": "markdown",
   "metadata": {
    "id": "lH4Z9qh0z82o"
   },
   "source": [
    "### Generating Model\n",
    "\n",
    "Let's build support vector machine model.\n",
    "\n",
    "First, import the SVM module and create support vector classifier object by passing argument kernel as the linear kernel in `SVC()` function.\n",
    "\n",
    "Then, fit your model on train set using `fit()` and perform prediction on the test set using predict()."
   ]
  },
  {
   "cell_type": "code",
   "execution_count": 7,
   "metadata": {
    "executionInfo": {
     "elapsed": 3,
     "status": "ok",
     "timestamp": 1716081439900,
     "user": {
      "displayName": "Willian Macedo Rodrigues",
      "userId": "04289625524537895451"
     },
     "user_tz": 180
    },
    "id": "NTu0ASuE9TuH"
   },
   "outputs": [],
   "source": [
    "# Padronizar/ Normalizar / Escalar os dados\n",
    "# COLOQUE O CÓDIGO AQUI\n",
    "#"
   ]
  },
  {
   "cell_type": "code",
   "execution_count": 8,
   "metadata": {
    "executionInfo": {
     "elapsed": 3,
     "status": "ok",
     "timestamp": 1716081439900,
     "user": {
      "displayName": "Willian Macedo Rodrigues",
      "userId": "04289625524537895451"
     },
     "user_tz": 180
    },
    "id": "CTYcBY44-Fq2"
   },
   "outputs": [],
   "source": [
    "#Create a svm Classifier\n",
    "clf_svm = svm.SVC(kernel='linear') # Linear Kernel"
   ]
  },
  {
   "cell_type": "code",
   "execution_count": 9,
   "metadata": {
    "colab": {
     "base_uri": "https://localhost:8080/",
     "height": 74
    },
    "executionInfo": {
     "elapsed": 2095,
     "status": "ok",
     "timestamp": 1716081441993,
     "user": {
      "displayName": "Willian Macedo Rodrigues",
      "userId": "04289625524537895451"
     },
     "user_tz": 180
    },
    "id": "-Y6q3EDU-Khh",
    "outputId": "1eaf07a6-acf5-4fac-fdb2-b71edda31cac"
   },
   "outputs": [
    {
     "data": {
      "text/html": [
       "<style>#sk-container-id-1 {color: black;background-color: white;}#sk-container-id-1 pre{padding: 0;}#sk-container-id-1 div.sk-toggleable {background-color: white;}#sk-container-id-1 label.sk-toggleable__label {cursor: pointer;display: block;width: 100%;margin-bottom: 0;padding: 0.3em;box-sizing: border-box;text-align: center;}#sk-container-id-1 label.sk-toggleable__label-arrow:before {content: \"▸\";float: left;margin-right: 0.25em;color: #696969;}#sk-container-id-1 label.sk-toggleable__label-arrow:hover:before {color: black;}#sk-container-id-1 div.sk-estimator:hover label.sk-toggleable__label-arrow:before {color: black;}#sk-container-id-1 div.sk-toggleable__content {max-height: 0;max-width: 0;overflow: hidden;text-align: left;background-color: #f0f8ff;}#sk-container-id-1 div.sk-toggleable__content pre {margin: 0.2em;color: black;border-radius: 0.25em;background-color: #f0f8ff;}#sk-container-id-1 input.sk-toggleable__control:checked~div.sk-toggleable__content {max-height: 200px;max-width: 100%;overflow: auto;}#sk-container-id-1 input.sk-toggleable__control:checked~label.sk-toggleable__label-arrow:before {content: \"▾\";}#sk-container-id-1 div.sk-estimator input.sk-toggleable__control:checked~label.sk-toggleable__label {background-color: #d4ebff;}#sk-container-id-1 div.sk-label input.sk-toggleable__control:checked~label.sk-toggleable__label {background-color: #d4ebff;}#sk-container-id-1 input.sk-hidden--visually {border: 0;clip: rect(1px 1px 1px 1px);clip: rect(1px, 1px, 1px, 1px);height: 1px;margin: -1px;overflow: hidden;padding: 0;position: absolute;width: 1px;}#sk-container-id-1 div.sk-estimator {font-family: monospace;background-color: #f0f8ff;border: 1px dotted black;border-radius: 0.25em;box-sizing: border-box;margin-bottom: 0.5em;}#sk-container-id-1 div.sk-estimator:hover {background-color: #d4ebff;}#sk-container-id-1 div.sk-parallel-item::after {content: \"\";width: 100%;border-bottom: 1px solid gray;flex-grow: 1;}#sk-container-id-1 div.sk-label:hover label.sk-toggleable__label {background-color: #d4ebff;}#sk-container-id-1 div.sk-serial::before {content: \"\";position: absolute;border-left: 1px solid gray;box-sizing: border-box;top: 0;bottom: 0;left: 50%;z-index: 0;}#sk-container-id-1 div.sk-serial {display: flex;flex-direction: column;align-items: center;background-color: white;padding-right: 0.2em;padding-left: 0.2em;position: relative;}#sk-container-id-1 div.sk-item {position: relative;z-index: 1;}#sk-container-id-1 div.sk-parallel {display: flex;align-items: stretch;justify-content: center;background-color: white;position: relative;}#sk-container-id-1 div.sk-item::before, #sk-container-id-1 div.sk-parallel-item::before {content: \"\";position: absolute;border-left: 1px solid gray;box-sizing: border-box;top: 0;bottom: 0;left: 50%;z-index: -1;}#sk-container-id-1 div.sk-parallel-item {display: flex;flex-direction: column;z-index: 1;position: relative;background-color: white;}#sk-container-id-1 div.sk-parallel-item:first-child::after {align-self: flex-end;width: 50%;}#sk-container-id-1 div.sk-parallel-item:last-child::after {align-self: flex-start;width: 50%;}#sk-container-id-1 div.sk-parallel-item:only-child::after {width: 0;}#sk-container-id-1 div.sk-dashed-wrapped {border: 1px dashed gray;margin: 0 0.4em 0.5em 0.4em;box-sizing: border-box;padding-bottom: 0.4em;background-color: white;}#sk-container-id-1 div.sk-label label {font-family: monospace;font-weight: bold;display: inline-block;line-height: 1.2em;}#sk-container-id-1 div.sk-label-container {text-align: center;}#sk-container-id-1 div.sk-container {/* jupyter's `normalize.less` sets `[hidden] { display: none; }` but bootstrap.min.css set `[hidden] { display: none !important; }` so we also need the `!important` here to be able to override the default hidden behavior on the sphinx rendered scikit-learn.org. See: https://github.com/scikit-learn/scikit-learn/issues/21755 */display: inline-block !important;position: relative;}#sk-container-id-1 div.sk-text-repr-fallback {display: none;}</style><div id=\"sk-container-id-1\" class=\"sk-top-container\"><div class=\"sk-text-repr-fallback\"><pre>SVC(kernel=&#x27;linear&#x27;)</pre><b>In a Jupyter environment, please rerun this cell to show the HTML representation or trust the notebook. <br />On GitHub, the HTML representation is unable to render, please try loading this page with nbviewer.org.</b></div><div class=\"sk-container\" hidden><div class=\"sk-item\"><div class=\"sk-estimator sk-toggleable\"><input class=\"sk-toggleable__control sk-hidden--visually\" id=\"sk-estimator-id-1\" type=\"checkbox\" checked><label for=\"sk-estimator-id-1\" class=\"sk-toggleable__label sk-toggleable__label-arrow\">SVC</label><div class=\"sk-toggleable__content\"><pre>SVC(kernel=&#x27;linear&#x27;)</pre></div></div></div></div></div>"
      ],
      "text/plain": [
       "SVC(kernel='linear')"
      ]
     },
     "execution_count": 9,
     "metadata": {},
     "output_type": "execute_result"
    }
   ],
   "source": [
    "#Train the model using the training sets\n",
    "clf_svm.fit(X_train, y_train)"
   ]
  },
  {
   "cell_type": "code",
   "execution_count": 10,
   "metadata": {
    "executionInfo": {
     "elapsed": 6,
     "status": "ok",
     "timestamp": 1716081441994,
     "user": {
      "displayName": "Willian Macedo Rodrigues",
      "userId": "04289625524537895451"
     },
     "user_tz": 180
    },
    "id": "65ct60JzzqmR"
   },
   "outputs": [],
   "source": [
    "#Predict the response for test dataset\n",
    "y_pred = clf_svm.predict(X_test)"
   ]
  },
  {
   "cell_type": "markdown",
   "metadata": {
    "id": "-Y9jB7ot0gK3"
   },
   "source": [
    "### Evaluating the Model\n",
    "\n",
    "Let's estimate how accurately the classifier or model can predict the breast cancer of patients.\n",
    "\n",
    "Accuracy can be computed by comparing actual test set values and predicted values."
   ]
  },
  {
   "cell_type": "code",
   "execution_count": 11,
   "metadata": {
    "colab": {
     "base_uri": "https://localhost:8080/"
    },
    "executionInfo": {
     "elapsed": 5,
     "status": "ok",
     "timestamp": 1716081441994,
     "user": {
      "displayName": "Willian Macedo Rodrigues",
      "userId": "04289625524537895451"
     },
     "user_tz": 180
    },
    "id": "VOwQ9CCd0TzV",
    "outputId": "59fafd26-9037-4b86-b1a0-72a6bc92a319"
   },
   "outputs": [
    {
     "name": "stdout",
     "output_type": "stream",
     "text": [
      "Accuracy: 0.958041958041958\n"
     ]
    }
   ],
   "source": [
    "# Model Accuracy: how often is the classifier correct?\n",
    "print(\"Accuracy:\", metrics.accuracy_score(y_test, y_pred))"
   ]
  },
  {
   "cell_type": "markdown",
   "metadata": {
    "id": "c6qNpQQ0_nsg"
   },
   "source": [
    "For further evaluation, we can also check **precision** and **recall** of model.\n",
    "\n"
   ]
  },
  {
   "cell_type": "code",
   "execution_count": 12,
   "metadata": {
    "colab": {
     "base_uri": "https://localhost:8080/"
    },
    "executionInfo": {
     "elapsed": 205,
     "status": "ok",
     "timestamp": 1716081442195,
     "user": {
      "displayName": "Willian Macedo Rodrigues",
      "userId": "04289625524537895451"
     },
     "user_tz": 180
    },
    "id": "46Rr7Sno-nza",
    "outputId": "985ca1f3-7792-415f-fa7f-d1fa509be671"
   },
   "outputs": [
    {
     "name": "stdout",
     "output_type": "stream",
     "text": [
      "Precision: 0.9560439560439561\n",
      "Recall: 0.9775280898876404\n"
     ]
    }
   ],
   "source": [
    "# Model Precision: what percentage of positive tuples are labeled as such?\n",
    "print(\"Precision:\", metrics.precision_score(y_test, y_pred))\n",
    "\n",
    "# Model Recall: what percentage of positive tuples are labelled as such?\n",
    "print(\"Recall:\", metrics.recall_score(y_test, y_pred))\n",
    "\n",
    "# CALCULAR A MEDIDA F1"
   ]
  },
  {
   "cell_type": "markdown",
   "metadata": {
    "id": "YYPDEWhe_R8u"
   },
   "source": [
    "### Testing another (RBF) Kernel"
   ]
  },
  {
   "cell_type": "code",
   "execution_count": 13,
   "metadata": {
    "executionInfo": {
     "elapsed": 7,
     "status": "ok",
     "timestamp": 1716081442195,
     "user": {
      "displayName": "Willian Macedo Rodrigues",
      "userId": "04289625524537895451"
     },
     "user_tz": 180
    },
    "id": "isqKoqdD-nzG"
   },
   "outputs": [],
   "source": [
    "#Create a svm Classifier\n",
    "clf_svm = svm.SVC(kernel='rbf')\n",
    "\n",
    "#Train the model using the training sets\n",
    "clf_svm.fit(X_train, y_train)\n",
    "\n",
    "#Predict the response for test dataset\n",
    "y_pred = clf_svm.predict(X_test)"
   ]
  },
  {
   "cell_type": "code",
   "execution_count": 14,
   "metadata": {
    "colab": {
     "base_uri": "https://localhost:8080/"
    },
    "executionInfo": {
     "elapsed": 6,
     "status": "ok",
     "timestamp": 1716081442195,
     "user": {
      "displayName": "Willian Macedo Rodrigues",
      "userId": "04289625524537895451"
     },
     "user_tz": 180
    },
    "id": "ZqGKo8u1-nzi",
    "outputId": "e11d9b5c-edf4-42bc-bf31-6b859d660157"
   },
   "outputs": [
    {
     "name": "stdout",
     "output_type": "stream",
     "text": [
      "Accuracy: 0.951048951048951\n",
      "Precision: 0.9361702127659575\n",
      "Recall: 0.9887640449438202\n"
     ]
    }
   ],
   "source": [
    "# Model Accuracy: how often is the classifier correct?\n",
    "print(\"Accuracy:\", metrics.accuracy_score(y_test, y_pred))\n",
    "\n",
    "# Model Precision: what percentage of positive tuples are labeled as such?\n",
    "print(\"Precision:\", metrics.precision_score(y_test, y_pred))\n",
    "\n",
    "# Model Recall: what percentage of positive tuples are labelled as such?\n",
    "print(\"Recall:\", metrics.recall_score(y_test, y_pred))"
   ]
  },
  {
   "cell_type": "markdown",
   "metadata": {
    "id": "Ra2cCy8IGBaG"
   },
   "source": [
    "### CROSS-VALIDATION"
   ]
  },
  {
   "cell_type": "markdown",
   "metadata": {
    "id": "f_FraNo5F_ju"
   },
   "source": [
    "Performing cross validation to find the best hyperparameters(C, $\\gamma$ (gamma)), kernels & finding accuracy on training data:"
   ]
  },
  {
   "cell_type": "code",
   "execution_count": 15,
   "metadata": {
    "executionInfo": {
     "elapsed": 3,
     "status": "ok",
     "timestamp": 1716081442195,
     "user": {
      "displayName": "Willian Macedo Rodrigues",
      "userId": "04289625524537895451"
     },
     "user_tz": 180
    },
    "id": "TdCMUT2nHBMD"
   },
   "outputs": [],
   "source": [
    "from sklearn.model_selection import GridSearchCV"
   ]
  },
  {
   "cell_type": "code",
   "execution_count": 16,
   "metadata": {
    "executionInfo": {
     "elapsed": 4,
     "status": "ok",
     "timestamp": 1716081442196,
     "user": {
      "displayName": "Willian Macedo Rodrigues",
      "userId": "04289625524537895451"
     },
     "user_tz": 180
    },
    "id": "X5QDpLvKHVeN"
   },
   "outputs": [],
   "source": [
    "import time"
   ]
  },
  {
   "cell_type": "code",
   "execution_count": 17,
   "metadata": {
    "executionInfo": {
     "elapsed": 3,
     "status": "ok",
     "timestamp": 1716081442196,
     "user": {
      "displayName": "Willian Macedo Rodrigues",
      "userId": "04289625524537895451"
     },
     "user_tz": 180
    },
    "id": "r4y2fZKjH4Av"
   },
   "outputs": [],
   "source": [
    "param_grid = [{'kernel':['linear'],\n",
    "                    'C':[0.001, 0.1, 1, 10, 100]},\n",
    "              {'kernel':['rbf'],\n",
    "                    'C': [0.001, 0.1, 1, 10, 100],\n",
    "                    'gamma': [0.5, 5, 10, 50, 100]}]"
   ]
  },
  {
   "cell_type": "code",
   "execution_count": 18,
   "metadata": {
    "executionInfo": {
     "elapsed": 169,
     "status": "ok",
     "timestamp": 1716081442362,
     "user": {
      "displayName": "Willian Macedo Rodrigues",
      "userId": "04289625524537895451"
     },
     "user_tz": 180
    },
    "id": "yPIE61C-RJpb"
   },
   "outputs": [],
   "source": [
    "# Se quiser utilizar outros scores:\n",
    "# https://scikit-learn.org/stable/modules/model_evaluation.html"
   ]
  },
  {
   "cell_type": "code",
   "execution_count": 19,
   "metadata": {
    "executionInfo": {
     "elapsed": 3,
     "status": "ok",
     "timestamp": 1716081442362,
     "user": {
      "displayName": "Willian Macedo Rodrigues",
      "userId": "04289625524537895451"
     },
     "user_tz": 180
    },
    "id": "J2m0qN7Vtt7z"
   },
   "outputs": [],
   "source": [
    "clf_svm = svm.SVC()"
   ]
  },
  {
   "cell_type": "code",
   "execution_count": 20,
   "metadata": {
    "colab": {
     "base_uri": "https://localhost:8080/"
    },
    "executionInfo": {
     "elapsed": 81167,
     "status": "ok",
     "timestamp": 1716081523526,
     "user": {
      "displayName": "Willian Macedo Rodrigues",
      "userId": "04289625524537895451"
     },
     "user_tz": 180
    },
    "id": "Yd9_rDwrGF_r",
    "outputId": "969abf96-4a13-4164-e0bb-7c3e77df1c47"
   },
   "outputs": [
    {
     "name": "stdout",
     "output_type": "stream",
     "text": [
      "Fitting 5 folds for each of 30 candidates, totalling 150 fits\n",
      "[CV 1/5] END ............C=0.001, kernel=linear;, score=0.965 total time=   0.0s\n",
      "[CV 2/5] END ............C=0.001, kernel=linear;, score=0.906 total time=   0.0s\n",
      "[CV 3/5] END ............C=0.001, kernel=linear;, score=0.988 total time=   0.0s\n",
      "[CV 4/5] END ............C=0.001, kernel=linear;, score=0.918 total time=   0.0s\n",
      "[CV 5/5] END ............C=0.001, kernel=linear;, score=0.906 total time=   0.0s\n",
      "[CV 1/5] END ..............C=0.1, kernel=linear;, score=0.953 total time=   1.4s\n",
      "[CV 2/5] END ..............C=0.1, kernel=linear;, score=0.929 total time=   0.3s\n",
      "[CV 3/5] END ..............C=0.1, kernel=linear;, score=0.988 total time=   0.9s\n",
      "[CV 4/5] END ..............C=0.1, kernel=linear;, score=0.941 total time=   0.4s\n",
      "[CV 5/5] END ..............C=0.1, kernel=linear;, score=0.906 total time=   0.2s\n",
      "[CV 1/5] END ................C=1, kernel=linear;, score=0.965 total time=   3.9s\n",
      "[CV 2/5] END ................C=1, kernel=linear;, score=0.929 total time=   2.6s\n",
      "[CV 3/5] END ................C=1, kernel=linear;, score=0.976 total time=   3.2s\n",
      "[CV 4/5] END ................C=1, kernel=linear;, score=0.953 total time=   3.5s\n",
      "[CV 5/5] END ................C=1, kernel=linear;, score=0.918 total time=   3.1s\n",
      "[CV 1/5] END ...............C=10, kernel=linear;, score=0.965 total time=   5.8s\n",
      "[CV 2/5] END ...............C=10, kernel=linear;, score=0.965 total time=   3.0s\n",
      "[CV 3/5] END ...............C=10, kernel=linear;, score=0.976 total time=   5.1s\n",
      "[CV 4/5] END ...............C=10, kernel=linear;, score=0.988 total time=   4.8s\n",
      "[CV 5/5] END ...............C=10, kernel=linear;, score=0.929 total time=   1.0s\n",
      "[CV 1/5] END ..............C=100, kernel=linear;, score=0.977 total time=   2.6s\n",
      "[CV 2/5] END ..............C=100, kernel=linear;, score=0.953 total time=   8.4s\n",
      "[CV 3/5] END ..............C=100, kernel=linear;, score=0.976 total time=   7.0s\n",
      "[CV 4/5] END ..............C=100, kernel=linear;, score=0.965 total time=   7.7s\n",
      "[CV 5/5] END ..............C=100, kernel=linear;, score=0.906 total time=  12.1s\n",
      "[CV 1/5] END ....C=0.001, gamma=0.5, kernel=rbf;, score=0.628 total time=   0.0s\n",
      "[CV 2/5] END ....C=0.001, gamma=0.5, kernel=rbf;, score=0.635 total time=   0.0s\n",
      "[CV 3/5] END ....C=0.001, gamma=0.5, kernel=rbf;, score=0.635 total time=   0.0s\n",
      "[CV 4/5] END ....C=0.001, gamma=0.5, kernel=rbf;, score=0.624 total time=   0.0s\n",
      "[CV 5/5] END ....C=0.001, gamma=0.5, kernel=rbf;, score=0.624 total time=   0.0s\n",
      "[CV 1/5] END ......C=0.001, gamma=5, kernel=rbf;, score=0.628 total time=   0.0s\n",
      "[CV 2/5] END ......C=0.001, gamma=5, kernel=rbf;, score=0.635 total time=   0.0s\n",
      "[CV 3/5] END ......C=0.001, gamma=5, kernel=rbf;, score=0.635 total time=   0.0s\n",
      "[CV 4/5] END ......C=0.001, gamma=5, kernel=rbf;, score=0.624 total time=   0.0s\n",
      "[CV 5/5] END ......C=0.001, gamma=5, kernel=rbf;, score=0.624 total time=   0.0s\n",
      "[CV 1/5] END .....C=0.001, gamma=10, kernel=rbf;, score=0.628 total time=   0.0s\n",
      "[CV 2/5] END .....C=0.001, gamma=10, kernel=rbf;, score=0.635 total time=   0.0s\n",
      "[CV 3/5] END .....C=0.001, gamma=10, kernel=rbf;, score=0.635 total time=   0.0s\n",
      "[CV 4/5] END .....C=0.001, gamma=10, kernel=rbf;, score=0.624 total time=   0.0s\n",
      "[CV 5/5] END .....C=0.001, gamma=10, kernel=rbf;, score=0.624 total time=   0.0s\n",
      "[CV 1/5] END .....C=0.001, gamma=50, kernel=rbf;, score=0.628 total time=   0.0s\n",
      "[CV 2/5] END .....C=0.001, gamma=50, kernel=rbf;, score=0.635 total time=   0.0s\n",
      "[CV 3/5] END .....C=0.001, gamma=50, kernel=rbf;, score=0.635 total time=   0.0s\n",
      "[CV 4/5] END .....C=0.001, gamma=50, kernel=rbf;, score=0.624 total time=   0.0s\n",
      "[CV 5/5] END .....C=0.001, gamma=50, kernel=rbf;, score=0.624 total time=   0.0s\n",
      "[CV 1/5] END ....C=0.001, gamma=100, kernel=rbf;, score=0.628 total time=   0.0s\n",
      "[CV 2/5] END ....C=0.001, gamma=100, kernel=rbf;, score=0.635 total time=   0.0s\n",
      "[CV 3/5] END ....C=0.001, gamma=100, kernel=rbf;, score=0.635 total time=   0.0s\n",
      "[CV 4/5] END ....C=0.001, gamma=100, kernel=rbf;, score=0.624 total time=   0.0s\n",
      "[CV 5/5] END ....C=0.001, gamma=100, kernel=rbf;, score=0.624 total time=   0.0s\n",
      "[CV 1/5] END ......C=0.1, gamma=0.5, kernel=rbf;, score=0.628 total time=   0.0s\n",
      "[CV 2/5] END ......C=0.1, gamma=0.5, kernel=rbf;, score=0.635 total time=   0.0s\n",
      "[CV 3/5] END ......C=0.1, gamma=0.5, kernel=rbf;, score=0.635 total time=   0.0s\n",
      "[CV 4/5] END ......C=0.1, gamma=0.5, kernel=rbf;, score=0.624 total time=   0.0s\n",
      "[CV 5/5] END ......C=0.1, gamma=0.5, kernel=rbf;, score=0.624 total time=   0.0s\n",
      "[CV 1/5] END ........C=0.1, gamma=5, kernel=rbf;, score=0.628 total time=   0.0s\n",
      "[CV 2/5] END ........C=0.1, gamma=5, kernel=rbf;, score=0.635 total time=   0.0s\n",
      "[CV 3/5] END ........C=0.1, gamma=5, kernel=rbf;, score=0.635 total time=   0.0s\n",
      "[CV 4/5] END ........C=0.1, gamma=5, kernel=rbf;, score=0.624 total time=   0.0s\n",
      "[CV 5/5] END ........C=0.1, gamma=5, kernel=rbf;, score=0.624 total time=   0.0s\n",
      "[CV 1/5] END .......C=0.1, gamma=10, kernel=rbf;, score=0.628 total time=   0.0s\n",
      "[CV 2/5] END .......C=0.1, gamma=10, kernel=rbf;, score=0.635 total time=   0.0s\n",
      "[CV 3/5] END .......C=0.1, gamma=10, kernel=rbf;, score=0.635 total time=   0.0s\n",
      "[CV 4/5] END .......C=0.1, gamma=10, kernel=rbf;, score=0.624 total time=   0.0s\n",
      "[CV 5/5] END .......C=0.1, gamma=10, kernel=rbf;, score=0.624 total time=   0.0s\n",
      "[CV 1/5] END .......C=0.1, gamma=50, kernel=rbf;, score=0.628 total time=   0.0s\n",
      "[CV 2/5] END .......C=0.1, gamma=50, kernel=rbf;, score=0.635 total time=   0.0s\n",
      "[CV 3/5] END .......C=0.1, gamma=50, kernel=rbf;, score=0.635 total time=   0.0s\n",
      "[CV 4/5] END .......C=0.1, gamma=50, kernel=rbf;, score=0.624 total time=   0.0s\n",
      "[CV 5/5] END .......C=0.1, gamma=50, kernel=rbf;, score=0.624 total time=   0.0s\n",
      "[CV 1/5] END ......C=0.1, gamma=100, kernel=rbf;, score=0.628 total time=   0.0s\n",
      "[CV 2/5] END ......C=0.1, gamma=100, kernel=rbf;, score=0.635 total time=   0.0s\n",
      "[CV 3/5] END ......C=0.1, gamma=100, kernel=rbf;, score=0.635 total time=   0.0s\n",
      "[CV 4/5] END ......C=0.1, gamma=100, kernel=rbf;, score=0.624 total time=   0.0s\n",
      "[CV 5/5] END ......C=0.1, gamma=100, kernel=rbf;, score=0.624 total time=   0.0s\n",
      "[CV 1/5] END ........C=1, gamma=0.5, kernel=rbf;, score=0.628 total time=   0.0s\n",
      "[CV 2/5] END ........C=1, gamma=0.5, kernel=rbf;, score=0.635 total time=   0.0s\n",
      "[CV 3/5] END ........C=1, gamma=0.5, kernel=rbf;, score=0.635 total time=   0.0s\n",
      "[CV 4/5] END ........C=1, gamma=0.5, kernel=rbf;, score=0.624 total time=   0.0s\n",
      "[CV 5/5] END ........C=1, gamma=0.5, kernel=rbf;, score=0.624 total time=   0.0s\n",
      "[CV 1/5] END ..........C=1, gamma=5, kernel=rbf;, score=0.628 total time=   0.0s\n",
      "[CV 2/5] END ..........C=1, gamma=5, kernel=rbf;, score=0.635 total time=   0.0s\n",
      "[CV 3/5] END ..........C=1, gamma=5, kernel=rbf;, score=0.635 total time=   0.0s\n",
      "[CV 4/5] END ..........C=1, gamma=5, kernel=rbf;, score=0.624 total time=   0.0s\n",
      "[CV 5/5] END ..........C=1, gamma=5, kernel=rbf;, score=0.624 total time=   0.0s\n",
      "[CV 1/5] END .........C=1, gamma=10, kernel=rbf;, score=0.628 total time=   0.0s\n",
      "[CV 2/5] END .........C=1, gamma=10, kernel=rbf;, score=0.635 total time=   0.0s\n",
      "[CV 3/5] END .........C=1, gamma=10, kernel=rbf;, score=0.635 total time=   0.0s\n",
      "[CV 4/5] END .........C=1, gamma=10, kernel=rbf;, score=0.624 total time=   0.0s\n",
      "[CV 5/5] END .........C=1, gamma=10, kernel=rbf;, score=0.624 total time=   0.0s\n",
      "[CV 1/5] END .........C=1, gamma=50, kernel=rbf;, score=0.628 total time=   0.0s\n",
      "[CV 2/5] END .........C=1, gamma=50, kernel=rbf;, score=0.635 total time=   0.0s\n",
      "[CV 3/5] END .........C=1, gamma=50, kernel=rbf;, score=0.635 total time=   0.0s\n",
      "[CV 4/5] END .........C=1, gamma=50, kernel=rbf;, score=0.624 total time=   0.0s\n",
      "[CV 5/5] END .........C=1, gamma=50, kernel=rbf;, score=0.624 total time=   0.0s\n",
      "[CV 1/5] END ........C=1, gamma=100, kernel=rbf;, score=0.628 total time=   0.0s\n",
      "[CV 2/5] END ........C=1, gamma=100, kernel=rbf;, score=0.635 total time=   0.0s\n",
      "[CV 3/5] END ........C=1, gamma=100, kernel=rbf;, score=0.635 total time=   0.0s\n",
      "[CV 4/5] END ........C=1, gamma=100, kernel=rbf;, score=0.624 total time=   0.0s\n",
      "[CV 5/5] END ........C=1, gamma=100, kernel=rbf;, score=0.624 total time=   0.0s\n",
      "[CV 1/5] END .......C=10, gamma=0.5, kernel=rbf;, score=0.628 total time=   0.0s\n",
      "[CV 2/5] END .......C=10, gamma=0.5, kernel=rbf;, score=0.635 total time=   0.0s\n",
      "[CV 3/5] END .......C=10, gamma=0.5, kernel=rbf;, score=0.635 total time=   0.0s\n",
      "[CV 4/5] END .......C=10, gamma=0.5, kernel=rbf;, score=0.624 total time=   0.0s\n",
      "[CV 5/5] END .......C=10, gamma=0.5, kernel=rbf;, score=0.624 total time=   0.0s\n",
      "[CV 1/5] END .........C=10, gamma=5, kernel=rbf;, score=0.628 total time=   0.0s\n",
      "[CV 2/5] END .........C=10, gamma=5, kernel=rbf;, score=0.635 total time=   0.0s\n",
      "[CV 3/5] END .........C=10, gamma=5, kernel=rbf;, score=0.635 total time=   0.0s\n",
      "[CV 4/5] END .........C=10, gamma=5, kernel=rbf;, score=0.624 total time=   0.0s\n",
      "[CV 5/5] END .........C=10, gamma=5, kernel=rbf;, score=0.624 total time=   0.0s\n",
      "[CV 1/5] END ........C=10, gamma=10, kernel=rbf;, score=0.628 total time=   0.0s\n",
      "[CV 2/5] END ........C=10, gamma=10, kernel=rbf;, score=0.635 total time=   0.0s\n",
      "[CV 3/5] END ........C=10, gamma=10, kernel=rbf;, score=0.635 total time=   0.0s\n",
      "[CV 4/5] END ........C=10, gamma=10, kernel=rbf;, score=0.624 total time=   0.0s\n",
      "[CV 5/5] END ........C=10, gamma=10, kernel=rbf;, score=0.624 total time=   0.0s\n",
      "[CV 1/5] END ........C=10, gamma=50, kernel=rbf;, score=0.628 total time=   0.0s\n",
      "[CV 2/5] END ........C=10, gamma=50, kernel=rbf;, score=0.635 total time=   0.0s\n",
      "[CV 3/5] END ........C=10, gamma=50, kernel=rbf;, score=0.635 total time=   0.0s\n",
      "[CV 4/5] END ........C=10, gamma=50, kernel=rbf;, score=0.624 total time=   0.0s\n",
      "[CV 5/5] END ........C=10, gamma=50, kernel=rbf;, score=0.624 total time=   0.0s\n",
      "[CV 1/5] END .......C=10, gamma=100, kernel=rbf;, score=0.628 total time=   0.0s\n",
      "[CV 2/5] END .......C=10, gamma=100, kernel=rbf;, score=0.635 total time=   0.0s\n",
      "[CV 3/5] END .......C=10, gamma=100, kernel=rbf;, score=0.635 total time=   0.0s\n",
      "[CV 4/5] END .......C=10, gamma=100, kernel=rbf;, score=0.624 total time=   0.0s\n",
      "[CV 5/5] END .......C=10, gamma=100, kernel=rbf;, score=0.624 total time=   0.0s\n",
      "[CV 1/5] END ......C=100, gamma=0.5, kernel=rbf;, score=0.628 total time=   0.0s\n",
      "[CV 2/5] END ......C=100, gamma=0.5, kernel=rbf;, score=0.635 total time=   0.0s\n",
      "[CV 3/5] END ......C=100, gamma=0.5, kernel=rbf;, score=0.635 total time=   0.0s\n",
      "[CV 4/5] END ......C=100, gamma=0.5, kernel=rbf;, score=0.624 total time=   0.0s\n",
      "[CV 5/5] END ......C=100, gamma=0.5, kernel=rbf;, score=0.624 total time=   0.0s\n",
      "[CV 1/5] END ........C=100, gamma=5, kernel=rbf;, score=0.628 total time=   0.0s\n",
      "[CV 2/5] END ........C=100, gamma=5, kernel=rbf;, score=0.635 total time=   0.0s\n",
      "[CV 3/5] END ........C=100, gamma=5, kernel=rbf;, score=0.635 total time=   0.0s\n",
      "[CV 4/5] END ........C=100, gamma=5, kernel=rbf;, score=0.624 total time=   0.0s\n",
      "[CV 5/5] END ........C=100, gamma=5, kernel=rbf;, score=0.624 total time=   0.0s\n",
      "[CV 1/5] END .......C=100, gamma=10, kernel=rbf;, score=0.628 total time=   0.0s\n",
      "[CV 2/5] END .......C=100, gamma=10, kernel=rbf;, score=0.635 total time=   0.0s\n",
      "[CV 3/5] END .......C=100, gamma=10, kernel=rbf;, score=0.635 total time=   0.0s\n",
      "[CV 4/5] END .......C=100, gamma=10, kernel=rbf;, score=0.624 total time=   0.0s\n",
      "[CV 5/5] END .......C=100, gamma=10, kernel=rbf;, score=0.624 total time=   0.0s\n",
      "[CV 1/5] END .......C=100, gamma=50, kernel=rbf;, score=0.628 total time=   0.0s\n",
      "[CV 2/5] END .......C=100, gamma=50, kernel=rbf;, score=0.635 total time=   0.0s\n",
      "[CV 3/5] END .......C=100, gamma=50, kernel=rbf;, score=0.635 total time=   0.0s\n",
      "[CV 4/5] END .......C=100, gamma=50, kernel=rbf;, score=0.624 total time=   0.0s\n",
      "[CV 5/5] END .......C=100, gamma=50, kernel=rbf;, score=0.624 total time=   0.0s\n",
      "[CV 1/5] END ......C=100, gamma=100, kernel=rbf;, score=0.628 total time=   0.0s\n",
      "[CV 2/5] END ......C=100, gamma=100, kernel=rbf;, score=0.635 total time=   0.0s\n",
      "[CV 3/5] END ......C=100, gamma=100, kernel=rbf;, score=0.635 total time=   0.0s\n",
      "[CV 4/5] END ......C=100, gamma=100, kernel=rbf;, score=0.624 total time=   0.0s\n",
      "[CV 5/5] END ......C=100, gamma=100, kernel=rbf;, score=0.624 total time=   0.0s\n",
      "Time required: 81.149(s)\n"
     ]
    }
   ],
   "source": [
    "start = time.time()\n",
    "\n",
    "gsvm = GridSearchCV(clf_svm, param_grid, cv=5, verbose=8, ) #, scoring='f1', n_jobs=5)\n",
    "gsvm.fit(X_train,y_train)\n",
    "\n",
    "end = time.time()\n",
    "\n",
    "print(\"Time required: %.3f(s)\" % (end-start))"
   ]
  },
  {
   "cell_type": "code",
   "execution_count": 21,
   "metadata": {
    "colab": {
     "base_uri": "https://localhost:8080/"
    },
    "executionInfo": {
     "elapsed": 19,
     "status": "ok",
     "timestamp": 1716081523526,
     "user": {
      "displayName": "Willian Macedo Rodrigues",
      "userId": "04289625524537895451"
     },
     "user_tz": 180
    },
    "id": "Of6QlPLSHxSs",
    "outputId": "dcbc470e-d8fd-4e57-f85f-2cf79fd6c6ca"
   },
   "outputs": [
    {
     "name": "stdout",
     "output_type": "stream",
     "text": [
      "Best HyperParameter:  {'C': 10, 'kernel': 'linear'}\n",
      "Best Accuracy: 96.48%\n"
     ]
    }
   ],
   "source": [
    "print(\"Best HyperParameter: \", gsvm.best_params_)\n",
    "print(\"Best Accuracy: %.2f%%\" % (gsvm.best_score_*100))"
   ]
  },
  {
   "cell_type": "code",
   "execution_count": 22,
   "metadata": {
    "executionInfo": {
     "elapsed": 17,
     "status": "ok",
     "timestamp": 1716081523526,
     "user": {
      "displayName": "Willian Macedo Rodrigues",
      "userId": "04289625524537895451"
     },
     "user_tz": 180
    },
    "id": "idZP6xcPAWOp"
   },
   "outputs": [],
   "source": [
    "# @title\n",
    "# REPITAM O PROCESSO PARA RECALL PRECISION E F1\n",
    "#"
   ]
  },
  {
   "cell_type": "markdown",
   "metadata": {
    "id": "rULsELF8LaAd"
   },
   "source": [
    "Appying model on testing data and finding accuracy on it.\n"
   ]
  },
  {
   "cell_type": "code",
   "execution_count": 23,
   "metadata": {
    "colab": {
     "base_uri": "https://localhost:8080/",
     "height": 74
    },
    "executionInfo": {
     "elapsed": 18,
     "status": "ok",
     "timestamp": 1716081523527,
     "user": {
      "displayName": "Willian Macedo Rodrigues",
      "userId": "04289625524537895451"
     },
     "user_tz": 180
    },
    "id": "PnzyFYlyLkpq",
    "outputId": "23489951-353d-4b84-b70f-be9d6ad113e9"
   },
   "outputs": [
    {
     "data": {
      "text/html": [
       "<style>#sk-container-id-2 {color: black;background-color: white;}#sk-container-id-2 pre{padding: 0;}#sk-container-id-2 div.sk-toggleable {background-color: white;}#sk-container-id-2 label.sk-toggleable__label {cursor: pointer;display: block;width: 100%;margin-bottom: 0;padding: 0.3em;box-sizing: border-box;text-align: center;}#sk-container-id-2 label.sk-toggleable__label-arrow:before {content: \"▸\";float: left;margin-right: 0.25em;color: #696969;}#sk-container-id-2 label.sk-toggleable__label-arrow:hover:before {color: black;}#sk-container-id-2 div.sk-estimator:hover label.sk-toggleable__label-arrow:before {color: black;}#sk-container-id-2 div.sk-toggleable__content {max-height: 0;max-width: 0;overflow: hidden;text-align: left;background-color: #f0f8ff;}#sk-container-id-2 div.sk-toggleable__content pre {margin: 0.2em;color: black;border-radius: 0.25em;background-color: #f0f8ff;}#sk-container-id-2 input.sk-toggleable__control:checked~div.sk-toggleable__content {max-height: 200px;max-width: 100%;overflow: auto;}#sk-container-id-2 input.sk-toggleable__control:checked~label.sk-toggleable__label-arrow:before {content: \"▾\";}#sk-container-id-2 div.sk-estimator input.sk-toggleable__control:checked~label.sk-toggleable__label {background-color: #d4ebff;}#sk-container-id-2 div.sk-label input.sk-toggleable__control:checked~label.sk-toggleable__label {background-color: #d4ebff;}#sk-container-id-2 input.sk-hidden--visually {border: 0;clip: rect(1px 1px 1px 1px);clip: rect(1px, 1px, 1px, 1px);height: 1px;margin: -1px;overflow: hidden;padding: 0;position: absolute;width: 1px;}#sk-container-id-2 div.sk-estimator {font-family: monospace;background-color: #f0f8ff;border: 1px dotted black;border-radius: 0.25em;box-sizing: border-box;margin-bottom: 0.5em;}#sk-container-id-2 div.sk-estimator:hover {background-color: #d4ebff;}#sk-container-id-2 div.sk-parallel-item::after {content: \"\";width: 100%;border-bottom: 1px solid gray;flex-grow: 1;}#sk-container-id-2 div.sk-label:hover label.sk-toggleable__label {background-color: #d4ebff;}#sk-container-id-2 div.sk-serial::before {content: \"\";position: absolute;border-left: 1px solid gray;box-sizing: border-box;top: 0;bottom: 0;left: 50%;z-index: 0;}#sk-container-id-2 div.sk-serial {display: flex;flex-direction: column;align-items: center;background-color: white;padding-right: 0.2em;padding-left: 0.2em;position: relative;}#sk-container-id-2 div.sk-item {position: relative;z-index: 1;}#sk-container-id-2 div.sk-parallel {display: flex;align-items: stretch;justify-content: center;background-color: white;position: relative;}#sk-container-id-2 div.sk-item::before, #sk-container-id-2 div.sk-parallel-item::before {content: \"\";position: absolute;border-left: 1px solid gray;box-sizing: border-box;top: 0;bottom: 0;left: 50%;z-index: -1;}#sk-container-id-2 div.sk-parallel-item {display: flex;flex-direction: column;z-index: 1;position: relative;background-color: white;}#sk-container-id-2 div.sk-parallel-item:first-child::after {align-self: flex-end;width: 50%;}#sk-container-id-2 div.sk-parallel-item:last-child::after {align-self: flex-start;width: 50%;}#sk-container-id-2 div.sk-parallel-item:only-child::after {width: 0;}#sk-container-id-2 div.sk-dashed-wrapped {border: 1px dashed gray;margin: 0 0.4em 0.5em 0.4em;box-sizing: border-box;padding-bottom: 0.4em;background-color: white;}#sk-container-id-2 div.sk-label label {font-family: monospace;font-weight: bold;display: inline-block;line-height: 1.2em;}#sk-container-id-2 div.sk-label-container {text-align: center;}#sk-container-id-2 div.sk-container {/* jupyter's `normalize.less` sets `[hidden] { display: none; }` but bootstrap.min.css set `[hidden] { display: none !important; }` so we also need the `!important` here to be able to override the default hidden behavior on the sphinx rendered scikit-learn.org. See: https://github.com/scikit-learn/scikit-learn/issues/21755 */display: inline-block !important;position: relative;}#sk-container-id-2 div.sk-text-repr-fallback {display: none;}</style><div id=\"sk-container-id-2\" class=\"sk-top-container\"><div class=\"sk-text-repr-fallback\"><pre>SVC(C=10, kernel=&#x27;linear&#x27;)</pre><b>In a Jupyter environment, please rerun this cell to show the HTML representation or trust the notebook. <br />On GitHub, the HTML representation is unable to render, please try loading this page with nbviewer.org.</b></div><div class=\"sk-container\" hidden><div class=\"sk-item\"><div class=\"sk-estimator sk-toggleable\"><input class=\"sk-toggleable__control sk-hidden--visually\" id=\"sk-estimator-id-2\" type=\"checkbox\" checked><label for=\"sk-estimator-id-2\" class=\"sk-toggleable__label sk-toggleable__label-arrow\">SVC</label><div class=\"sk-toggleable__content\"><pre>SVC(C=10, kernel=&#x27;linear&#x27;)</pre></div></div></div></div></div>"
      ],
      "text/plain": [
       "SVC(C=10, kernel='linear')"
      ]
     },
     "execution_count": 23,
     "metadata": {},
     "output_type": "execute_result"
    }
   ],
   "source": [
    "gsvm.best_estimator_"
   ]
  },
  {
   "cell_type": "code",
   "execution_count": 24,
   "metadata": {
    "executionInfo": {
     "elapsed": 1632,
     "status": "ok",
     "timestamp": 1716081525142,
     "user": {
      "displayName": "Willian Macedo Rodrigues",
      "userId": "04289625524537895451"
     },
     "user_tz": 180
    },
    "id": "r-AqHjBaGgVg"
   },
   "outputs": [],
   "source": [
    "clf_svm_best = gsvm.best_estimator_\n",
    "\n",
    "# only if refit==False\n",
    "clf_svm_best.fit(X_train, y_train)\n",
    "\n",
    "y_pred = clf_svm_best.predict(X_test)"
   ]
  },
  {
   "cell_type": "code",
   "execution_count": 25,
   "metadata": {
    "colab": {
     "base_uri": "https://localhost:8080/"
    },
    "executionInfo": {
     "elapsed": 5,
     "status": "ok",
     "timestamp": 1716081525143,
     "user": {
      "displayName": "Willian Macedo Rodrigues",
      "userId": "04289625524537895451"
     },
     "user_tz": 180
    },
    "id": "5AcFSiraM1JH",
    "outputId": "a2eed840-f163-4008-f6d5-ad18cd44de52"
   },
   "outputs": [
    {
     "name": "stdout",
     "output_type": "stream",
     "text": [
      "Accuracy:  0.965034965034965\n",
      "Precision: 0.9772727272727273\n",
      "Recall:    0.9662921348314607\n",
      "Confusion Matrix:\n",
      " [[52  2]\n",
      " [ 3 86]]\n"
     ]
    }
   ],
   "source": [
    "# Model Accuracy: how often is the classifier correct?\n",
    "print(\"Accuracy: \", metrics.accuracy_score(y_test, y_pred))\n",
    "# Model Precision: what percentage of positive tuples are labeled as such?\n",
    "print(\"Precision:\", metrics.precision_score(y_test, y_pred))\n",
    "# Model Recall: what percentage of positive tuples are labelled as such?\n",
    "print(\"Recall:   \", metrics.recall_score(y_test, y_pred))\n",
    "# Confusion Matrix\n",
    "print(\"Confusion Matrix:\\n\", metrics.confusion_matrix(y_test, y_pred))"
   ]
  },
  {
   "cell_type": "code",
   "execution_count": 26,
   "metadata": {
    "executionInfo": {
     "elapsed": 4,
     "status": "ok",
     "timestamp": 1716081525143,
     "user": {
      "displayName": "Willian Macedo Rodrigues",
      "userId": "04289625524537895451"
     },
     "user_tz": 180
    },
    "id": "8yaS1yVqMLgp"
   },
   "outputs": [],
   "source": [
    "? metrics.confusion_matrix"
   ]
  },
  {
   "cell_type": "markdown",
   "metadata": {
    "id": "6XsXGBIiBbOH"
   },
   "source": [
    "## PIPELINES"
   ]
  },
  {
   "cell_type": "code",
   "execution_count": 27,
   "metadata": {
    "executionInfo": {
     "elapsed": 16,
     "status": "ok",
     "timestamp": 1716081525156,
     "user": {
      "displayName": "Willian Macedo Rodrigues",
      "userId": "04289625524537895451"
     },
     "user_tz": 180
    },
    "id": "nZJR2N7lBKqs"
   },
   "outputs": [],
   "source": [
    "# FAZER USANDO PIPELINES"
   ]
  },
  {
   "cell_type": "code",
   "execution_count": 27,
   "metadata": {
    "executionInfo": {
     "elapsed": 16,
     "status": "ok",
     "timestamp": 1716081525156,
     "user": {
      "displayName": "Willian Macedo Rodrigues",
      "userId": "04289625524537895451"
     },
     "user_tz": 180
    },
    "id": "OpxeuYBUMdop"
   },
   "outputs": [],
   "source": []
  },
  {
   "cell_type": "code",
   "execution_count": 27,
   "metadata": {
    "executionInfo": {
     "elapsed": 16,
     "status": "ok",
     "timestamp": 1716081525156,
     "user": {
      "displayName": "Willian Macedo Rodrigues",
      "userId": "04289625524537895451"
     },
     "user_tz": 180
    },
    "id": "HXINk3lPMdyV"
   },
   "outputs": [],
   "source": []
  },
  {
   "cell_type": "code",
   "execution_count": 27,
   "metadata": {
    "executionInfo": {
     "elapsed": 234,
     "status": "ok",
     "timestamp": 1716081525374,
     "user": {
      "displayName": "Willian Macedo Rodrigues",
      "userId": "04289625524537895451"
     },
     "user_tz": 180
    },
    "id": "X4PpWC9eMsh3"
   },
   "outputs": [],
   "source": []
  },
  {
   "cell_type": "markdown",
   "metadata": {
    "id": "Myz72kT2MtBP"
   },
   "source": [
    "## EXEMPLO (TESTE)"
   ]
  },
  {
   "cell_type": "code",
   "execution_count": 28,
   "metadata": {
    "executionInfo": {
     "elapsed": 13,
     "status": "ok",
     "timestamp": 1716081525375,
     "user": {
      "displayName": "Willian Macedo Rodrigues",
      "userId": "04289625524537895451"
     },
     "user_tz": 180
    },
    "id": "KzFt7eg0Mq-G"
   },
   "outputs": [],
   "source": [
    "\n",
    "# Dividir os dados em conjuntos de treino e teste\n",
    "# Isso ajuda a avaliar a capacidade de generalização dos modelos.\n",
    "X_train, X_test, y_train, y_test = train_test_split(X, y, test_size=0.2, random_state=42)\n",
    "from sklearn.svm import SVC\n",
    "from sklearn.preprocessing import StandardScaler\n",
    "from sklearn.datasets import make_classification\n",
    "from sklearn.model_selection import train_test_split\n",
    "from sklearn.pipeline import Pipeline\n",
    "from sklearn.model_selection import GridSearchCV"
   ]
  },
  {
   "cell_type": "code",
   "execution_count": 29,
   "metadata": {
    "executionInfo": {
     "elapsed": 13,
     "status": "ok",
     "timestamp": 1716081525375,
     "user": {
      "displayName": "Willian Macedo Rodrigues",
      "userId": "04289625524537895451"
     },
     "user_tz": 180
    },
    "id": "6OTOw7sUMd8l"
   },
   "outputs": [],
   "source": [
    "\n",
    "# Dividir os dados em conjuntos de treino e teste\n",
    "# Isso ajuda a avaliar a capacidade de generalização dos modelos.\n",
    "X_train, X_test, y_train, y_test = train_test_split(X, y, test_size=0.2, random_state=42)\n",
    "X, y = make_classification(random_state=0)\n",
    "X_train, X_test, y_train, y_test = train_test_split(X, y,\n",
    "                                                 random_state=0)"
   ]
  },
  {
   "cell_type": "code",
   "execution_count": 30,
   "metadata": {
    "colab": {
     "base_uri": "https://localhost:8080/"
    },
    "executionInfo": {
     "elapsed": 12,
     "status": "ok",
     "timestamp": 1716081525375,
     "user": {
      "displayName": "Willian Macedo Rodrigues",
      "userId": "04289625524537895451"
     },
     "user_tz": 180
    },
    "id": "VWILwC2p41Dq",
    "outputId": "4156fe60-7e6f-4dd5-dcbd-9dfcae000cb3"
   },
   "outputs": [
    {
     "data": {
      "text/plain": [
       "((100, 20), (100,))"
      ]
     },
     "execution_count": 30,
     "metadata": {},
     "output_type": "execute_result"
    }
   ],
   "source": [
    "X.shape, y.shape"
   ]
  },
  {
   "cell_type": "code",
   "execution_count": 31,
   "metadata": {
    "executionInfo": {
     "elapsed": 10,
     "status": "ok",
     "timestamp": 1716081525375,
     "user": {
      "displayName": "Willian Macedo Rodrigues",
      "userId": "04289625524537895451"
     },
     "user_tz": 180
    },
    "id": "ugHAEGgjMzoW"
   },
   "outputs": [],
   "source": [
    "\n",
    "# Normalizar os dados para melhorar a performance dos algoritmos que dependem da escala das variáveis.\n",
    "scaler = StandardScaler()\n",
    "X_train = scaler.fit_transform(X_train)\n",
    "X_test = scaler.transform(X_test)\n",
    "pipe = Pipeline([('scaler', StandardScaler()), ('svc', SVC())])\n",
    "# The pipeline can be used as any other estimator\n",
    "# and avoids leaking the test set into the train set"
   ]
  },
  {
   "cell_type": "code",
   "execution_count": 32,
   "metadata": {
    "colab": {
     "base_uri": "https://localhost:8080/",
     "height": 125
    },
    "executionInfo": {
     "elapsed": 10,
     "status": "ok",
     "timestamp": 1716081525375,
     "user": {
      "displayName": "Willian Macedo Rodrigues",
      "userId": "04289625524537895451"
     },
     "user_tz": 180
    },
    "id": "W1K-pyAIRyyd",
    "outputId": "ca349cde-6588-424a-8e8f-cc0603b5c80f"
   },
   "outputs": [
    {
     "data": {
      "text/html": [
       "<style>#sk-container-id-3 {color: black;background-color: white;}#sk-container-id-3 pre{padding: 0;}#sk-container-id-3 div.sk-toggleable {background-color: white;}#sk-container-id-3 label.sk-toggleable__label {cursor: pointer;display: block;width: 100%;margin-bottom: 0;padding: 0.3em;box-sizing: border-box;text-align: center;}#sk-container-id-3 label.sk-toggleable__label-arrow:before {content: \"▸\";float: left;margin-right: 0.25em;color: #696969;}#sk-container-id-3 label.sk-toggleable__label-arrow:hover:before {color: black;}#sk-container-id-3 div.sk-estimator:hover label.sk-toggleable__label-arrow:before {color: black;}#sk-container-id-3 div.sk-toggleable__content {max-height: 0;max-width: 0;overflow: hidden;text-align: left;background-color: #f0f8ff;}#sk-container-id-3 div.sk-toggleable__content pre {margin: 0.2em;color: black;border-radius: 0.25em;background-color: #f0f8ff;}#sk-container-id-3 input.sk-toggleable__control:checked~div.sk-toggleable__content {max-height: 200px;max-width: 100%;overflow: auto;}#sk-container-id-3 input.sk-toggleable__control:checked~label.sk-toggleable__label-arrow:before {content: \"▾\";}#sk-container-id-3 div.sk-estimator input.sk-toggleable__control:checked~label.sk-toggleable__label {background-color: #d4ebff;}#sk-container-id-3 div.sk-label input.sk-toggleable__control:checked~label.sk-toggleable__label {background-color: #d4ebff;}#sk-container-id-3 input.sk-hidden--visually {border: 0;clip: rect(1px 1px 1px 1px);clip: rect(1px, 1px, 1px, 1px);height: 1px;margin: -1px;overflow: hidden;padding: 0;position: absolute;width: 1px;}#sk-container-id-3 div.sk-estimator {font-family: monospace;background-color: #f0f8ff;border: 1px dotted black;border-radius: 0.25em;box-sizing: border-box;margin-bottom: 0.5em;}#sk-container-id-3 div.sk-estimator:hover {background-color: #d4ebff;}#sk-container-id-3 div.sk-parallel-item::after {content: \"\";width: 100%;border-bottom: 1px solid gray;flex-grow: 1;}#sk-container-id-3 div.sk-label:hover label.sk-toggleable__label {background-color: #d4ebff;}#sk-container-id-3 div.sk-serial::before {content: \"\";position: absolute;border-left: 1px solid gray;box-sizing: border-box;top: 0;bottom: 0;left: 50%;z-index: 0;}#sk-container-id-3 div.sk-serial {display: flex;flex-direction: column;align-items: center;background-color: white;padding-right: 0.2em;padding-left: 0.2em;position: relative;}#sk-container-id-3 div.sk-item {position: relative;z-index: 1;}#sk-container-id-3 div.sk-parallel {display: flex;align-items: stretch;justify-content: center;background-color: white;position: relative;}#sk-container-id-3 div.sk-item::before, #sk-container-id-3 div.sk-parallel-item::before {content: \"\";position: absolute;border-left: 1px solid gray;box-sizing: border-box;top: 0;bottom: 0;left: 50%;z-index: -1;}#sk-container-id-3 div.sk-parallel-item {display: flex;flex-direction: column;z-index: 1;position: relative;background-color: white;}#sk-container-id-3 div.sk-parallel-item:first-child::after {align-self: flex-end;width: 50%;}#sk-container-id-3 div.sk-parallel-item:last-child::after {align-self: flex-start;width: 50%;}#sk-container-id-3 div.sk-parallel-item:only-child::after {width: 0;}#sk-container-id-3 div.sk-dashed-wrapped {border: 1px dashed gray;margin: 0 0.4em 0.5em 0.4em;box-sizing: border-box;padding-bottom: 0.4em;background-color: white;}#sk-container-id-3 div.sk-label label {font-family: monospace;font-weight: bold;display: inline-block;line-height: 1.2em;}#sk-container-id-3 div.sk-label-container {text-align: center;}#sk-container-id-3 div.sk-container {/* jupyter's `normalize.less` sets `[hidden] { display: none; }` but bootstrap.min.css set `[hidden] { display: none !important; }` so we also need the `!important` here to be able to override the default hidden behavior on the sphinx rendered scikit-learn.org. See: https://github.com/scikit-learn/scikit-learn/issues/21755 */display: inline-block !important;position: relative;}#sk-container-id-3 div.sk-text-repr-fallback {display: none;}</style><div id=\"sk-container-id-3\" class=\"sk-top-container\"><div class=\"sk-text-repr-fallback\"><pre>Pipeline(steps=[(&#x27;scaler&#x27;, StandardScaler()), (&#x27;svc&#x27;, SVC())])</pre><b>In a Jupyter environment, please rerun this cell to show the HTML representation or trust the notebook. <br />On GitHub, the HTML representation is unable to render, please try loading this page with nbviewer.org.</b></div><div class=\"sk-container\" hidden><div class=\"sk-item sk-dashed-wrapped\"><div class=\"sk-label-container\"><div class=\"sk-label sk-toggleable\"><input class=\"sk-toggleable__control sk-hidden--visually\" id=\"sk-estimator-id-3\" type=\"checkbox\" ><label for=\"sk-estimator-id-3\" class=\"sk-toggleable__label sk-toggleable__label-arrow\">Pipeline</label><div class=\"sk-toggleable__content\"><pre>Pipeline(steps=[(&#x27;scaler&#x27;, StandardScaler()), (&#x27;svc&#x27;, SVC())])</pre></div></div></div><div class=\"sk-serial\"><div class=\"sk-item\"><div class=\"sk-estimator sk-toggleable\"><input class=\"sk-toggleable__control sk-hidden--visually\" id=\"sk-estimator-id-4\" type=\"checkbox\" ><label for=\"sk-estimator-id-4\" class=\"sk-toggleable__label sk-toggleable__label-arrow\">StandardScaler</label><div class=\"sk-toggleable__content\"><pre>StandardScaler()</pre></div></div></div><div class=\"sk-item\"><div class=\"sk-estimator sk-toggleable\"><input class=\"sk-toggleable__control sk-hidden--visually\" id=\"sk-estimator-id-5\" type=\"checkbox\" ><label for=\"sk-estimator-id-5\" class=\"sk-toggleable__label sk-toggleable__label-arrow\">SVC</label><div class=\"sk-toggleable__content\"><pre>SVC()</pre></div></div></div></div></div></div></div>"
      ],
      "text/plain": [
       "Pipeline(steps=[('scaler', StandardScaler()), ('svc', SVC())])"
      ]
     },
     "execution_count": 32,
     "metadata": {},
     "output_type": "execute_result"
    }
   ],
   "source": [
    "pipe.fit(X_train, y_train)"
   ]
  },
  {
   "cell_type": "code",
   "execution_count": 33,
   "metadata": {
    "colab": {
     "base_uri": "https://localhost:8080/"
    },
    "executionInfo": {
     "elapsed": 10,
     "status": "ok",
     "timestamp": 1716081525376,
     "user": {
      "displayName": "Willian Macedo Rodrigues",
      "userId": "04289625524537895451"
     },
     "user_tz": 180
    },
    "id": "Fo7MJ_rOSHU3",
    "outputId": "09e5fc07-d43c-476d-bae7-3f1da4a74aef"
   },
   "outputs": [
    {
     "data": {
      "text/plain": [
       "0.88"
      ]
     },
     "execution_count": 33,
     "metadata": {},
     "output_type": "execute_result"
    }
   ],
   "source": [
    "pipe.score(X_test, y_test)"
   ]
  },
  {
   "cell_type": "code",
   "execution_count": 34,
   "metadata": {
    "executionInfo": {
     "elapsed": 9,
     "status": "ok",
     "timestamp": 1716081525376,
     "user": {
      "displayName": "Willian Macedo Rodrigues",
      "userId": "04289625524537895451"
     },
     "user_tz": 180
    },
    "id": "1kcgUfPvZw0e"
   },
   "outputs": [],
   "source": [
    "param_grid = [{'svc__kernel': ['rbf'],\n",
    "               'svc__gamma': ['scale'],\n",
    "               'svc__C': [1.0, 10]}]"
   ]
  },
  {
   "cell_type": "code",
   "execution_count": 35,
   "metadata": {
    "executionInfo": {
     "elapsed": 9,
     "status": "ok",
     "timestamp": 1716081525376,
     "user": {
      "displayName": "Willian Macedo Rodrigues",
      "userId": "04289625524537895451"
     },
     "user_tz": 180
    },
    "id": "vT3kal0OZZVw"
   },
   "outputs": [],
   "source": [
    "cv_pipe = GridSearchCV(pipe, param_grid, cv=5, verbose=1, n_jobs=8)"
   ]
  },
  {
   "cell_type": "code",
   "execution_count": 36,
   "metadata": {
    "colab": {
     "base_uri": "https://localhost:8080/",
     "height": 169
    },
    "executionInfo": {
     "elapsed": 7908,
     "status": "ok",
     "timestamp": 1716081533276,
     "user": {
      "displayName": "Willian Macedo Rodrigues",
      "userId": "04289625524537895451"
     },
     "user_tz": 180
    },
    "id": "K-tB6To3aRkh",
    "outputId": "6593b7d8-a25f-4106-ca04-c3963beed47d"
   },
   "outputs": [
    {
     "name": "stdout",
     "output_type": "stream",
     "text": [
      "Fitting 5 folds for each of 2 candidates, totalling 10 fits\n"
     ]
    },
    {
     "data": {
      "text/html": [
       "<style>#sk-container-id-4 {color: black;background-color: white;}#sk-container-id-4 pre{padding: 0;}#sk-container-id-4 div.sk-toggleable {background-color: white;}#sk-container-id-4 label.sk-toggleable__label {cursor: pointer;display: block;width: 100%;margin-bottom: 0;padding: 0.3em;box-sizing: border-box;text-align: center;}#sk-container-id-4 label.sk-toggleable__label-arrow:before {content: \"▸\";float: left;margin-right: 0.25em;color: #696969;}#sk-container-id-4 label.sk-toggleable__label-arrow:hover:before {color: black;}#sk-container-id-4 div.sk-estimator:hover label.sk-toggleable__label-arrow:before {color: black;}#sk-container-id-4 div.sk-toggleable__content {max-height: 0;max-width: 0;overflow: hidden;text-align: left;background-color: #f0f8ff;}#sk-container-id-4 div.sk-toggleable__content pre {margin: 0.2em;color: black;border-radius: 0.25em;background-color: #f0f8ff;}#sk-container-id-4 input.sk-toggleable__control:checked~div.sk-toggleable__content {max-height: 200px;max-width: 100%;overflow: auto;}#sk-container-id-4 input.sk-toggleable__control:checked~label.sk-toggleable__label-arrow:before {content: \"▾\";}#sk-container-id-4 div.sk-estimator input.sk-toggleable__control:checked~label.sk-toggleable__label {background-color: #d4ebff;}#sk-container-id-4 div.sk-label input.sk-toggleable__control:checked~label.sk-toggleable__label {background-color: #d4ebff;}#sk-container-id-4 input.sk-hidden--visually {border: 0;clip: rect(1px 1px 1px 1px);clip: rect(1px, 1px, 1px, 1px);height: 1px;margin: -1px;overflow: hidden;padding: 0;position: absolute;width: 1px;}#sk-container-id-4 div.sk-estimator {font-family: monospace;background-color: #f0f8ff;border: 1px dotted black;border-radius: 0.25em;box-sizing: border-box;margin-bottom: 0.5em;}#sk-container-id-4 div.sk-estimator:hover {background-color: #d4ebff;}#sk-container-id-4 div.sk-parallel-item::after {content: \"\";width: 100%;border-bottom: 1px solid gray;flex-grow: 1;}#sk-container-id-4 div.sk-label:hover label.sk-toggleable__label {background-color: #d4ebff;}#sk-container-id-4 div.sk-serial::before {content: \"\";position: absolute;border-left: 1px solid gray;box-sizing: border-box;top: 0;bottom: 0;left: 50%;z-index: 0;}#sk-container-id-4 div.sk-serial {display: flex;flex-direction: column;align-items: center;background-color: white;padding-right: 0.2em;padding-left: 0.2em;position: relative;}#sk-container-id-4 div.sk-item {position: relative;z-index: 1;}#sk-container-id-4 div.sk-parallel {display: flex;align-items: stretch;justify-content: center;background-color: white;position: relative;}#sk-container-id-4 div.sk-item::before, #sk-container-id-4 div.sk-parallel-item::before {content: \"\";position: absolute;border-left: 1px solid gray;box-sizing: border-box;top: 0;bottom: 0;left: 50%;z-index: -1;}#sk-container-id-4 div.sk-parallel-item {display: flex;flex-direction: column;z-index: 1;position: relative;background-color: white;}#sk-container-id-4 div.sk-parallel-item:first-child::after {align-self: flex-end;width: 50%;}#sk-container-id-4 div.sk-parallel-item:last-child::after {align-self: flex-start;width: 50%;}#sk-container-id-4 div.sk-parallel-item:only-child::after {width: 0;}#sk-container-id-4 div.sk-dashed-wrapped {border: 1px dashed gray;margin: 0 0.4em 0.5em 0.4em;box-sizing: border-box;padding-bottom: 0.4em;background-color: white;}#sk-container-id-4 div.sk-label label {font-family: monospace;font-weight: bold;display: inline-block;line-height: 1.2em;}#sk-container-id-4 div.sk-label-container {text-align: center;}#sk-container-id-4 div.sk-container {/* jupyter's `normalize.less` sets `[hidden] { display: none; }` but bootstrap.min.css set `[hidden] { display: none !important; }` so we also need the `!important` here to be able to override the default hidden behavior on the sphinx rendered scikit-learn.org. See: https://github.com/scikit-learn/scikit-learn/issues/21755 */display: inline-block !important;position: relative;}#sk-container-id-4 div.sk-text-repr-fallback {display: none;}</style><div id=\"sk-container-id-4\" class=\"sk-top-container\"><div class=\"sk-text-repr-fallback\"><pre>GridSearchCV(cv=5,\n",
       "             estimator=Pipeline(steps=[(&#x27;scaler&#x27;, StandardScaler()),\n",
       "                                       (&#x27;svc&#x27;, SVC())]),\n",
       "             n_jobs=8,\n",
       "             param_grid=[{&#x27;svc__C&#x27;: [1.0, 10], &#x27;svc__gamma&#x27;: [&#x27;scale&#x27;],\n",
       "                          &#x27;svc__kernel&#x27;: [&#x27;rbf&#x27;]}],\n",
       "             verbose=1)</pre><b>In a Jupyter environment, please rerun this cell to show the HTML representation or trust the notebook. <br />On GitHub, the HTML representation is unable to render, please try loading this page with nbviewer.org.</b></div><div class=\"sk-container\" hidden><div class=\"sk-item sk-dashed-wrapped\"><div class=\"sk-label-container\"><div class=\"sk-label sk-toggleable\"><input class=\"sk-toggleable__control sk-hidden--visually\" id=\"sk-estimator-id-6\" type=\"checkbox\" ><label for=\"sk-estimator-id-6\" class=\"sk-toggleable__label sk-toggleable__label-arrow\">GridSearchCV</label><div class=\"sk-toggleable__content\"><pre>GridSearchCV(cv=5,\n",
       "             estimator=Pipeline(steps=[(&#x27;scaler&#x27;, StandardScaler()),\n",
       "                                       (&#x27;svc&#x27;, SVC())]),\n",
       "             n_jobs=8,\n",
       "             param_grid=[{&#x27;svc__C&#x27;: [1.0, 10], &#x27;svc__gamma&#x27;: [&#x27;scale&#x27;],\n",
       "                          &#x27;svc__kernel&#x27;: [&#x27;rbf&#x27;]}],\n",
       "             verbose=1)</pre></div></div></div><div class=\"sk-parallel\"><div class=\"sk-parallel-item\"><div class=\"sk-item\"><div class=\"sk-label-container\"><div class=\"sk-label sk-toggleable\"><input class=\"sk-toggleable__control sk-hidden--visually\" id=\"sk-estimator-id-7\" type=\"checkbox\" ><label for=\"sk-estimator-id-7\" class=\"sk-toggleable__label sk-toggleable__label-arrow\">estimator: Pipeline</label><div class=\"sk-toggleable__content\"><pre>Pipeline(steps=[(&#x27;scaler&#x27;, StandardScaler()), (&#x27;svc&#x27;, SVC())])</pre></div></div></div><div class=\"sk-serial\"><div class=\"sk-item\"><div class=\"sk-serial\"><div class=\"sk-item\"><div class=\"sk-estimator sk-toggleable\"><input class=\"sk-toggleable__control sk-hidden--visually\" id=\"sk-estimator-id-8\" type=\"checkbox\" ><label for=\"sk-estimator-id-8\" class=\"sk-toggleable__label sk-toggleable__label-arrow\">StandardScaler</label><div class=\"sk-toggleable__content\"><pre>StandardScaler()</pre></div></div></div><div class=\"sk-item\"><div class=\"sk-estimator sk-toggleable\"><input class=\"sk-toggleable__control sk-hidden--visually\" id=\"sk-estimator-id-9\" type=\"checkbox\" ><label for=\"sk-estimator-id-9\" class=\"sk-toggleable__label sk-toggleable__label-arrow\">SVC</label><div class=\"sk-toggleable__content\"><pre>SVC()</pre></div></div></div></div></div></div></div></div></div></div></div></div>"
      ],
      "text/plain": [
       "GridSearchCV(cv=5,\n",
       "             estimator=Pipeline(steps=[('scaler', StandardScaler()),\n",
       "                                       ('svc', SVC())]),\n",
       "             n_jobs=8,\n",
       "             param_grid=[{'svc__C': [1.0, 10], 'svc__gamma': ['scale'],\n",
       "                          'svc__kernel': ['rbf']}],\n",
       "             verbose=1)"
      ]
     },
     "execution_count": 36,
     "metadata": {},
     "output_type": "execute_result"
    }
   ],
   "source": [
    "cv_pipe.fit(X_train, y_train)"
   ]
  },
  {
   "cell_type": "code",
   "execution_count": 37,
   "metadata": {
    "colab": {
     "base_uri": "https://localhost:8080/"
    },
    "executionInfo": {
     "elapsed": 9,
     "status": "ok",
     "timestamp": 1716081533277,
     "user": {
      "displayName": "Willian Macedo Rodrigues",
      "userId": "04289625524537895451"
     },
     "user_tz": 180
    },
    "id": "jL8GCBeTaXOh",
    "outputId": "b9ec8b95-d889-493d-9ccf-28c23cb2e728"
   },
   "outputs": [
    {
     "data": {
      "text/plain": [
       "0.76"
      ]
     },
     "execution_count": 37,
     "metadata": {},
     "output_type": "execute_result"
    }
   ],
   "source": [
    "cv_pipe.score(X_test, y_test)"
   ]
  },
  {
   "cell_type": "code",
   "execution_count": 38,
   "metadata": {
    "colab": {
     "base_uri": "https://localhost:8080/"
    },
    "executionInfo": {
     "elapsed": 7,
     "status": "ok",
     "timestamp": 1716081533277,
     "user": {
      "displayName": "Willian Macedo Rodrigues",
      "userId": "04289625524537895451"
     },
     "user_tz": 180
    },
    "id": "DCRH0VeKawGg",
    "outputId": "17b7dab5-3367-4b84-d27c-4bf511978e64"
   },
   "outputs": [
    {
     "data": {
      "text/plain": [
       "{'mean_fit_time': array([0.02651968, 0.01844506]),\n",
       " 'std_fit_time': array([0.00436839, 0.00986899]),\n",
       " 'mean_score_time': array([0.00992441, 0.00379486]),\n",
       " 'std_score_time': array([0.00680017, 0.00412467]),\n",
       " 'param_svc__C': masked_array(data=[1.0, 10],\n",
       "              mask=[False, False],\n",
       "        fill_value='?',\n",
       "             dtype=object),\n",
       " 'param_svc__gamma': masked_array(data=['scale', 'scale'],\n",
       "              mask=[False, False],\n",
       "        fill_value='?',\n",
       "             dtype=object),\n",
       " 'param_svc__kernel': masked_array(data=['rbf', 'rbf'],\n",
       "              mask=[False, False],\n",
       "        fill_value='?',\n",
       "             dtype=object),\n",
       " 'params': [{'svc__C': 1.0, 'svc__gamma': 'scale', 'svc__kernel': 'rbf'},\n",
       "  {'svc__C': 10, 'svc__gamma': 'scale', 'svc__kernel': 'rbf'}],\n",
       " 'split0_test_score': array([0.73333333, 0.8       ]),\n",
       " 'split1_test_score': array([0.73333333, 0.73333333]),\n",
       " 'split2_test_score': array([0.86666667, 0.86666667]),\n",
       " 'split3_test_score': array([0.8, 0.8]),\n",
       " 'split4_test_score': array([0.73333333, 0.86666667]),\n",
       " 'mean_test_score': array([0.77333333, 0.81333333]),\n",
       " 'std_test_score': array([0.05333333, 0.04988877]),\n",
       " 'rank_test_score': array([2, 1], dtype=int32)}"
      ]
     },
     "execution_count": 38,
     "metadata": {},
     "output_type": "execute_result"
    }
   ],
   "source": [
    "cv_pipe.cv_results_"
   ]
  },
  {
   "cell_type": "code",
   "execution_count": 39,
   "metadata": {
    "colab": {
     "base_uri": "https://localhost:8080/"
    },
    "executionInfo": {
     "elapsed": 5,
     "status": "ok",
     "timestamp": 1716081533277,
     "user": {
      "displayName": "Willian Macedo Rodrigues",
      "userId": "04289625524537895451"
     },
     "user_tz": 180
    },
    "id": "R66vF__IcvBr",
    "outputId": "fe8c7506-91d8-4d8f-ab69-6f561420a86f"
   },
   "outputs": [
    {
     "data": {
      "text/plain": [
       "{'svc__C': 10, 'svc__gamma': 'scale', 'svc__kernel': 'rbf'}"
      ]
     },
     "execution_count": 39,
     "metadata": {},
     "output_type": "execute_result"
    }
   ],
   "source": [
    "cv_pipe.best_params_"
   ]
  },
  {
   "cell_type": "markdown",
   "metadata": {
    "id": "QmK486j4R8lI"
   },
   "source": [
    "#### USANDO GRID SEARCH CV"
   ]
  },
  {
   "cell_type": "code",
   "execution_count": 40,
   "metadata": {
    "executionInfo": {
     "elapsed": 3,
     "status": "ok",
     "timestamp": 1716081533277,
     "user": {
      "displayName": "Willian Macedo Rodrigues",
      "userId": "04289625524537895451"
     },
     "user_tz": 180
    },
    "id": "xN663HCaOih9"
   },
   "outputs": [],
   "source": [
    "params_svc = [{'svc__kernel': ['rbf'],\n",
    "               'svc__gamma': ['scale', 1e-4, 1e-3, 1e-2, 0.05, 0.1, 1.0, 10, 100],\n",
    "               ############ COMENTAR OTIMIZAÇÃO\n",
    "               #'svc__C': [1, 10, 100, 1000]}]\n",
    "               'svc__C': [10, 20, 30, 40, 50, 60, 70, 80, 100, 120, 150, 200]}]"
   ]
  },
  {
   "cell_type": "code",
   "execution_count": 41,
   "metadata": {
    "executionInfo": {
     "elapsed": 4,
     "status": "ok",
     "timestamp": 1716081533278,
     "user": {
      "displayName": "Willian Macedo Rodrigues",
      "userId": "04289625524537895451"
     },
     "user_tz": 180
    },
    "id": "tG8Gvs_1N8Ei"
   },
   "outputs": [],
   "source": [
    "param_grid = params_svc\n",
    "\n",
    "pipe_cv = GridSearchCV(pipe, param_grid, cv=5, verbose=1, n_jobs=8)"
   ]
  },
  {
   "cell_type": "code",
   "execution_count": 42,
   "metadata": {
    "colab": {
     "base_uri": "https://localhost:8080/",
     "height": 169
    },
    "executionInfo": {
     "elapsed": 2655,
     "status": "ok",
     "timestamp": 1716081535929,
     "user": {
      "displayName": "Willian Macedo Rodrigues",
      "userId": "04289625524537895451"
     },
     "user_tz": 180
    },
    "id": "N77mEFLnNd0y",
    "outputId": "b50ab88a-13a6-4eca-d35b-8a32eed4ff96"
   },
   "outputs": [
    {
     "name": "stdout",
     "output_type": "stream",
     "text": [
      "Fitting 5 folds for each of 108 candidates, totalling 540 fits\n"
     ]
    },
    {
     "data": {
      "text/html": [
       "<style>#sk-container-id-5 {color: black;background-color: white;}#sk-container-id-5 pre{padding: 0;}#sk-container-id-5 div.sk-toggleable {background-color: white;}#sk-container-id-5 label.sk-toggleable__label {cursor: pointer;display: block;width: 100%;margin-bottom: 0;padding: 0.3em;box-sizing: border-box;text-align: center;}#sk-container-id-5 label.sk-toggleable__label-arrow:before {content: \"▸\";float: left;margin-right: 0.25em;color: #696969;}#sk-container-id-5 label.sk-toggleable__label-arrow:hover:before {color: black;}#sk-container-id-5 div.sk-estimator:hover label.sk-toggleable__label-arrow:before {color: black;}#sk-container-id-5 div.sk-toggleable__content {max-height: 0;max-width: 0;overflow: hidden;text-align: left;background-color: #f0f8ff;}#sk-container-id-5 div.sk-toggleable__content pre {margin: 0.2em;color: black;border-radius: 0.25em;background-color: #f0f8ff;}#sk-container-id-5 input.sk-toggleable__control:checked~div.sk-toggleable__content {max-height: 200px;max-width: 100%;overflow: auto;}#sk-container-id-5 input.sk-toggleable__control:checked~label.sk-toggleable__label-arrow:before {content: \"▾\";}#sk-container-id-5 div.sk-estimator input.sk-toggleable__control:checked~label.sk-toggleable__label {background-color: #d4ebff;}#sk-container-id-5 div.sk-label input.sk-toggleable__control:checked~label.sk-toggleable__label {background-color: #d4ebff;}#sk-container-id-5 input.sk-hidden--visually {border: 0;clip: rect(1px 1px 1px 1px);clip: rect(1px, 1px, 1px, 1px);height: 1px;margin: -1px;overflow: hidden;padding: 0;position: absolute;width: 1px;}#sk-container-id-5 div.sk-estimator {font-family: monospace;background-color: #f0f8ff;border: 1px dotted black;border-radius: 0.25em;box-sizing: border-box;margin-bottom: 0.5em;}#sk-container-id-5 div.sk-estimator:hover {background-color: #d4ebff;}#sk-container-id-5 div.sk-parallel-item::after {content: \"\";width: 100%;border-bottom: 1px solid gray;flex-grow: 1;}#sk-container-id-5 div.sk-label:hover label.sk-toggleable__label {background-color: #d4ebff;}#sk-container-id-5 div.sk-serial::before {content: \"\";position: absolute;border-left: 1px solid gray;box-sizing: border-box;top: 0;bottom: 0;left: 50%;z-index: 0;}#sk-container-id-5 div.sk-serial {display: flex;flex-direction: column;align-items: center;background-color: white;padding-right: 0.2em;padding-left: 0.2em;position: relative;}#sk-container-id-5 div.sk-item {position: relative;z-index: 1;}#sk-container-id-5 div.sk-parallel {display: flex;align-items: stretch;justify-content: center;background-color: white;position: relative;}#sk-container-id-5 div.sk-item::before, #sk-container-id-5 div.sk-parallel-item::before {content: \"\";position: absolute;border-left: 1px solid gray;box-sizing: border-box;top: 0;bottom: 0;left: 50%;z-index: -1;}#sk-container-id-5 div.sk-parallel-item {display: flex;flex-direction: column;z-index: 1;position: relative;background-color: white;}#sk-container-id-5 div.sk-parallel-item:first-child::after {align-self: flex-end;width: 50%;}#sk-container-id-5 div.sk-parallel-item:last-child::after {align-self: flex-start;width: 50%;}#sk-container-id-5 div.sk-parallel-item:only-child::after {width: 0;}#sk-container-id-5 div.sk-dashed-wrapped {border: 1px dashed gray;margin: 0 0.4em 0.5em 0.4em;box-sizing: border-box;padding-bottom: 0.4em;background-color: white;}#sk-container-id-5 div.sk-label label {font-family: monospace;font-weight: bold;display: inline-block;line-height: 1.2em;}#sk-container-id-5 div.sk-label-container {text-align: center;}#sk-container-id-5 div.sk-container {/* jupyter's `normalize.less` sets `[hidden] { display: none; }` but bootstrap.min.css set `[hidden] { display: none !important; }` so we also need the `!important` here to be able to override the default hidden behavior on the sphinx rendered scikit-learn.org. See: https://github.com/scikit-learn/scikit-learn/issues/21755 */display: inline-block !important;position: relative;}#sk-container-id-5 div.sk-text-repr-fallback {display: none;}</style><div id=\"sk-container-id-5\" class=\"sk-top-container\"><div class=\"sk-text-repr-fallback\"><pre>GridSearchCV(cv=5,\n",
       "             estimator=Pipeline(steps=[(&#x27;scaler&#x27;, StandardScaler()),\n",
       "                                       (&#x27;svc&#x27;, SVC())]),\n",
       "             n_jobs=8,\n",
       "             param_grid=[{&#x27;svc__C&#x27;: [10, 20, 30, 40, 50, 60, 70, 80, 100, 120,\n",
       "                                     150, 200],\n",
       "                          &#x27;svc__gamma&#x27;: [&#x27;scale&#x27;, 0.0001, 0.001, 0.01, 0.05,\n",
       "                                         0.1, 1.0, 10, 100],\n",
       "                          &#x27;svc__kernel&#x27;: [&#x27;rbf&#x27;]}],\n",
       "             verbose=1)</pre><b>In a Jupyter environment, please rerun this cell to show the HTML representation or trust the notebook. <br />On GitHub, the HTML representation is unable to render, please try loading this page with nbviewer.org.</b></div><div class=\"sk-container\" hidden><div class=\"sk-item sk-dashed-wrapped\"><div class=\"sk-label-container\"><div class=\"sk-label sk-toggleable\"><input class=\"sk-toggleable__control sk-hidden--visually\" id=\"sk-estimator-id-10\" type=\"checkbox\" ><label for=\"sk-estimator-id-10\" class=\"sk-toggleable__label sk-toggleable__label-arrow\">GridSearchCV</label><div class=\"sk-toggleable__content\"><pre>GridSearchCV(cv=5,\n",
       "             estimator=Pipeline(steps=[(&#x27;scaler&#x27;, StandardScaler()),\n",
       "                                       (&#x27;svc&#x27;, SVC())]),\n",
       "             n_jobs=8,\n",
       "             param_grid=[{&#x27;svc__C&#x27;: [10, 20, 30, 40, 50, 60, 70, 80, 100, 120,\n",
       "                                     150, 200],\n",
       "                          &#x27;svc__gamma&#x27;: [&#x27;scale&#x27;, 0.0001, 0.001, 0.01, 0.05,\n",
       "                                         0.1, 1.0, 10, 100],\n",
       "                          &#x27;svc__kernel&#x27;: [&#x27;rbf&#x27;]}],\n",
       "             verbose=1)</pre></div></div></div><div class=\"sk-parallel\"><div class=\"sk-parallel-item\"><div class=\"sk-item\"><div class=\"sk-label-container\"><div class=\"sk-label sk-toggleable\"><input class=\"sk-toggleable__control sk-hidden--visually\" id=\"sk-estimator-id-11\" type=\"checkbox\" ><label for=\"sk-estimator-id-11\" class=\"sk-toggleable__label sk-toggleable__label-arrow\">estimator: Pipeline</label><div class=\"sk-toggleable__content\"><pre>Pipeline(steps=[(&#x27;scaler&#x27;, StandardScaler()), (&#x27;svc&#x27;, SVC())])</pre></div></div></div><div class=\"sk-serial\"><div class=\"sk-item\"><div class=\"sk-serial\"><div class=\"sk-item\"><div class=\"sk-estimator sk-toggleable\"><input class=\"sk-toggleable__control sk-hidden--visually\" id=\"sk-estimator-id-12\" type=\"checkbox\" ><label for=\"sk-estimator-id-12\" class=\"sk-toggleable__label sk-toggleable__label-arrow\">StandardScaler</label><div class=\"sk-toggleable__content\"><pre>StandardScaler()</pre></div></div></div><div class=\"sk-item\"><div class=\"sk-estimator sk-toggleable\"><input class=\"sk-toggleable__control sk-hidden--visually\" id=\"sk-estimator-id-13\" type=\"checkbox\" ><label for=\"sk-estimator-id-13\" class=\"sk-toggleable__label sk-toggleable__label-arrow\">SVC</label><div class=\"sk-toggleable__content\"><pre>SVC()</pre></div></div></div></div></div></div></div></div></div></div></div></div>"
      ],
      "text/plain": [
       "GridSearchCV(cv=5,\n",
       "             estimator=Pipeline(steps=[('scaler', StandardScaler()),\n",
       "                                       ('svc', SVC())]),\n",
       "             n_jobs=8,\n",
       "             param_grid=[{'svc__C': [10, 20, 30, 40, 50, 60, 70, 80, 100, 120,\n",
       "                                     150, 200],\n",
       "                          'svc__gamma': ['scale', 0.0001, 0.001, 0.01, 0.05,\n",
       "                                         0.1, 1.0, 10, 100],\n",
       "                          'svc__kernel': ['rbf']}],\n",
       "             verbose=1)"
      ]
     },
     "execution_count": 42,
     "metadata": {},
     "output_type": "execute_result"
    }
   ],
   "source": [
    "pipe_cv.fit(X_train, y_train)"
   ]
  },
  {
   "cell_type": "code",
   "execution_count": 43,
   "metadata": {
    "colab": {
     "base_uri": "https://localhost:8080/"
    },
    "executionInfo": {
     "elapsed": 13,
     "status": "ok",
     "timestamp": 1716081535929,
     "user": {
      "displayName": "Willian Macedo Rodrigues",
      "userId": "04289625524537895451"
     },
     "user_tz": 180
    },
    "id": "3c6bbiuQ-koz",
    "outputId": "31c73dd4-eb97-4759-95b7-f07217e80314"
   },
   "outputs": [
    {
     "data": {
      "text/plain": [
       "{'svc__C': 30, 'svc__gamma': 0.01, 'svc__kernel': 'rbf'}"
      ]
     },
     "execution_count": 43,
     "metadata": {},
     "output_type": "execute_result"
    }
   ],
   "source": [
    "pipe_cv.best_params_"
   ]
  },
  {
   "cell_type": "code",
   "execution_count": 44,
   "metadata": {
    "colab": {
     "base_uri": "https://localhost:8080/",
     "height": 125
    },
    "executionInfo": {
     "elapsed": 11,
     "status": "ok",
     "timestamp": 1716081535929,
     "user": {
      "displayName": "Willian Macedo Rodrigues",
      "userId": "04289625524537895451"
     },
     "user_tz": 180
    },
    "id": "fKnAxMQ_UBLg",
    "outputId": "31474fe8-a2ce-4c34-bb81-934e80eb0799"
   },
   "outputs": [
    {
     "data": {
      "text/html": [
       "<style>#sk-container-id-6 {color: black;background-color: white;}#sk-container-id-6 pre{padding: 0;}#sk-container-id-6 div.sk-toggleable {background-color: white;}#sk-container-id-6 label.sk-toggleable__label {cursor: pointer;display: block;width: 100%;margin-bottom: 0;padding: 0.3em;box-sizing: border-box;text-align: center;}#sk-container-id-6 label.sk-toggleable__label-arrow:before {content: \"▸\";float: left;margin-right: 0.25em;color: #696969;}#sk-container-id-6 label.sk-toggleable__label-arrow:hover:before {color: black;}#sk-container-id-6 div.sk-estimator:hover label.sk-toggleable__label-arrow:before {color: black;}#sk-container-id-6 div.sk-toggleable__content {max-height: 0;max-width: 0;overflow: hidden;text-align: left;background-color: #f0f8ff;}#sk-container-id-6 div.sk-toggleable__content pre {margin: 0.2em;color: black;border-radius: 0.25em;background-color: #f0f8ff;}#sk-container-id-6 input.sk-toggleable__control:checked~div.sk-toggleable__content {max-height: 200px;max-width: 100%;overflow: auto;}#sk-container-id-6 input.sk-toggleable__control:checked~label.sk-toggleable__label-arrow:before {content: \"▾\";}#sk-container-id-6 div.sk-estimator input.sk-toggleable__control:checked~label.sk-toggleable__label {background-color: #d4ebff;}#sk-container-id-6 div.sk-label input.sk-toggleable__control:checked~label.sk-toggleable__label {background-color: #d4ebff;}#sk-container-id-6 input.sk-hidden--visually {border: 0;clip: rect(1px 1px 1px 1px);clip: rect(1px, 1px, 1px, 1px);height: 1px;margin: -1px;overflow: hidden;padding: 0;position: absolute;width: 1px;}#sk-container-id-6 div.sk-estimator {font-family: monospace;background-color: #f0f8ff;border: 1px dotted black;border-radius: 0.25em;box-sizing: border-box;margin-bottom: 0.5em;}#sk-container-id-6 div.sk-estimator:hover {background-color: #d4ebff;}#sk-container-id-6 div.sk-parallel-item::after {content: \"\";width: 100%;border-bottom: 1px solid gray;flex-grow: 1;}#sk-container-id-6 div.sk-label:hover label.sk-toggleable__label {background-color: #d4ebff;}#sk-container-id-6 div.sk-serial::before {content: \"\";position: absolute;border-left: 1px solid gray;box-sizing: border-box;top: 0;bottom: 0;left: 50%;z-index: 0;}#sk-container-id-6 div.sk-serial {display: flex;flex-direction: column;align-items: center;background-color: white;padding-right: 0.2em;padding-left: 0.2em;position: relative;}#sk-container-id-6 div.sk-item {position: relative;z-index: 1;}#sk-container-id-6 div.sk-parallel {display: flex;align-items: stretch;justify-content: center;background-color: white;position: relative;}#sk-container-id-6 div.sk-item::before, #sk-container-id-6 div.sk-parallel-item::before {content: \"\";position: absolute;border-left: 1px solid gray;box-sizing: border-box;top: 0;bottom: 0;left: 50%;z-index: -1;}#sk-container-id-6 div.sk-parallel-item {display: flex;flex-direction: column;z-index: 1;position: relative;background-color: white;}#sk-container-id-6 div.sk-parallel-item:first-child::after {align-self: flex-end;width: 50%;}#sk-container-id-6 div.sk-parallel-item:last-child::after {align-self: flex-start;width: 50%;}#sk-container-id-6 div.sk-parallel-item:only-child::after {width: 0;}#sk-container-id-6 div.sk-dashed-wrapped {border: 1px dashed gray;margin: 0 0.4em 0.5em 0.4em;box-sizing: border-box;padding-bottom: 0.4em;background-color: white;}#sk-container-id-6 div.sk-label label {font-family: monospace;font-weight: bold;display: inline-block;line-height: 1.2em;}#sk-container-id-6 div.sk-label-container {text-align: center;}#sk-container-id-6 div.sk-container {/* jupyter's `normalize.less` sets `[hidden] { display: none; }` but bootstrap.min.css set `[hidden] { display: none !important; }` so we also need the `!important` here to be able to override the default hidden behavior on the sphinx rendered scikit-learn.org. See: https://github.com/scikit-learn/scikit-learn/issues/21755 */display: inline-block !important;position: relative;}#sk-container-id-6 div.sk-text-repr-fallback {display: none;}</style><div id=\"sk-container-id-6\" class=\"sk-top-container\"><div class=\"sk-text-repr-fallback\"><pre>Pipeline(steps=[(&#x27;scaler&#x27;, StandardScaler()), (&#x27;svc&#x27;, SVC(C=30, gamma=0.01))])</pre><b>In a Jupyter environment, please rerun this cell to show the HTML representation or trust the notebook. <br />On GitHub, the HTML representation is unable to render, please try loading this page with nbviewer.org.</b></div><div class=\"sk-container\" hidden><div class=\"sk-item sk-dashed-wrapped\"><div class=\"sk-label-container\"><div class=\"sk-label sk-toggleable\"><input class=\"sk-toggleable__control sk-hidden--visually\" id=\"sk-estimator-id-14\" type=\"checkbox\" ><label for=\"sk-estimator-id-14\" class=\"sk-toggleable__label sk-toggleable__label-arrow\">Pipeline</label><div class=\"sk-toggleable__content\"><pre>Pipeline(steps=[(&#x27;scaler&#x27;, StandardScaler()), (&#x27;svc&#x27;, SVC(C=30, gamma=0.01))])</pre></div></div></div><div class=\"sk-serial\"><div class=\"sk-item\"><div class=\"sk-estimator sk-toggleable\"><input class=\"sk-toggleable__control sk-hidden--visually\" id=\"sk-estimator-id-15\" type=\"checkbox\" ><label for=\"sk-estimator-id-15\" class=\"sk-toggleable__label sk-toggleable__label-arrow\">StandardScaler</label><div class=\"sk-toggleable__content\"><pre>StandardScaler()</pre></div></div></div><div class=\"sk-item\"><div class=\"sk-estimator sk-toggleable\"><input class=\"sk-toggleable__control sk-hidden--visually\" id=\"sk-estimator-id-16\" type=\"checkbox\" ><label for=\"sk-estimator-id-16\" class=\"sk-toggleable__label sk-toggleable__label-arrow\">SVC</label><div class=\"sk-toggleable__content\"><pre>SVC(C=30, gamma=0.01)</pre></div></div></div></div></div></div></div>"
      ],
      "text/plain": [
       "Pipeline(steps=[('scaler', StandardScaler()), ('svc', SVC(C=30, gamma=0.01))])"
      ]
     },
     "execution_count": 44,
     "metadata": {},
     "output_type": "execute_result"
    }
   ],
   "source": [
    "pipe_cv.best_estimator_"
   ]
  },
  {
   "cell_type": "code",
   "execution_count": 45,
   "metadata": {
    "executionInfo": {
     "elapsed": 10,
     "status": "ok",
     "timestamp": 1716081535929,
     "user": {
      "displayName": "Willian Macedo Rodrigues",
      "userId": "04289625524537895451"
     },
     "user_tz": 180
    },
    "id": "12T3N5rWQNaU"
   },
   "outputs": [],
   "source": [
    "SVC_best = pipe_cv.best_estimator_"
   ]
  },
  {
   "cell_type": "code",
   "execution_count": 46,
   "metadata": {
    "colab": {
     "base_uri": "https://localhost:8080/"
    },
    "executionInfo": {
     "elapsed": 10,
     "status": "ok",
     "timestamp": 1716081535929,
     "user": {
      "displayName": "Willian Macedo Rodrigues",
      "userId": "04289625524537895451"
     },
     "user_tz": 180
    },
    "id": "UFqLQs4vNiay",
    "outputId": "edb70d34-e8f4-4b62-8026-e346c73a4974"
   },
   "outputs": [
    {
     "data": {
      "text/plain": [
       "0.72"
      ]
     },
     "execution_count": 46,
     "metadata": {},
     "output_type": "execute_result"
    }
   ],
   "source": [
    "SVC_best.score(X_test, y_test)"
   ]
  },
  {
   "cell_type": "code",
   "execution_count": 46,
   "metadata": {
    "executionInfo": {
     "elapsed": 7,
     "status": "ok",
     "timestamp": 1716081535929,
     "user": {
      "displayName": "Willian Macedo Rodrigues",
      "userId": "04289625524537895451"
     },
     "user_tz": 180
    },
    "id": "AeQbLUL77h8M"
   },
   "outputs": [],
   "source": []
  },
  {
   "cell_type": "code",
   "execution_count": 47,
   "metadata": {
    "colab": {
     "base_uri": "https://localhost:8080/"
    },
    "executionInfo": {
     "elapsed": 6,
     "status": "ok",
     "timestamp": 1716081535929,
     "user": {
      "displayName": "Willian Macedo Rodrigues",
      "userId": "04289625524537895451"
     },
     "user_tz": 180
    },
    "id": "-DG0s0jpXjxA",
    "outputId": "fe9c8605-c050-43c2-c9d8-82e94a7b147c"
   },
   "outputs": [
    {
     "name": "stdout",
     "output_type": "stream",
     "text": [
      "0.813 (+/-0.100) for {'svc__C': 10, 'svc__gamma': 'scale', 'svc__kernel': 'rbf'}\n",
      "0.720 (+/-0.433) for {'svc__C': 10, 'svc__gamma': 0.0001, 'svc__kernel': 'rbf'}\n",
      "0.747 (+/-0.131) for {'svc__C': 10, 'svc__gamma': 0.001, 'svc__kernel': 'rbf'}\n",
      "0.787 (+/-0.177) for {'svc__C': 10, 'svc__gamma': 0.01, 'svc__kernel': 'rbf'}\n",
      "0.813 (+/-0.100) for {'svc__C': 10, 'svc__gamma': 0.05, 'svc__kernel': 'rbf'}\n",
      "0.800 (+/-0.189) for {'svc__C': 10, 'svc__gamma': 0.1, 'svc__kernel': 'rbf'}\n",
      "0.560 (+/-0.181) for {'svc__C': 10, 'svc__gamma': 1.0, 'svc__kernel': 'rbf'}\n",
      "0.613 (+/-0.352) for {'svc__C': 10, 'svc__gamma': 10, 'svc__kernel': 'rbf'}\n",
      "0.507 (+/-0.065) for {'svc__C': 10, 'svc__gamma': 100, 'svc__kernel': 'rbf'}\n",
      "0.813 (+/-0.100) for {'svc__C': 20, 'svc__gamma': 'scale', 'svc__kernel': 'rbf'}\n",
      "0.733 (+/-0.404) for {'svc__C': 20, 'svc__gamma': 0.0001, 'svc__kernel': 'rbf'}\n",
      "0.800 (+/-0.119) for {'svc__C': 20, 'svc__gamma': 0.001, 'svc__kernel': 'rbf'}\n",
      "0.813 (+/-0.177) for {'svc__C': 20, 'svc__gamma': 0.01, 'svc__kernel': 'rbf'}\n",
      "0.813 (+/-0.100) for {'svc__C': 20, 'svc__gamma': 0.05, 'svc__kernel': 'rbf'}\n",
      "0.800 (+/-0.189) for {'svc__C': 20, 'svc__gamma': 0.1, 'svc__kernel': 'rbf'}\n",
      "0.560 (+/-0.181) for {'svc__C': 20, 'svc__gamma': 1.0, 'svc__kernel': 'rbf'}\n",
      "0.613 (+/-0.352) for {'svc__C': 20, 'svc__gamma': 10, 'svc__kernel': 'rbf'}\n",
      "0.507 (+/-0.065) for {'svc__C': 20, 'svc__gamma': 100, 'svc__kernel': 'rbf'}\n",
      "0.813 (+/-0.100) for {'svc__C': 30, 'svc__gamma': 'scale', 'svc__kernel': 'rbf'}\n",
      "0.813 (+/-0.177) for {'svc__C': 30, 'svc__gamma': 0.0001, 'svc__kernel': 'rbf'}\n",
      "0.773 (+/-0.107) for {'svc__C': 30, 'svc__gamma': 0.001, 'svc__kernel': 'rbf'}\n",
      "0.840 (+/-0.181) for {'svc__C': 30, 'svc__gamma': 0.01, 'svc__kernel': 'rbf'}\n",
      "0.813 (+/-0.100) for {'svc__C': 30, 'svc__gamma': 0.05, 'svc__kernel': 'rbf'}\n",
      "0.800 (+/-0.189) for {'svc__C': 30, 'svc__gamma': 0.1, 'svc__kernel': 'rbf'}\n",
      "0.560 (+/-0.181) for {'svc__C': 30, 'svc__gamma': 1.0, 'svc__kernel': 'rbf'}\n",
      "0.613 (+/-0.352) for {'svc__C': 30, 'svc__gamma': 10, 'svc__kernel': 'rbf'}\n",
      "0.507 (+/-0.065) for {'svc__C': 30, 'svc__gamma': 100, 'svc__kernel': 'rbf'}\n",
      "0.813 (+/-0.100) for {'svc__C': 40, 'svc__gamma': 'scale', 'svc__kernel': 'rbf'}\n",
      "0.787 (+/-0.100) for {'svc__C': 40, 'svc__gamma': 0.0001, 'svc__kernel': 'rbf'}\n",
      "0.733 (+/-0.084) for {'svc__C': 40, 'svc__gamma': 0.001, 'svc__kernel': 'rbf'}\n",
      "0.840 (+/-0.181) for {'svc__C': 40, 'svc__gamma': 0.01, 'svc__kernel': 'rbf'}\n",
      "0.813 (+/-0.100) for {'svc__C': 40, 'svc__gamma': 0.05, 'svc__kernel': 'rbf'}\n",
      "0.800 (+/-0.189) for {'svc__C': 40, 'svc__gamma': 0.1, 'svc__kernel': 'rbf'}\n",
      "0.560 (+/-0.181) for {'svc__C': 40, 'svc__gamma': 1.0, 'svc__kernel': 'rbf'}\n",
      "0.613 (+/-0.352) for {'svc__C': 40, 'svc__gamma': 10, 'svc__kernel': 'rbf'}\n",
      "0.507 (+/-0.065) for {'svc__C': 40, 'svc__gamma': 100, 'svc__kernel': 'rbf'}\n",
      "0.813 (+/-0.100) for {'svc__C': 50, 'svc__gamma': 'scale', 'svc__kernel': 'rbf'}\n",
      "0.760 (+/-0.136) for {'svc__C': 50, 'svc__gamma': 0.0001, 'svc__kernel': 'rbf'}\n",
      "0.760 (+/-0.107) for {'svc__C': 50, 'svc__gamma': 0.001, 'svc__kernel': 'rbf'}\n",
      "0.840 (+/-0.181) for {'svc__C': 50, 'svc__gamma': 0.01, 'svc__kernel': 'rbf'}\n",
      "0.813 (+/-0.100) for {'svc__C': 50, 'svc__gamma': 0.05, 'svc__kernel': 'rbf'}\n",
      "0.800 (+/-0.189) for {'svc__C': 50, 'svc__gamma': 0.1, 'svc__kernel': 'rbf'}\n",
      "0.560 (+/-0.181) for {'svc__C': 50, 'svc__gamma': 1.0, 'svc__kernel': 'rbf'}\n",
      "0.613 (+/-0.352) for {'svc__C': 50, 'svc__gamma': 10, 'svc__kernel': 'rbf'}\n",
      "0.507 (+/-0.065) for {'svc__C': 50, 'svc__gamma': 100, 'svc__kernel': 'rbf'}\n",
      "0.813 (+/-0.100) for {'svc__C': 60, 'svc__gamma': 'scale', 'svc__kernel': 'rbf'}\n",
      "0.747 (+/-0.131) for {'svc__C': 60, 'svc__gamma': 0.0001, 'svc__kernel': 'rbf'}\n",
      "0.760 (+/-0.065) for {'svc__C': 60, 'svc__gamma': 0.001, 'svc__kernel': 'rbf'}\n",
      "0.840 (+/-0.181) for {'svc__C': 60, 'svc__gamma': 0.01, 'svc__kernel': 'rbf'}\n",
      "0.813 (+/-0.100) for {'svc__C': 60, 'svc__gamma': 0.05, 'svc__kernel': 'rbf'}\n",
      "0.800 (+/-0.189) for {'svc__C': 60, 'svc__gamma': 0.1, 'svc__kernel': 'rbf'}\n",
      "0.560 (+/-0.181) for {'svc__C': 60, 'svc__gamma': 1.0, 'svc__kernel': 'rbf'}\n",
      "0.613 (+/-0.352) for {'svc__C': 60, 'svc__gamma': 10, 'svc__kernel': 'rbf'}\n",
      "0.507 (+/-0.065) for {'svc__C': 60, 'svc__gamma': 100, 'svc__kernel': 'rbf'}\n",
      "0.813 (+/-0.100) for {'svc__C': 70, 'svc__gamma': 'scale', 'svc__kernel': 'rbf'}\n",
      "0.747 (+/-0.131) for {'svc__C': 70, 'svc__gamma': 0.0001, 'svc__kernel': 'rbf'}\n",
      "0.773 (+/-0.107) for {'svc__C': 70, 'svc__gamma': 0.001, 'svc__kernel': 'rbf'}\n",
      "0.840 (+/-0.181) for {'svc__C': 70, 'svc__gamma': 0.01, 'svc__kernel': 'rbf'}\n",
      "0.813 (+/-0.100) for {'svc__C': 70, 'svc__gamma': 0.05, 'svc__kernel': 'rbf'}\n",
      "0.800 (+/-0.189) for {'svc__C': 70, 'svc__gamma': 0.1, 'svc__kernel': 'rbf'}\n",
      "0.560 (+/-0.181) for {'svc__C': 70, 'svc__gamma': 1.0, 'svc__kernel': 'rbf'}\n",
      "0.613 (+/-0.352) for {'svc__C': 70, 'svc__gamma': 10, 'svc__kernel': 'rbf'}\n",
      "0.507 (+/-0.065) for {'svc__C': 70, 'svc__gamma': 100, 'svc__kernel': 'rbf'}\n",
      "0.813 (+/-0.100) for {'svc__C': 80, 'svc__gamma': 'scale', 'svc__kernel': 'rbf'}\n",
      "0.747 (+/-0.131) for {'svc__C': 80, 'svc__gamma': 0.0001, 'svc__kernel': 'rbf'}\n",
      "0.747 (+/-0.131) for {'svc__C': 80, 'svc__gamma': 0.001, 'svc__kernel': 'rbf'}\n",
      "0.840 (+/-0.181) for {'svc__C': 80, 'svc__gamma': 0.01, 'svc__kernel': 'rbf'}\n",
      "0.813 (+/-0.100) for {'svc__C': 80, 'svc__gamma': 0.05, 'svc__kernel': 'rbf'}\n",
      "0.800 (+/-0.189) for {'svc__C': 80, 'svc__gamma': 0.1, 'svc__kernel': 'rbf'}\n",
      "0.560 (+/-0.181) for {'svc__C': 80, 'svc__gamma': 1.0, 'svc__kernel': 'rbf'}\n",
      "0.613 (+/-0.352) for {'svc__C': 80, 'svc__gamma': 10, 'svc__kernel': 'rbf'}\n",
      "0.507 (+/-0.065) for {'svc__C': 80, 'svc__gamma': 100, 'svc__kernel': 'rbf'}\n",
      "0.813 (+/-0.100) for {'svc__C': 100, 'svc__gamma': 'scale', 'svc__kernel': 'rbf'}\n",
      "0.747 (+/-0.131) for {'svc__C': 100, 'svc__gamma': 0.0001, 'svc__kernel': 'rbf'}\n",
      "0.747 (+/-0.177) for {'svc__C': 100, 'svc__gamma': 0.001, 'svc__kernel': 'rbf'}\n",
      "0.840 (+/-0.181) for {'svc__C': 100, 'svc__gamma': 0.01, 'svc__kernel': 'rbf'}\n",
      "0.813 (+/-0.100) for {'svc__C': 100, 'svc__gamma': 0.05, 'svc__kernel': 'rbf'}\n",
      "0.800 (+/-0.189) for {'svc__C': 100, 'svc__gamma': 0.1, 'svc__kernel': 'rbf'}\n",
      "0.560 (+/-0.181) for {'svc__C': 100, 'svc__gamma': 1.0, 'svc__kernel': 'rbf'}\n",
      "0.613 (+/-0.352) for {'svc__C': 100, 'svc__gamma': 10, 'svc__kernel': 'rbf'}\n",
      "0.507 (+/-0.065) for {'svc__C': 100, 'svc__gamma': 100, 'svc__kernel': 'rbf'}\n",
      "0.813 (+/-0.100) for {'svc__C': 120, 'svc__gamma': 'scale', 'svc__kernel': 'rbf'}\n",
      "0.760 (+/-0.107) for {'svc__C': 120, 'svc__gamma': 0.0001, 'svc__kernel': 'rbf'}\n",
      "0.747 (+/-0.196) for {'svc__C': 120, 'svc__gamma': 0.001, 'svc__kernel': 'rbf'}\n",
      "0.840 (+/-0.181) for {'svc__C': 120, 'svc__gamma': 0.01, 'svc__kernel': 'rbf'}\n",
      "0.813 (+/-0.100) for {'svc__C': 120, 'svc__gamma': 0.05, 'svc__kernel': 'rbf'}\n",
      "0.800 (+/-0.189) for {'svc__C': 120, 'svc__gamma': 0.1, 'svc__kernel': 'rbf'}\n",
      "0.560 (+/-0.181) for {'svc__C': 120, 'svc__gamma': 1.0, 'svc__kernel': 'rbf'}\n",
      "0.613 (+/-0.352) for {'svc__C': 120, 'svc__gamma': 10, 'svc__kernel': 'rbf'}\n",
      "0.507 (+/-0.065) for {'svc__C': 120, 'svc__gamma': 100, 'svc__kernel': 'rbf'}\n",
      "0.813 (+/-0.100) for {'svc__C': 150, 'svc__gamma': 'scale', 'svc__kernel': 'rbf'}\n",
      "0.787 (+/-0.100) for {'svc__C': 150, 'svc__gamma': 0.0001, 'svc__kernel': 'rbf'}\n",
      "0.773 (+/-0.275) for {'svc__C': 150, 'svc__gamma': 0.001, 'svc__kernel': 'rbf'}\n",
      "0.840 (+/-0.181) for {'svc__C': 150, 'svc__gamma': 0.01, 'svc__kernel': 'rbf'}\n",
      "0.813 (+/-0.100) for {'svc__C': 150, 'svc__gamma': 0.05, 'svc__kernel': 'rbf'}\n",
      "0.800 (+/-0.189) for {'svc__C': 150, 'svc__gamma': 0.1, 'svc__kernel': 'rbf'}\n",
      "0.560 (+/-0.181) for {'svc__C': 150, 'svc__gamma': 1.0, 'svc__kernel': 'rbf'}\n",
      "0.613 (+/-0.352) for {'svc__C': 150, 'svc__gamma': 10, 'svc__kernel': 'rbf'}\n",
      "0.507 (+/-0.065) for {'svc__C': 150, 'svc__gamma': 100, 'svc__kernel': 'rbf'}\n",
      "0.813 (+/-0.100) for {'svc__C': 200, 'svc__gamma': 'scale', 'svc__kernel': 'rbf'}\n",
      "0.800 (+/-0.119) for {'svc__C': 200, 'svc__gamma': 0.0001, 'svc__kernel': 'rbf'}\n",
      "0.773 (+/-0.275) for {'svc__C': 200, 'svc__gamma': 0.001, 'svc__kernel': 'rbf'}\n",
      "0.840 (+/-0.181) for {'svc__C': 200, 'svc__gamma': 0.01, 'svc__kernel': 'rbf'}\n",
      "0.813 (+/-0.100) for {'svc__C': 200, 'svc__gamma': 0.05, 'svc__kernel': 'rbf'}\n",
      "0.800 (+/-0.189) for {'svc__C': 200, 'svc__gamma': 0.1, 'svc__kernel': 'rbf'}\n",
      "0.560 (+/-0.181) for {'svc__C': 200, 'svc__gamma': 1.0, 'svc__kernel': 'rbf'}\n",
      "0.613 (+/-0.352) for {'svc__C': 200, 'svc__gamma': 10, 'svc__kernel': 'rbf'}\n",
      "0.507 (+/-0.065) for {'svc__C': 200, 'svc__gamma': 100, 'svc__kernel': 'rbf'}\n"
     ]
    }
   ],
   "source": [
    "means = pipe_cv.cv_results_['mean_test_score']\n",
    "stds = pipe_cv.cv_results_['std_test_score']\n",
    "Lparams = pipe_cv.cv_results_['params']\n",
    "\n",
    "for mean, std, params in zip(means, stds, Lparams):\n",
    "    print(\"%0.3f (+/-%0.03f) for %r\"\n",
    "            % (mean, std * 2, params))"
   ]
  },
  {
   "cell_type": "code",
   "execution_count": 48,
   "metadata": {
    "executionInfo": {
     "elapsed": 214,
     "status": "ok",
     "timestamp": 1716081536139,
     "user": {
      "displayName": "Willian Macedo Rodrigues",
      "userId": "04289625524537895451"
     },
     "user_tz": 180
    },
    "id": "iOmnI861U8pn"
   },
   "outputs": [],
   "source": [
    "SVC_best = SVC(C=1.0, gamma='scale', kernel='rbf', verbose=True)"
   ]
  },
  {
   "cell_type": "code",
   "execution_count": 49,
   "metadata": {
    "colab": {
     "base_uri": "https://localhost:8080/",
     "height": 92
    },
    "executionInfo": {
     "elapsed": 13,
     "status": "ok",
     "timestamp": 1716081536139,
     "user": {
      "displayName": "Willian Macedo Rodrigues",
      "userId": "04289625524537895451"
     },
     "user_tz": 180
    },
    "id": "dfxMs62SQLO9",
    "outputId": "ec01090e-ab9e-417b-dff4-045027a43950"
   },
   "outputs": [
    {
     "name": "stdout",
     "output_type": "stream",
     "text": [
      "[LibSVM]"
     ]
    },
    {
     "data": {
      "text/html": [
       "<style>#sk-container-id-7 {color: black;background-color: white;}#sk-container-id-7 pre{padding: 0;}#sk-container-id-7 div.sk-toggleable {background-color: white;}#sk-container-id-7 label.sk-toggleable__label {cursor: pointer;display: block;width: 100%;margin-bottom: 0;padding: 0.3em;box-sizing: border-box;text-align: center;}#sk-container-id-7 label.sk-toggleable__label-arrow:before {content: \"▸\";float: left;margin-right: 0.25em;color: #696969;}#sk-container-id-7 label.sk-toggleable__label-arrow:hover:before {color: black;}#sk-container-id-7 div.sk-estimator:hover label.sk-toggleable__label-arrow:before {color: black;}#sk-container-id-7 div.sk-toggleable__content {max-height: 0;max-width: 0;overflow: hidden;text-align: left;background-color: #f0f8ff;}#sk-container-id-7 div.sk-toggleable__content pre {margin: 0.2em;color: black;border-radius: 0.25em;background-color: #f0f8ff;}#sk-container-id-7 input.sk-toggleable__control:checked~div.sk-toggleable__content {max-height: 200px;max-width: 100%;overflow: auto;}#sk-container-id-7 input.sk-toggleable__control:checked~label.sk-toggleable__label-arrow:before {content: \"▾\";}#sk-container-id-7 div.sk-estimator input.sk-toggleable__control:checked~label.sk-toggleable__label {background-color: #d4ebff;}#sk-container-id-7 div.sk-label input.sk-toggleable__control:checked~label.sk-toggleable__label {background-color: #d4ebff;}#sk-container-id-7 input.sk-hidden--visually {border: 0;clip: rect(1px 1px 1px 1px);clip: rect(1px, 1px, 1px, 1px);height: 1px;margin: -1px;overflow: hidden;padding: 0;position: absolute;width: 1px;}#sk-container-id-7 div.sk-estimator {font-family: monospace;background-color: #f0f8ff;border: 1px dotted black;border-radius: 0.25em;box-sizing: border-box;margin-bottom: 0.5em;}#sk-container-id-7 div.sk-estimator:hover {background-color: #d4ebff;}#sk-container-id-7 div.sk-parallel-item::after {content: \"\";width: 100%;border-bottom: 1px solid gray;flex-grow: 1;}#sk-container-id-7 div.sk-label:hover label.sk-toggleable__label {background-color: #d4ebff;}#sk-container-id-7 div.sk-serial::before {content: \"\";position: absolute;border-left: 1px solid gray;box-sizing: border-box;top: 0;bottom: 0;left: 50%;z-index: 0;}#sk-container-id-7 div.sk-serial {display: flex;flex-direction: column;align-items: center;background-color: white;padding-right: 0.2em;padding-left: 0.2em;position: relative;}#sk-container-id-7 div.sk-item {position: relative;z-index: 1;}#sk-container-id-7 div.sk-parallel {display: flex;align-items: stretch;justify-content: center;background-color: white;position: relative;}#sk-container-id-7 div.sk-item::before, #sk-container-id-7 div.sk-parallel-item::before {content: \"\";position: absolute;border-left: 1px solid gray;box-sizing: border-box;top: 0;bottom: 0;left: 50%;z-index: -1;}#sk-container-id-7 div.sk-parallel-item {display: flex;flex-direction: column;z-index: 1;position: relative;background-color: white;}#sk-container-id-7 div.sk-parallel-item:first-child::after {align-self: flex-end;width: 50%;}#sk-container-id-7 div.sk-parallel-item:last-child::after {align-self: flex-start;width: 50%;}#sk-container-id-7 div.sk-parallel-item:only-child::after {width: 0;}#sk-container-id-7 div.sk-dashed-wrapped {border: 1px dashed gray;margin: 0 0.4em 0.5em 0.4em;box-sizing: border-box;padding-bottom: 0.4em;background-color: white;}#sk-container-id-7 div.sk-label label {font-family: monospace;font-weight: bold;display: inline-block;line-height: 1.2em;}#sk-container-id-7 div.sk-label-container {text-align: center;}#sk-container-id-7 div.sk-container {/* jupyter's `normalize.less` sets `[hidden] { display: none; }` but bootstrap.min.css set `[hidden] { display: none !important; }` so we also need the `!important` here to be able to override the default hidden behavior on the sphinx rendered scikit-learn.org. See: https://github.com/scikit-learn/scikit-learn/issues/21755 */display: inline-block !important;position: relative;}#sk-container-id-7 div.sk-text-repr-fallback {display: none;}</style><div id=\"sk-container-id-7\" class=\"sk-top-container\"><div class=\"sk-text-repr-fallback\"><pre>SVC(verbose=True)</pre><b>In a Jupyter environment, please rerun this cell to show the HTML representation or trust the notebook. <br />On GitHub, the HTML representation is unable to render, please try loading this page with nbviewer.org.</b></div><div class=\"sk-container\" hidden><div class=\"sk-item\"><div class=\"sk-estimator sk-toggleable\"><input class=\"sk-toggleable__control sk-hidden--visually\" id=\"sk-estimator-id-17\" type=\"checkbox\" checked><label for=\"sk-estimator-id-17\" class=\"sk-toggleable__label sk-toggleable__label-arrow\">SVC</label><div class=\"sk-toggleable__content\"><pre>SVC(verbose=True)</pre></div></div></div></div></div>"
      ],
      "text/plain": [
       "SVC(verbose=True)"
      ]
     },
     "execution_count": 49,
     "metadata": {},
     "output_type": "execute_result"
    }
   ],
   "source": [
    "SVC_best.fit(X_train, y_train)"
   ]
  },
  {
   "cell_type": "code",
   "execution_count": 50,
   "metadata": {
    "colab": {
     "base_uri": "https://localhost:8080/"
    },
    "executionInfo": {
     "elapsed": 11,
     "status": "ok",
     "timestamp": 1716081536139,
     "user": {
      "displayName": "Willian Macedo Rodrigues",
      "userId": "04289625524537895451"
     },
     "user_tz": 180
    },
    "id": "az6Jl_PiU0Aq",
    "outputId": "393514de-857b-4136-c4a2-6e87a7beaa75"
   },
   "outputs": [
    {
     "data": {
      "text/plain": [
       "0.88"
      ]
     },
     "execution_count": 50,
     "metadata": {},
     "output_type": "execute_result"
    }
   ],
   "source": [
    "SVC_best.score(X_test, y_test)"
   ]
  },
  {
   "cell_type": "code",
   "execution_count": 51,
   "metadata": {
    "colab": {
     "base_uri": "https://localhost:8080/"
    },
    "executionInfo": {
     "elapsed": 9,
     "status": "ok",
     "timestamp": 1716081536140,
     "user": {
      "displayName": "Willian Macedo Rodrigues",
      "userId": "04289625524537895451"
     },
     "user_tz": 180
    },
    "id": "ot3fN6aRNPQ6",
    "outputId": "aba4300f-c988-4877-b056-b6322eb1e010"
   },
   "outputs": [
    {
     "name": "stdout",
     "output_type": "stream",
     "text": [
      "   mean radius  mean texture  mean perimeter  mean area  mean smoothness  \\\n",
      "0        17.99         10.38          122.80     1001.0          0.11840   \n",
      "1        20.57         17.77          132.90     1326.0          0.08474   \n",
      "2        19.69         21.25          130.00     1203.0          0.10960   \n",
      "3        11.42         20.38           77.58      386.1          0.14250   \n",
      "4        20.29         14.34          135.10     1297.0          0.10030   \n",
      "\n",
      "   mean compactness  mean concavity  mean concave points  mean symmetry  \\\n",
      "0           0.27760          0.3001              0.14710         0.2419   \n",
      "1           0.07864          0.0869              0.07017         0.1812   \n",
      "2           0.15990          0.1974              0.12790         0.2069   \n",
      "3           0.28390          0.2414              0.10520         0.2597   \n",
      "4           0.13280          0.1980              0.10430         0.1809   \n",
      "\n",
      "   mean fractal dimension  ...  worst texture  worst perimeter  worst area  \\\n",
      "0                 0.07871  ...          17.33           184.60      2019.0   \n",
      "1                 0.05667  ...          23.41           158.80      1956.0   \n",
      "2                 0.05999  ...          25.53           152.50      1709.0   \n",
      "3                 0.09744  ...          26.50            98.87       567.7   \n",
      "4                 0.05883  ...          16.67           152.20      1575.0   \n",
      "\n",
      "   worst smoothness  worst compactness  worst concavity  worst concave points  \\\n",
      "0            0.1622             0.6656           0.7119                0.2654   \n",
      "1            0.1238             0.1866           0.2416                0.1860   \n",
      "2            0.1444             0.4245           0.4504                0.2430   \n",
      "3            0.2098             0.8663           0.6869                0.2575   \n",
      "4            0.1374             0.2050           0.4000                0.1625   \n",
      "\n",
      "   worst symmetry  worst fractal dimension  CLASS  \n",
      "0          0.4601                  0.11890      0  \n",
      "1          0.2750                  0.08902      0  \n",
      "2          0.3613                  0.08758      0  \n",
      "3          0.6638                  0.17300      0  \n",
      "4          0.2364                  0.07678      0  \n",
      "\n",
      "[5 rows x 31 columns]\n"
     ]
    }
   ],
   "source": [
    "# importando e definindo a coluna target do DF\n",
    "import pandas as pd\n",
    "from sklearn.datasets import load_breast_cancer\n",
    "\n",
    "cancer = load_breast_cancer()\n",
    "\n",
    "df_cancer = pd.DataFrame(data=cancer.data, columns=cancer.feature_names)\n",
    "df_cancer['CLASS'] = cancer.target\n",
    "\n",
    "print(df_cancer.head())"
   ]
  },
  {
   "cell_type": "code",
   "execution_count": 52,
   "metadata": {
    "colab": {
     "base_uri": "https://localhost:8080/"
    },
    "executionInfo": {
     "elapsed": 8,
     "status": "ok",
     "timestamp": 1716081536140,
     "user": {
      "displayName": "Willian Macedo Rodrigues",
      "userId": "04289625524537895451"
     },
     "user_tz": 180
    },
    "id": "w1sGks7_NYXv",
    "outputId": "c7326794-aed3-48fe-c89c-48d36d0a4875"
   },
   "outputs": [
    {
     "name": "stdout",
     "output_type": "stream",
     "text": [
      "   mean radius  mean texture  mean perimeter  mean area  mean smoothness  \\\n",
      "0     1.097064     -2.073335        1.269934   0.984375         1.568466   \n",
      "1     1.829821     -0.353632        1.685955   1.908708        -0.826962   \n",
      "2     1.579888      0.456187        1.566503   1.558884         0.942210   \n",
      "3    -0.768909      0.253732       -0.592687  -0.764464         3.283553   \n",
      "4     1.750297     -1.151816        1.776573   1.826229         0.280372   \n",
      "\n",
      "   mean compactness  mean concavity  mean concave points  mean symmetry  \\\n",
      "0          3.283515        2.652874             2.532475       2.217515   \n",
      "1         -0.487072       -0.023846             0.548144       0.001392   \n",
      "2          1.052926        1.363478             2.037231       0.939685   \n",
      "3          3.402909        1.915897             1.451707       2.867383   \n",
      "4          0.539340        1.371011             1.428493      -0.009560   \n",
      "\n",
      "   mean fractal dimension  ...  worst radius  worst texture  worst perimeter  \\\n",
      "0                2.255747  ...      1.886690      -1.359293         2.303601   \n",
      "1               -0.868652  ...      1.805927      -0.369203         1.535126   \n",
      "2               -0.398008  ...      1.511870      -0.023974         1.347475   \n",
      "3                4.910919  ...     -0.281464       0.133984        -0.249939   \n",
      "4               -0.562450  ...      1.298575      -1.466770         1.338539   \n",
      "\n",
      "   worst area  worst smoothness  worst compactness  worst concavity  \\\n",
      "0    2.001237          1.307686           2.616665         2.109526   \n",
      "1    1.890489         -0.375612          -0.430444        -0.146749   \n",
      "2    1.456285          0.527407           1.082932         0.854974   \n",
      "3   -0.550021          3.394275           3.893397         1.989588   \n",
      "4    1.220724          0.220556          -0.313395         0.613179   \n",
      "\n",
      "   worst concave points  worst symmetry  worst fractal dimension  \n",
      "0              2.296076        2.750622                 1.937015  \n",
      "1              1.087084       -0.243890                 0.281190  \n",
      "2              1.955000        1.152255                 0.201391  \n",
      "3              2.175786        6.046041                 4.935010  \n",
      "4              0.729259       -0.868353                -0.397100  \n",
      "\n",
      "[5 rows x 30 columns]\n"
     ]
    }
   ],
   "source": [
    "\n",
    "# Normalizar os dados para melhorar a performance dos algoritmos que dependem da escala das variáveis.\n",
    "scaler = StandardScaler()\n",
    "X_train = scaler.fit_transform(X_train)\n",
    "X_test = scaler.transform(X_test)\n",
    "# Separando a coluna target e padronizando os dados\n",
    "from sklearn.preprocessing import StandardScaler\n",
    "\n",
    "X = df_cancer.drop('CLASS', axis=1)\n",
    "y = df_cancer['CLASS']\n",
    "\n",
    "scaler = StandardScaler()\n",
    "X_scaled = scaler.fit_transform(X)\n",
    "\n",
    "print(pd.DataFrame(X_scaled, columns=X.columns).head())"
   ]
  },
  {
   "cell_type": "code",
   "execution_count": 53,
   "metadata": {
    "colab": {
     "base_uri": "https://localhost:8080/",
     "height": 117
    },
    "executionInfo": {
     "elapsed": 4025,
     "status": "ok",
     "timestamp": 1716081540159,
     "user": {
      "displayName": "Willian Macedo Rodrigues",
      "userId": "04289625524537895451"
     },
     "user_tz": 180
    },
    "id": "HAf3dyIiU3nV",
    "outputId": "d65873e8-c8f2-45b4-e74e-e1a7ae04794f"
   },
   "outputs": [
    {
     "data": {
      "text/html": [
       "<style>#sk-container-id-8 {color: black;background-color: white;}#sk-container-id-8 pre{padding: 0;}#sk-container-id-8 div.sk-toggleable {background-color: white;}#sk-container-id-8 label.sk-toggleable__label {cursor: pointer;display: block;width: 100%;margin-bottom: 0;padding: 0.3em;box-sizing: border-box;text-align: center;}#sk-container-id-8 label.sk-toggleable__label-arrow:before {content: \"▸\";float: left;margin-right: 0.25em;color: #696969;}#sk-container-id-8 label.sk-toggleable__label-arrow:hover:before {color: black;}#sk-container-id-8 div.sk-estimator:hover label.sk-toggleable__label-arrow:before {color: black;}#sk-container-id-8 div.sk-toggleable__content {max-height: 0;max-width: 0;overflow: hidden;text-align: left;background-color: #f0f8ff;}#sk-container-id-8 div.sk-toggleable__content pre {margin: 0.2em;color: black;border-radius: 0.25em;background-color: #f0f8ff;}#sk-container-id-8 input.sk-toggleable__control:checked~div.sk-toggleable__content {max-height: 200px;max-width: 100%;overflow: auto;}#sk-container-id-8 input.sk-toggleable__control:checked~label.sk-toggleable__label-arrow:before {content: \"▾\";}#sk-container-id-8 div.sk-estimator input.sk-toggleable__control:checked~label.sk-toggleable__label {background-color: #d4ebff;}#sk-container-id-8 div.sk-label input.sk-toggleable__control:checked~label.sk-toggleable__label {background-color: #d4ebff;}#sk-container-id-8 input.sk-hidden--visually {border: 0;clip: rect(1px 1px 1px 1px);clip: rect(1px, 1px, 1px, 1px);height: 1px;margin: -1px;overflow: hidden;padding: 0;position: absolute;width: 1px;}#sk-container-id-8 div.sk-estimator {font-family: monospace;background-color: #f0f8ff;border: 1px dotted black;border-radius: 0.25em;box-sizing: border-box;margin-bottom: 0.5em;}#sk-container-id-8 div.sk-estimator:hover {background-color: #d4ebff;}#sk-container-id-8 div.sk-parallel-item::after {content: \"\";width: 100%;border-bottom: 1px solid gray;flex-grow: 1;}#sk-container-id-8 div.sk-label:hover label.sk-toggleable__label {background-color: #d4ebff;}#sk-container-id-8 div.sk-serial::before {content: \"\";position: absolute;border-left: 1px solid gray;box-sizing: border-box;top: 0;bottom: 0;left: 50%;z-index: 0;}#sk-container-id-8 div.sk-serial {display: flex;flex-direction: column;align-items: center;background-color: white;padding-right: 0.2em;padding-left: 0.2em;position: relative;}#sk-container-id-8 div.sk-item {position: relative;z-index: 1;}#sk-container-id-8 div.sk-parallel {display: flex;align-items: stretch;justify-content: center;background-color: white;position: relative;}#sk-container-id-8 div.sk-item::before, #sk-container-id-8 div.sk-parallel-item::before {content: \"\";position: absolute;border-left: 1px solid gray;box-sizing: border-box;top: 0;bottom: 0;left: 50%;z-index: -1;}#sk-container-id-8 div.sk-parallel-item {display: flex;flex-direction: column;z-index: 1;position: relative;background-color: white;}#sk-container-id-8 div.sk-parallel-item:first-child::after {align-self: flex-end;width: 50%;}#sk-container-id-8 div.sk-parallel-item:last-child::after {align-self: flex-start;width: 50%;}#sk-container-id-8 div.sk-parallel-item:only-child::after {width: 0;}#sk-container-id-8 div.sk-dashed-wrapped {border: 1px dashed gray;margin: 0 0.4em 0.5em 0.4em;box-sizing: border-box;padding-bottom: 0.4em;background-color: white;}#sk-container-id-8 div.sk-label label {font-family: monospace;font-weight: bold;display: inline-block;line-height: 1.2em;}#sk-container-id-8 div.sk-label-container {text-align: center;}#sk-container-id-8 div.sk-container {/* jupyter's `normalize.less` sets `[hidden] { display: none; }` but bootstrap.min.css set `[hidden] { display: none !important; }` so we also need the `!important` here to be able to override the default hidden behavior on the sphinx rendered scikit-learn.org. See: https://github.com/scikit-learn/scikit-learn/issues/21755 */display: inline-block !important;position: relative;}#sk-container-id-8 div.sk-text-repr-fallback {display: none;}</style><div id=\"sk-container-id-8\" class=\"sk-top-container\"><div class=\"sk-text-repr-fallback\"><pre>GridSearchCV(cv=5, estimator=SVC(),\n",
       "             param_grid={&#x27;C&#x27;: [0.1, 1, 10, 15, 25, 50, 75, 100],\n",
       "                         &#x27;gamma&#x27;: [0.1, 0.01, 0.03, 0.05, 0.07, 0.08, 0.09,\n",
       "                                   0.001, 0.0001]},\n",
       "             scoring=&#x27;accuracy&#x27;)</pre><b>In a Jupyter environment, please rerun this cell to show the HTML representation or trust the notebook. <br />On GitHub, the HTML representation is unable to render, please try loading this page with nbviewer.org.</b></div><div class=\"sk-container\" hidden><div class=\"sk-item sk-dashed-wrapped\"><div class=\"sk-label-container\"><div class=\"sk-label sk-toggleable\"><input class=\"sk-toggleable__control sk-hidden--visually\" id=\"sk-estimator-id-18\" type=\"checkbox\" ><label for=\"sk-estimator-id-18\" class=\"sk-toggleable__label sk-toggleable__label-arrow\">GridSearchCV</label><div class=\"sk-toggleable__content\"><pre>GridSearchCV(cv=5, estimator=SVC(),\n",
       "             param_grid={&#x27;C&#x27;: [0.1, 1, 10, 15, 25, 50, 75, 100],\n",
       "                         &#x27;gamma&#x27;: [0.1, 0.01, 0.03, 0.05, 0.07, 0.08, 0.09,\n",
       "                                   0.001, 0.0001]},\n",
       "             scoring=&#x27;accuracy&#x27;)</pre></div></div></div><div class=\"sk-parallel\"><div class=\"sk-parallel-item\"><div class=\"sk-item\"><div class=\"sk-label-container\"><div class=\"sk-label sk-toggleable\"><input class=\"sk-toggleable__control sk-hidden--visually\" id=\"sk-estimator-id-19\" type=\"checkbox\" ><label for=\"sk-estimator-id-19\" class=\"sk-toggleable__label sk-toggleable__label-arrow\">estimator: SVC</label><div class=\"sk-toggleable__content\"><pre>SVC()</pre></div></div></div><div class=\"sk-serial\"><div class=\"sk-item\"><div class=\"sk-estimator sk-toggleable\"><input class=\"sk-toggleable__control sk-hidden--visually\" id=\"sk-estimator-id-20\" type=\"checkbox\" ><label for=\"sk-estimator-id-20\" class=\"sk-toggleable__label sk-toggleable__label-arrow\">SVC</label><div class=\"sk-toggleable__content\"><pre>SVC()</pre></div></div></div></div></div></div></div></div></div></div>"
      ],
      "text/plain": [
       "GridSearchCV(cv=5, estimator=SVC(),\n",
       "             param_grid={'C': [0.1, 1, 10, 15, 25, 50, 75, 100],\n",
       "                         'gamma': [0.1, 0.01, 0.03, 0.05, 0.07, 0.08, 0.09,\n",
       "                                   0.001, 0.0001]},\n",
       "             scoring='accuracy')"
      ]
     },
     "execution_count": 53,
     "metadata": {},
     "output_type": "execute_result"
    }
   ],
   "source": [
    "# Definindo os parâmetros e executando os testes\n",
    "from sklearn.model_selection import GridSearchCV\n",
    "from sklearn.svm import SVC\n",
    "\n",
    "param_grid_linear = {'C': [0.1, 0.2, 0.3, 0.4, 0.5, 0.6, 0.7, 0.8, 0.9, 1, 10, 100]}\n",
    "param_grid_rbf = {'C': [0.1, 1, 10, 15, 25, 50, 75, 100], 'gamma': [0.1, 0.01, 0.03, 0.05, 0.07, 0.08, 0.09, 0.001, 0.0001]}\n",
    "\n",
    "# SVM com kernel linear\n",
    "svc_linear = SVC(kernel='linear')\n",
    "grid_linear = GridSearchCV(estimator=svc_linear, param_grid=param_grid_linear, scoring='accuracy', cv=5)\n",
    "grid_linear.fit(X_scaled, y)\n",
    "\n",
    "# SVM com kernel RBF\n",
    "svc_rbf = SVC(kernel='rbf')\n",
    "grid_rbf = GridSearchCV(estimator=svc_rbf, param_grid=param_grid_rbf, scoring='accuracy', cv=5)\n",
    "grid_rbf.fit(X_scaled, y)\n",
    "\n"
   ]
  },
  {
   "cell_type": "code",
   "execution_count": 54,
   "metadata": {
    "colab": {
     "base_uri": "https://localhost:8080/"
    },
    "executionInfo": {
     "elapsed": 11,
     "status": "ok",
     "timestamp": 1716081540159,
     "user": {
      "displayName": "Willian Macedo Rodrigues",
      "userId": "04289625524537895451"
     },
     "user_tz": 180
    },
    "id": "o3gSFanU4Y0l",
    "outputId": "aa2a2067-e3ab-4328-d1bb-13ade0bdfa8f"
   },
   "outputs": [
    {
     "name": "stdout",
     "output_type": "stream",
     "text": [
      "0.975 (+/-0.013) for {'C': 0.1}\n",
      "0.974 (+/-0.016) for {'C': 0.2}\n",
      "0.972 (+/-0.017) for {'C': 0.3}\n",
      "0.972 (+/-0.017) for {'C': 0.4}\n",
      "0.972 (+/-0.017) for {'C': 0.5}\n",
      "0.975 (+/-0.017) for {'C': 0.6}\n",
      "0.975 (+/-0.017) for {'C': 0.7}\n",
      "0.974 (+/-0.016) for {'C': 0.8}\n",
      "0.974 (+/-0.016) for {'C': 0.9}\n",
      "0.970 (+/-0.021) for {'C': 1}\n",
      "0.967 (+/-0.026) for {'C': 10}\n",
      "0.960 (+/-0.047) for {'C': 100}\n"
     ]
    }
   ],
   "source": [
    "# Resultados LINEAR\n",
    "means = grid_linear.cv_results_['mean_test_score']\n",
    "stds = grid_linear.cv_results_['std_test_score']\n",
    "Lparams = grid_linear.cv_results_['params']\n",
    "\n",
    "for mean, std, params in zip(means, stds, Lparams):\n",
    "    print(\"%0.3f (+/-%0.03f) for %r\"\n",
    "            % (mean, std * 2, params))"
   ]
  },
  {
   "cell_type": "code",
   "execution_count": 55,
   "metadata": {
    "colab": {
     "base_uri": "https://localhost:8080/"
    },
    "executionInfo": {
     "elapsed": 12,
     "status": "ok",
     "timestamp": 1716081540161,
     "user": {
      "displayName": "Willian Macedo Rodrigues",
      "userId": "04289625524537895451"
     },
     "user_tz": 180
    },
    "id": "BuE5DTlb4jzj",
    "outputId": "dd3539ca-2990-422c-cc05-84a93e342567"
   },
   "outputs": [
    {
     "name": "stdout",
     "output_type": "stream",
     "text": [
      "0.935 (+/-0.049) for {'C': 0.1, 'gamma': 0.1}\n",
      "0.947 (+/-0.046) for {'C': 0.1, 'gamma': 0.01}\n",
      "0.946 (+/-0.034) for {'C': 0.1, 'gamma': 0.03}\n",
      "0.947 (+/-0.031) for {'C': 0.1, 'gamma': 0.05}\n",
      "0.939 (+/-0.053) for {'C': 0.1, 'gamma': 0.07}\n",
      "0.935 (+/-0.049) for {'C': 0.1, 'gamma': 0.08}\n",
      "0.935 (+/-0.049) for {'C': 0.1, 'gamma': 0.09}\n",
      "0.791 (+/-0.081) for {'C': 0.1, 'gamma': 0.001}\n",
      "0.627 (+/-0.008) for {'C': 0.1, 'gamma': 0.0001}\n",
      "0.960 (+/-0.018) for {'C': 1, 'gamma': 0.1}\n",
      "0.967 (+/-0.020) for {'C': 1, 'gamma': 0.01}\n",
      "0.974 (+/-0.029) for {'C': 1, 'gamma': 0.03}\n",
      "0.974 (+/-0.027) for {'C': 1, 'gamma': 0.05}\n",
      "0.974 (+/-0.029) for {'C': 1, 'gamma': 0.07}\n",
      "0.963 (+/-0.013) for {'C': 1, 'gamma': 0.08}\n",
      "0.961 (+/-0.014) for {'C': 1, 'gamma': 0.09}\n",
      "0.947 (+/-0.025) for {'C': 1, 'gamma': 0.001}\n",
      "0.794 (+/-0.065) for {'C': 1, 'gamma': 0.0001}\n",
      "0.947 (+/-0.043) for {'C': 10, 'gamma': 0.1}\n",
      "0.979 (+/-0.014) for {'C': 10, 'gamma': 0.01}\n",
      "0.977 (+/-0.018) for {'C': 10, 'gamma': 0.03}\n",
      "0.968 (+/-0.028) for {'C': 10, 'gamma': 0.05}\n",
      "0.960 (+/-0.031) for {'C': 10, 'gamma': 0.07}\n",
      "0.956 (+/-0.046) for {'C': 10, 'gamma': 0.08}\n",
      "0.951 (+/-0.045) for {'C': 10, 'gamma': 0.09}\n",
      "0.974 (+/-0.011) for {'C': 10, 'gamma': 0.001}\n",
      "0.947 (+/-0.025) for {'C': 10, 'gamma': 0.0001}\n",
      "0.949 (+/-0.042) for {'C': 15, 'gamma': 0.1}\n",
      "0.979 (+/-0.014) for {'C': 15, 'gamma': 0.01}\n",
      "0.972 (+/-0.030) for {'C': 15, 'gamma': 0.03}\n",
      "0.961 (+/-0.028) for {'C': 15, 'gamma': 0.05}\n",
      "0.953 (+/-0.036) for {'C': 15, 'gamma': 0.07}\n",
      "0.953 (+/-0.048) for {'C': 15, 'gamma': 0.08}\n",
      "0.953 (+/-0.048) for {'C': 15, 'gamma': 0.09}\n",
      "0.974 (+/-0.025) for {'C': 15, 'gamma': 0.001}\n",
      "0.946 (+/-0.020) for {'C': 15, 'gamma': 0.0001}\n",
      "0.949 (+/-0.042) for {'C': 25, 'gamma': 0.1}\n",
      "0.979 (+/-0.014) for {'C': 25, 'gamma': 0.01}\n",
      "0.967 (+/-0.026) for {'C': 25, 'gamma': 0.03}\n",
      "0.958 (+/-0.030) for {'C': 25, 'gamma': 0.05}\n",
      "0.956 (+/-0.033) for {'C': 25, 'gamma': 0.07}\n",
      "0.954 (+/-0.042) for {'C': 25, 'gamma': 0.08}\n",
      "0.953 (+/-0.048) for {'C': 25, 'gamma': 0.09}\n",
      "0.974 (+/-0.022) for {'C': 25, 'gamma': 0.001}\n",
      "0.958 (+/-0.030) for {'C': 25, 'gamma': 0.0001}\n",
      "0.949 (+/-0.042) for {'C': 50, 'gamma': 0.1}\n",
      "0.974 (+/-0.029) for {'C': 50, 'gamma': 0.01}\n",
      "0.960 (+/-0.024) for {'C': 50, 'gamma': 0.03}\n",
      "0.956 (+/-0.029) for {'C': 50, 'gamma': 0.05}\n",
      "0.956 (+/-0.033) for {'C': 50, 'gamma': 0.07}\n",
      "0.954 (+/-0.042) for {'C': 50, 'gamma': 0.08}\n",
      "0.953 (+/-0.048) for {'C': 50, 'gamma': 0.09}\n",
      "0.974 (+/-0.016) for {'C': 50, 'gamma': 0.001}\n",
      "0.968 (+/-0.024) for {'C': 50, 'gamma': 0.0001}\n",
      "0.949 (+/-0.042) for {'C': 75, 'gamma': 0.1}\n",
      "0.972 (+/-0.023) for {'C': 75, 'gamma': 0.01}\n",
      "0.956 (+/-0.029) for {'C': 75, 'gamma': 0.03}\n",
      "0.956 (+/-0.029) for {'C': 75, 'gamma': 0.05}\n",
      "0.956 (+/-0.033) for {'C': 75, 'gamma': 0.07}\n",
      "0.954 (+/-0.042) for {'C': 75, 'gamma': 0.08}\n",
      "0.953 (+/-0.048) for {'C': 75, 'gamma': 0.09}\n",
      "0.974 (+/-0.011) for {'C': 75, 'gamma': 0.001}\n",
      "0.968 (+/-0.024) for {'C': 75, 'gamma': 0.0001}\n",
      "0.949 (+/-0.042) for {'C': 100, 'gamma': 0.1}\n",
      "0.968 (+/-0.018) for {'C': 100, 'gamma': 0.01}\n",
      "0.958 (+/-0.034) for {'C': 100, 'gamma': 0.03}\n",
      "0.956 (+/-0.029) for {'C': 100, 'gamma': 0.05}\n",
      "0.956 (+/-0.033) for {'C': 100, 'gamma': 0.07}\n",
      "0.954 (+/-0.042) for {'C': 100, 'gamma': 0.08}\n",
      "0.953 (+/-0.048) for {'C': 100, 'gamma': 0.09}\n",
      "0.970 (+/-0.014) for {'C': 100, 'gamma': 0.001}\n",
      "0.974 (+/-0.011) for {'C': 100, 'gamma': 0.0001}\n"
     ]
    }
   ],
   "source": [
    "# Resultados RBF\n",
    "means = grid_rbf.cv_results_['mean_test_score']\n",
    "stds = grid_rbf.cv_results_['std_test_score']\n",
    "Lparams = grid_rbf.cv_results_['params']\n",
    "\n",
    "for mean, std, params in zip(means, stds, Lparams):\n",
    "    print(\"%0.3f (+/-%0.03f) for %r\"\n",
    "            % (mean, std * 2, params))"
   ]
  },
  {
   "cell_type": "code",
   "execution_count": 56,
   "metadata": {
    "colab": {
     "base_uri": "https://localhost:8080/"
    },
    "executionInfo": {
     "elapsed": 9,
     "status": "ok",
     "timestamp": 1716081540161,
     "user": {
      "displayName": "Willian Macedo Rodrigues",
      "userId": "04289625524537895451"
     },
     "user_tz": 180
    },
    "id": "QAkKEPsKWBFv",
    "outputId": "8fe44001-d96a-48e7-cf84-db0c8e4621f5"
   },
   "outputs": [
    {
     "name": "stdout",
     "output_type": "stream",
     "text": [
      "Melhores parâmetros para SVM com kernel linear: {'C': 0.1}\n",
      "Melhores parâmetros para SVM com kernel RBF: {'C': 10, 'gamma': 0.01}\n"
     ]
    }
   ],
   "source": [
    "print(\"Melhores parâmetros para SVM com kernel linear:\", grid_linear.best_params_)\n",
    "print(\"Melhores parâmetros para SVM com kernel RBF:\", grid_rbf.best_params_)"
   ]
  },
  {
   "cell_type": "code",
   "execution_count": 57,
   "metadata": {
    "executionInfo": {
     "elapsed": 6,
     "status": "ok",
     "timestamp": 1716081540161,
     "user": {
      "displayName": "Willian Macedo Rodrigues",
      "userId": "04289625524537895451"
     },
     "user_tz": 180
    },
    "id": "n4sQF7uRNc3P"
   },
   "outputs": [],
   "source": [
    "\n",
    "# Normalizar os dados para melhorar a performance dos algoritmos que dependem da escala das variáveis.\n",
    "scaler = StandardScaler()\n",
    "X_train = scaler.fit_transform(X_train)\n",
    "X_test = scaler.transform(X_test)\n",
    "from sklearn.pipeline import Pipeline\n",
    "\n",
    "# Pipeline com kernel linear\n",
    "pipe_svc_linear = Pipeline([('scaler', StandardScaler()), ('svm_linear', SVC(kernel='linear'))])\n",
    "\n",
    "# Pipeline com kernel RBF\n",
    "pipe_svc_rbf = Pipeline([('scaler', StandardScaler()), ('svm_rbf', SVC(kernel='rbf'))])\n"
   ]
  },
  {
   "cell_type": "code",
   "execution_count": 58,
   "metadata": {
    "colab": {
     "base_uri": "https://localhost:8080/"
    },
    "executionInfo": {
     "elapsed": 6,
     "status": "ok",
     "timestamp": 1716081540161,
     "user": {
      "displayName": "Willian Macedo Rodrigues",
      "userId": "04289625524537895451"
     },
     "user_tz": 180
    },
    "id": "QePdO7pENjfy",
    "outputId": "a5ca4b47-d8bd-4a02-831b-c1e55ebe59aa"
   },
   "outputs": [
    {
     "name": "stdout",
     "output_type": "stream",
     "text": [
      "SVM com kernel linear:\n",
      "Acurácia Média: 0.9718987734823784\n",
      "Desvio Padrão: 0.008556812051479262\n",
      "\n",
      "SVM com kernel RBF:\n",
      "Acurácia Média: 0.9736376339077782\n",
      "Desvio Padrão: 0.014678541667933545\n"
     ]
    }
   ],
   "source": [
    "from sklearn.model_selection import cross_val_score\n",
    "import numpy as np\n",
    "\n",
    "\n",
    "def print_metrics(scores):\n",
    "    print(\"Acurácia Média:\", np.mean(scores))\n",
    "    print(\"Desvio Padrão:\", np.std(scores))\n",
    "\n",
    "# Linear com validação cruzada de 5\n",
    "scores_linear = cross_val_score(pipe_svc_linear, X, y, cv=5, scoring='accuracy')\n",
    "print(\"SVM com kernel linear:\")\n",
    "print_metrics(scores_linear)\n",
    "\n",
    "# RBF com validação cruzada de 5\n",
    "scores_rbf = cross_val_score(pipe_svc_rbf, X, y, cv=5, scoring='accuracy')\n",
    "print(\"\\nSVM com kernel RBF:\")\n",
    "print_metrics(scores_rbf)\n"
   ]
  }
 ],
 "metadata": {
  "colab": {
   "provenance": [
    {
     "file_id": "1YYRqFrR3i9u2ArhTeTKxpkEBVMCVqzS4",
     "timestamp": 1715473917549
    }
   ]
  },
  "kernelspec": {
   "display_name": "Python 3",
   "name": "python3"
  }
 },
 "nbformat": 4,
 "nbformat_minor": 0
}
