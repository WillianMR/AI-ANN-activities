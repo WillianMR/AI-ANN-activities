{
 "cells": [
  {
   "cell_type": "markdown",
   "id": "1a0b5f86",
   "metadata": {},
   "source": [
    "\n",
    "# Aula de Machine Learning - Classificação e Regressão\n",
    "\n",
    "Este notebook cobre tópicos introdutórios em Machine Learning, incluindo algoritmos de classificação e regressão.\n",
    "Demonstra o uso de diferentes algoritmos de aprendizado supervisionado com foco em suas implementações e avaliação.\n",
    "\n",
    "## Conteúdos:\n",
    "1. Pré-processamento de Dados\n",
    "2. Algoritmos de Classificação e Regressão\n",
    "3. Avaliação de Modelos e Interpretação de Resultados\n"
   ]
  },
  {
   "cell_type": "markdown",
   "id": "0425827a",
   "metadata": {
    "id": "0425827a"
   },
   "source": [
    "# Projeto de Aula: Explorando Diferentes Modelos de Machine Learning\n",
    "Neste notebook, vamos ensinar os alunos a implementar e comparar diferentes modelos de machine learning, como Regressão Linear, Random Forest, XGBoost, KNN, e outros. Também iremos demonstrar técnicas para melhorar o desempenho desses modelos usando a base de dados `Iris` do scikit-learn.\n",
    "\n",
    "## Objetivo:\n",
    "1. Implementar e comparar diferentes modelos de machine learning.\n",
    "2. Demonstrar como melhorar o desempenho dos modelos com técnicas básicas.\n",
    "3. Avaliar a acurácia e o relatório de classificação de cada modelo."
   ]
  },
  {
   "cell_type": "code",
   "execution_count": 1,
   "id": "ae615d2d",
   "metadata": {
    "executionInfo": {
     "elapsed": 5133,
     "status": "ok",
     "timestamp": 1722901634191,
     "user": {
      "displayName": "Willian Macedo Rodrigues",
      "userId": "04289625524537895451"
     },
     "user_tz": 180
    },
    "id": "ae615d2d"
   },
   "outputs": [],
   "source": [
    "\n",
    "# Dividir os dados em conjuntos de treino e teste\n",
    "# Isso ajuda a avaliar a capacidade de generalização dos modelos.\n",
    "X_train, X_test, y_train, y_test = train_test_split(X, y, test_size=0.2, random_state=42)\n",
    "# Importando bibliotecas necessárias\n",
    "import numpy as np\n",
    "import pandas as pd\n",
    "from sklearn.datasets import load_iris\n",
    "from sklearn.model_selection import train_test_split\n",
    "from sklearn.metrics import accuracy_score, classification_report\n",
    "from sklearn.linear_model import LogisticRegression\n",
    "from sklearn.ensemble import RandomForestClassifier\n",
    "from xgboost import XGBClassifier\n",
    "from sklearn.neighbors import KNeighborsClassifier\n",
    "import matplotlib.pyplot as plt\n",
    "import seaborn as sns"
   ]
  },
  {
   "cell_type": "markdown",
   "id": "488c874c",
   "metadata": {
    "id": "488c874c"
   },
   "source": [
    "## Carregar a base de dados `Iris`\n",
    "Vamos carregar a base de dados `Iris` do scikit-learn e dividir os dados em conjuntos de treino e teste."
   ]
  },
  {
   "cell_type": "code",
   "execution_count": 2,
   "id": "fa28857e",
   "metadata": {
    "executionInfo": {
     "elapsed": 6,
     "status": "ok",
     "timestamp": 1722901634193,
     "user": {
      "displayName": "Willian Macedo Rodrigues",
      "userId": "04289625524537895451"
     },
     "user_tz": 180
    },
    "id": "fa28857e"
   },
   "outputs": [],
   "source": [
    "\n",
    "# Dividir os dados em conjuntos de treino e teste\n",
    "# Isso ajuda a avaliar a capacidade de generalização dos modelos.\n",
    "X_train, X_test, y_train, y_test = train_test_split(X, y, test_size=0.2, random_state=42)\n",
    "# Carregar a base de dados Iris\n",
    "data = load_iris()\n",
    "X = data.data\n",
    "y = data.target\n",
    "\n",
    "# Dividir em conjuntos de treino e teste\n",
    "X_train, X_test, y_train, y_test = train_test_split(X, y, test_size=0.3, random_state=42)"
   ]
  },
  {
   "cell_type": "markdown",
   "id": "cb768dcb",
   "metadata": {
    "id": "cb768dcb"
   },
   "source": [
    "## Função para treinar e avaliar modelos\n",
    "Vamos criar uma função que treina e avalia os modelos, retornando a acurácia e o relatório de classificação."
   ]
  },
  {
   "cell_type": "code",
   "execution_count": 3,
   "id": "ef0c1725",
   "metadata": {
    "executionInfo": {
     "elapsed": 5,
     "status": "ok",
     "timestamp": 1722901634193,
     "user": {
      "displayName": "Willian Macedo Rodrigues",
      "userId": "04289625524537895451"
     },
     "user_tz": 180
    },
    "id": "ef0c1725"
   },
   "outputs": [],
   "source": [
    "# Função para treinar e avaliar modelos\n",
    "def evaluate_model(model, X_train, X_test, y_train, y_test):\n",
    "    model.fit(X_train, y_train)\n",
    "    y_pred = model.predict(X_test)\n",
    "    accuracy = accuracy_score(y_test, y_pred)\n",
    "    report = classification_report(y_test, y_pred)\n",
    "    return accuracy, report"
   ]
  },
  {
   "cell_type": "markdown",
   "id": "976df0cf",
   "metadata": {
    "id": "976df0cf"
   },
   "source": [
    "## Modelos a serem testados\n",
    "Vamos testar diferentes modelos de machine learning: Regressão Linear, Random Forest, XGBoost, e KNN."
   ]
  },
  {
   "cell_type": "code",
   "execution_count": 4,
   "id": "1d641cca",
   "metadata": {
    "executionInfo": {
     "elapsed": 1340,
     "status": "ok",
     "timestamp": 1722901635529,
     "user": {
      "displayName": "Willian Macedo Rodrigues",
      "userId": "04289625524537895451"
     },
     "user_tz": 180
    },
    "id": "1d641cca"
   },
   "outputs": [],
   "source": [
    "\n",
    "# Modelo de Regressão Logística\n",
    "# Treinamento e avaliação do modelo de Regressão Logística no conjunto de dados escalado.\n",
    "logreg = LogisticRegression(random_state=42)\n",
    "logreg.fit(X_train, y_train)\n",
    "y_pred_logreg = logreg.predict(X_test)\n",
    "\n",
    "# Avaliação do modelo\n",
    "print(\"Acurácia Regressão Logística:\", accuracy_score(y_test, y_pred_logreg))\n",
    "print(\"Relatório de Classificação para Regressão Logística:\\n\", classification_report(y_test, y_pred_logreg))\n",
    "# Modelos a serem testados\n",
    "models = {\n",
    "    \"Logistic Regression\": LogisticRegression(max_iter=200),\n",
    "    \"Random Forest\": RandomForestClassifier(),\n",
    "    \"XGBoost\": XGBClassifier(),\n",
    "    \"KNN\": KNeighborsClassifier()\n",
    "}\n",
    "\n",
    "# Avaliar cada modelo\n",
    "results = {}\n",
    "for name, model in models.items():\n",
    "    accuracy, report = evaluate_model(model, X_train, X_test, y_train, y_test)\n",
    "    results[name] = (accuracy, report)"
   ]
  },
  {
   "cell_type": "markdown",
   "id": "475e070d",
   "metadata": {
    "id": "475e070d"
   },
   "source": [
    "## Exibir Resultados\n",
    "Vamos exibir os resultados da acurácia e do relatório de classificação para cada modelo."
   ]
  },
  {
   "cell_type": "code",
   "execution_count": 5,
   "id": "0686bb86",
   "metadata": {
    "colab": {
     "base_uri": "https://localhost:8080/"
    },
    "executionInfo": {
     "elapsed": 8,
     "status": "ok",
     "timestamp": 1722901635529,
     "user": {
      "displayName": "Willian Macedo Rodrigues",
      "userId": "04289625524537895451"
     },
     "user_tz": 180
    },
    "id": "0686bb86",
    "outputId": "cdf1c2bd-defc-46ec-df4b-2f80a664262e"
   },
   "outputs": [
    {
     "name": "stdout",
     "output_type": "stream",
     "text": [
      "Modelo: Logistic Regression\n",
      "Acurácia: 1.00\n",
      "Relatório de Classificação:\n",
      "              precision    recall  f1-score   support\n",
      "\n",
      "           0       1.00      1.00      1.00        19\n",
      "           1       1.00      1.00      1.00        13\n",
      "           2       1.00      1.00      1.00        13\n",
      "\n",
      "    accuracy                           1.00        45\n",
      "   macro avg       1.00      1.00      1.00        45\n",
      "weighted avg       1.00      1.00      1.00        45\n",
      "\n",
      "--------------------------------------------------\n",
      "Modelo: Random Forest\n",
      "Acurácia: 1.00\n",
      "Relatório de Classificação:\n",
      "              precision    recall  f1-score   support\n",
      "\n",
      "           0       1.00      1.00      1.00        19\n",
      "           1       1.00      1.00      1.00        13\n",
      "           2       1.00      1.00      1.00        13\n",
      "\n",
      "    accuracy                           1.00        45\n",
      "   macro avg       1.00      1.00      1.00        45\n",
      "weighted avg       1.00      1.00      1.00        45\n",
      "\n",
      "--------------------------------------------------\n",
      "Modelo: XGBoost\n",
      "Acurácia: 1.00\n",
      "Relatório de Classificação:\n",
      "              precision    recall  f1-score   support\n",
      "\n",
      "           0       1.00      1.00      1.00        19\n",
      "           1       1.00      1.00      1.00        13\n",
      "           2       1.00      1.00      1.00        13\n",
      "\n",
      "    accuracy                           1.00        45\n",
      "   macro avg       1.00      1.00      1.00        45\n",
      "weighted avg       1.00      1.00      1.00        45\n",
      "\n",
      "--------------------------------------------------\n",
      "Modelo: KNN\n",
      "Acurácia: 1.00\n",
      "Relatório de Classificação:\n",
      "              precision    recall  f1-score   support\n",
      "\n",
      "           0       1.00      1.00      1.00        19\n",
      "           1       1.00      1.00      1.00        13\n",
      "           2       1.00      1.00      1.00        13\n",
      "\n",
      "    accuracy                           1.00        45\n",
      "   macro avg       1.00      1.00      1.00        45\n",
      "weighted avg       1.00      1.00      1.00        45\n",
      "\n",
      "--------------------------------------------------\n"
     ]
    }
   ],
   "source": [
    "# Exibir resultados\n",
    "for name, (accuracy, report) in results.items():\n",
    "    print(f\"Modelo: {name}\")\n",
    "    print(f\"Acurácia: {accuracy:.2f}\")\n",
    "    print(\"Relatório de Classificação:\")\n",
    "    print(report)\n",
    "    print(\"-\" * 50)"
   ]
  },
  {
   "cell_type": "markdown",
   "id": "dda5c593",
   "metadata": {
    "id": "dda5c593"
   },
   "source": [
    "## Melhorando o Desempenho: Ajuste de Hiperparâmetros Manual\n",
    "Vamos testar diferentes configurações do modelo Random Forest e diferentes valores de `k` para o modelo KNN."
   ]
  },
  {
   "cell_type": "code",
   "execution_count": 6,
   "id": "71347064",
   "metadata": {
    "colab": {
     "base_uri": "https://localhost:8080/"
    },
    "executionInfo": {
     "elapsed": 4226,
     "status": "ok",
     "timestamp": 1722901639752,
     "user": {
      "displayName": "Willian Macedo Rodrigues",
      "userId": "04289625524537895451"
     },
     "user_tz": 180
    },
    "id": "71347064",
    "outputId": "b099bdb0-94d4-4789-ce07-46d6f834aba3"
   },
   "outputs": [
    {
     "name": "stdout",
     "output_type": "stream",
     "text": [
      "Configuração: {'n_estimators': 50, 'max_depth': None}\n",
      "Acurácia: 1.00\n",
      "Relatório de Classificação:\n",
      "              precision    recall  f1-score   support\n",
      "\n",
      "           0       1.00      1.00      1.00        19\n",
      "           1       1.00      1.00      1.00        13\n",
      "           2       1.00      1.00      1.00        13\n",
      "\n",
      "    accuracy                           1.00        45\n",
      "   macro avg       1.00      1.00      1.00        45\n",
      "weighted avg       1.00      1.00      1.00        45\n",
      "\n",
      "--------------------------------------------------\n",
      "Configuração: {'n_estimators': 100, 'max_depth': 10}\n",
      "Acurácia: 1.00\n",
      "Relatório de Classificação:\n",
      "              precision    recall  f1-score   support\n",
      "\n",
      "           0       1.00      1.00      1.00        19\n",
      "           1       1.00      1.00      1.00        13\n",
      "           2       1.00      1.00      1.00        13\n",
      "\n",
      "    accuracy                           1.00        45\n",
      "   macro avg       1.00      1.00      1.00        45\n",
      "weighted avg       1.00      1.00      1.00        45\n",
      "\n",
      "--------------------------------------------------\n",
      "Configuração: {'n_estimators': 200, 'max_depth': 20}\n",
      "Acurácia: 1.00\n",
      "Relatório de Classificação:\n",
      "              precision    recall  f1-score   support\n",
      "\n",
      "           0       1.00      1.00      1.00        19\n",
      "           1       1.00      1.00      1.00        13\n",
      "           2       1.00      1.00      1.00        13\n",
      "\n",
      "    accuracy                           1.00        45\n",
      "   macro avg       1.00      1.00      1.00        45\n",
      "weighted avg       1.00      1.00      1.00        45\n",
      "\n",
      "--------------------------------------------------\n",
      "Configuração: {'n_estimators': 100, 'max_depth': 30, 'min_samples_split': 5}\n",
      "Acurácia: 1.00\n",
      "Relatório de Classificação:\n",
      "              precision    recall  f1-score   support\n",
      "\n",
      "           0       1.00      1.00      1.00        19\n",
      "           1       1.00      1.00      1.00        13\n",
      "           2       1.00      1.00      1.00        13\n",
      "\n",
      "    accuracy                           1.00        45\n",
      "   macro avg       1.00      1.00      1.00        45\n",
      "weighted avg       1.00      1.00      1.00        45\n",
      "\n",
      "--------------------------------------------------\n"
     ]
    }
   ],
   "source": [
    "# Melhorando o Desempenho: Ajuste de Hiperparâmetros Manual\n",
    "# Exemplo com Random Forest\n",
    "configurations_rf = [\n",
    "    {'n_estimators': 50, 'max_depth': None},\n",
    "    {'n_estimators': 100, 'max_depth': 10},\n",
    "    {'n_estimators': 200, 'max_depth': 20},\n",
    "    {'n_estimators': 100, 'max_depth': 30, 'min_samples_split': 5},\n",
    "]\n",
    "\n",
    "# Testar diferentes configurações do Random Forest\n",
    "for config in configurations_rf:\n",
    "    model = RandomForestClassifier(**config)\n",
    "    accuracy, report = evaluate_model(model, X_train, X_test, y_train, y_test)\n",
    "    print(f\"Configuração: {config}\")\n",
    "    print(f\"Acurácia: {accuracy:.2f}\")\n",
    "    print(\"Relatório de Classificação:\")\n",
    "    print(report)\n",
    "    print(\"-\" * 50)"
   ]
  },
  {
   "cell_type": "code",
   "execution_count": 7,
   "id": "a401a093",
   "metadata": {
    "colab": {
     "base_uri": "https://localhost:8080/"
    },
    "executionInfo": {
     "elapsed": 495,
     "status": "ok",
     "timestamp": 1722901640242,
     "user": {
      "displayName": "Willian Macedo Rodrigues",
      "userId": "04289625524537895451"
     },
     "user_tz": 180
    },
    "id": "a401a093",
    "outputId": "299659f0-5139-472c-bf75-d931ae7970be"
   },
   "outputs": [
    {
     "name": "stdout",
     "output_type": "stream",
     "text": [
      "KNN com k=3\n",
      "Acurácia: 1.00\n",
      "Relatório de Classificação:\n",
      "              precision    recall  f1-score   support\n",
      "\n",
      "           0       1.00      1.00      1.00        19\n",
      "           1       1.00      1.00      1.00        13\n",
      "           2       1.00      1.00      1.00        13\n",
      "\n",
      "    accuracy                           1.00        45\n",
      "   macro avg       1.00      1.00      1.00        45\n",
      "weighted avg       1.00      1.00      1.00        45\n",
      "\n",
      "--------------------------------------------------\n",
      "KNN com k=5\n",
      "Acurácia: 1.00\n",
      "Relatório de Classificação:\n",
      "              precision    recall  f1-score   support\n",
      "\n",
      "           0       1.00      1.00      1.00        19\n",
      "           1       1.00      1.00      1.00        13\n",
      "           2       1.00      1.00      1.00        13\n",
      "\n",
      "    accuracy                           1.00        45\n",
      "   macro avg       1.00      1.00      1.00        45\n",
      "weighted avg       1.00      1.00      1.00        45\n",
      "\n",
      "--------------------------------------------------\n",
      "KNN com k=7\n",
      "Acurácia: 1.00\n",
      "Relatório de Classificação:\n",
      "              precision    recall  f1-score   support\n",
      "\n",
      "           0       1.00      1.00      1.00        19\n",
      "           1       1.00      1.00      1.00        13\n",
      "           2       1.00      1.00      1.00        13\n",
      "\n",
      "    accuracy                           1.00        45\n",
      "   macro avg       1.00      1.00      1.00        45\n",
      "weighted avg       1.00      1.00      1.00        45\n",
      "\n",
      "--------------------------------------------------\n",
      "KNN com k=9\n",
      "Acurácia: 1.00\n",
      "Relatório de Classificação:\n",
      "              precision    recall  f1-score   support\n",
      "\n",
      "           0       1.00      1.00      1.00        19\n",
      "           1       1.00      1.00      1.00        13\n",
      "           2       1.00      1.00      1.00        13\n",
      "\n",
      "    accuracy                           1.00        45\n",
      "   macro avg       1.00      1.00      1.00        45\n",
      "weighted avg       1.00      1.00      1.00        45\n",
      "\n",
      "--------------------------------------------------\n"
     ]
    }
   ],
   "source": [
    "# Testando diferentes valores de k para KNN\n",
    "k_values = [3, 5, 7, 9]\n",
    "for k in k_values:\n",
    "    model = KNeighborsClassifier(n_neighbors=k)\n",
    "    accuracy, report = evaluate_model(model, X_train, X_test, y_train, y_test)\n",
    "    print(f\"KNN com k={k}\")\n",
    "    print(f\"Acurácia: {accuracy:.2f}\")\n",
    "    print(\"Relatório de Classificação:\")\n",
    "    print(report)\n",
    "    print(\"-\" * 50)"
   ]
  },
  {
   "cell_type": "markdown",
   "id": "cd8df0fc",
   "metadata": {
    "id": "cd8df0fc"
   },
   "source": [
    "## Melhorando o Desempenho: Normalização dos Dados\n",
    "Vamos demonstrar como a normalização dos dados pode afetar o desempenho dos modelos, reavaliando-os com dados normalizados."
   ]
  },
  {
   "cell_type": "code",
   "execution_count": 8,
   "id": "4802635c",
   "metadata": {
    "executionInfo": {
     "elapsed": 1664,
     "status": "ok",
     "timestamp": 1722901641904,
     "user": {
      "displayName": "Willian Macedo Rodrigues",
      "userId": "04289625524537895451"
     },
     "user_tz": 180
    },
    "id": "4802635c"
   },
   "outputs": [],
   "source": [
    "\n",
    "# Normalizar os dados para melhorar a performance dos algoritmos que dependem da escala das variáveis.\n",
    "scaler = StandardScaler()\n",
    "X_train = scaler.fit_transform(X_train)\n",
    "X_test = scaler.transform(X_test)\n",
    "# Melhorando o Desempenho: Normalização dos Dados\n",
    "from sklearn.preprocessing import StandardScaler\n",
    "\n",
    "scaler = StandardScaler()\n",
    "X_train_scaled = scaler.fit_transform(X_train)\n",
    "X_test_scaled = scaler.transform(X_test)\n",
    "\n",
    "# Avaliar modelos com dados normalizados\n",
    "for name, model in models.items():\n",
    "    accuracy, report = evaluate_model(model, X_train_scaled, X_test_scaled, y_train, y_test)\n",
    "    results[name + \" (Scaled)\"] = (accuracy, report)"
   ]
  },
  {
   "cell_type": "markdown",
   "id": "8921dcdf",
   "metadata": {
    "id": "8921dcdf"
   },
   "source": [
    "## Exibir Resultados com Dados Normalizados\n",
    "Vamos exibir os resultados da acurácia e do relatório de classificação para cada modelo com dados normalizados."
   ]
  },
  {
   "cell_type": "code",
   "execution_count": 9,
   "id": "6a5148fa",
   "metadata": {
    "colab": {
     "base_uri": "https://localhost:8080/"
    },
    "executionInfo": {
     "elapsed": 9,
     "status": "ok",
     "timestamp": 1722901641905,
     "user": {
      "displayName": "Willian Macedo Rodrigues",
      "userId": "04289625524537895451"
     },
     "user_tz": 180
    },
    "id": "6a5148fa",
    "outputId": "23aec380-9117-4056-ba6a-a7ce90716e38"
   },
   "outputs": [
    {
     "name": "stdout",
     "output_type": "stream",
     "text": [
      "Modelo: Logistic Regression (Scaled)\n",
      "Acurácia: 1.00\n",
      "Relatório de Classificação:\n",
      "              precision    recall  f1-score   support\n",
      "\n",
      "           0       1.00      1.00      1.00        19\n",
      "           1       1.00      1.00      1.00        13\n",
      "           2       1.00      1.00      1.00        13\n",
      "\n",
      "    accuracy                           1.00        45\n",
      "   macro avg       1.00      1.00      1.00        45\n",
      "weighted avg       1.00      1.00      1.00        45\n",
      "\n",
      "--------------------------------------------------\n",
      "Modelo: Random Forest (Scaled)\n",
      "Acurácia: 1.00\n",
      "Relatório de Classificação:\n",
      "              precision    recall  f1-score   support\n",
      "\n",
      "           0       1.00      1.00      1.00        19\n",
      "           1       1.00      1.00      1.00        13\n",
      "           2       1.00      1.00      1.00        13\n",
      "\n",
      "    accuracy                           1.00        45\n",
      "   macro avg       1.00      1.00      1.00        45\n",
      "weighted avg       1.00      1.00      1.00        45\n",
      "\n",
      "--------------------------------------------------\n",
      "Modelo: XGBoost (Scaled)\n",
      "Acurácia: 1.00\n",
      "Relatório de Classificação:\n",
      "              precision    recall  f1-score   support\n",
      "\n",
      "           0       1.00      1.00      1.00        19\n",
      "           1       1.00      1.00      1.00        13\n",
      "           2       1.00      1.00      1.00        13\n",
      "\n",
      "    accuracy                           1.00        45\n",
      "   macro avg       1.00      1.00      1.00        45\n",
      "weighted avg       1.00      1.00      1.00        45\n",
      "\n",
      "--------------------------------------------------\n",
      "Modelo: KNN (Scaled)\n",
      "Acurácia: 1.00\n",
      "Relatório de Classificação:\n",
      "              precision    recall  f1-score   support\n",
      "\n",
      "           0       1.00      1.00      1.00        19\n",
      "           1       1.00      1.00      1.00        13\n",
      "           2       1.00      1.00      1.00        13\n",
      "\n",
      "    accuracy                           1.00        45\n",
      "   macro avg       1.00      1.00      1.00        45\n",
      "weighted avg       1.00      1.00      1.00        45\n",
      "\n",
      "--------------------------------------------------\n"
     ]
    }
   ],
   "source": [
    "# Exibir resultados com dados normalizados\n",
    "for name, (accuracy, report) in results.items():\n",
    "    if \"Scaled\" in name:\n",
    "        print(f\"Modelo: {name}\")\n",
    "        print(f\"Acurácia: {accuracy:.2f}\")\n",
    "        print(\"Relatório de Classificação:\")\n",
    "        print(report)\n",
    "        print(\"-\" * 50)"
   ]
  }
 ],
 "metadata": {
  "colab": {
   "provenance": []
  },
  "kernelspec": {
   "display_name": "Python 3",
   "name": "python3"
  },
  "language_info": {
   "name": "python"
  }
 },
 "nbformat": 4,
 "nbformat_minor": 5
}
