{
 "cells": [
  {
   "cell_type": "markdown",
   "id": "9b6cdbc5",
   "metadata": {},
   "source": [
    "\n",
    "# Wine Dataset Classification with Various Models\n",
    "\n",
    "This notebook demonstrates classification of the Wine dataset using multiple machine learning models.\n",
    "The objective is to compare the performance of different models on the Wine dataset to find the most\n",
    "accurate and efficient model for classifying wine types based on their characteristics.\n",
    "\n",
    "## Models Used\n",
    "- Logistic Regression\n",
    "- Random Forest\n",
    "- XGBoost\n",
    "- K-Nearest Neighbors (KNN)\n",
    "\n",
    "Each model is trained on the same dataset and evaluated using accuracy score and classification report.\n",
    "This notebook also covers data preprocessing steps, such as scaling, to ensure fair comparison across models.\n"
   ]
  },
  {
   "cell_type": "markdown",
   "id": "c98c19bf",
   "metadata": {
    "id": "c98c19bf"
   },
   "source": [
    "# Wine Dataset Classification with Various Models"
   ]
  },
  {
   "cell_type": "markdown",
   "id": "cc90e093",
   "metadata": {
    "id": "cc90e093"
   },
   "source": [
    "This notebook demonstrates the use of different machine learning models on the Wine dataset. The models used are Logistic Regression, Random Forest, XGBoost, and K-Nearest Neighbors."
   ]
  },
  {
   "cell_type": "code",
   "execution_count": 1,
   "id": "40018c03",
   "metadata": {
    "executionInfo": {
     "elapsed": 4762,
     "status": "ok",
     "timestamp": 1722901848775,
     "user": {
      "displayName": "Willian Macedo Rodrigues",
      "userId": "04289625524537895451"
     },
     "user_tz": 180
    },
    "id": "40018c03"
   },
   "outputs": [],
   "source": [
    "\n",
    "# Load the Wine dataset and split it into training and testing sets\n",
    "data = load_wine()\n",
    "X = data.data\n",
    "y = data.target\n",
    "\n",
    "# Split the data with 80% for training and 20% for testing\n",
    "X_train, X_test, y_train, y_test = train_test_split(X, y, test_size=0.2, random_state=42)\n",
    "\n",
    "import pandas as pd\n",
    "import numpy as np\n",
    "from sklearn.datasets import load_wine\n",
    "from sklearn.model_selection import train_test_split\n",
    "from sklearn.preprocessing import StandardScaler\n",
    "from sklearn.linear_model import LogisticRegression\n",
    "from sklearn.ensemble import RandomForestClassifier\n",
    "from xgboost import XGBClassifier\n",
    "from sklearn.neighbors import KNeighborsClassifier\n",
    "from sklearn.metrics import accuracy_score, classification_report\n"
   ]
  },
  {
   "cell_type": "markdown",
   "id": "3d6d806d",
   "metadata": {
    "id": "3d6d806d"
   },
   "source": [
    "## Load the Wine Dataset"
   ]
  },
  {
   "cell_type": "code",
   "execution_count": 2,
   "id": "8cc70ba5",
   "metadata": {
    "executionInfo": {
     "elapsed": 10,
     "status": "ok",
     "timestamp": 1722901848776,
     "user": {
      "displayName": "Willian Macedo Rodrigues",
      "userId": "04289625524537895451"
     },
     "user_tz": 180
    },
    "id": "8cc70ba5"
   },
   "outputs": [],
   "source": [
    "\n",
    "# Load the Wine dataset\n",
    "data = load_wine()\n",
    "X = data.data\n",
    "y = data.target\n"
   ]
  },
  {
   "cell_type": "markdown",
   "id": "e2aa9489",
   "metadata": {
    "id": "e2aa9489"
   },
   "source": [
    "## Split the Dataset into Training and Testing Sets"
   ]
  },
  {
   "cell_type": "code",
   "execution_count": 3,
   "id": "7ffa3e49",
   "metadata": {
    "executionInfo": {
     "elapsed": 7,
     "status": "ok",
     "timestamp": 1722901848776,
     "user": {
      "displayName": "Willian Macedo Rodrigues",
      "userId": "04289625524537895451"
     },
     "user_tz": 180
    },
    "id": "7ffa3e49"
   },
   "outputs": [],
   "source": [
    "\n",
    "# Load the Wine dataset and split it into training and testing sets\n",
    "data = load_wine()\n",
    "X = data.data\n",
    "y = data.target\n",
    "\n",
    "# Split the data with 80% for training and 20% for testing\n",
    "X_train, X_test, y_train, y_test = train_test_split(X, y, test_size=0.2, random_state=42)\n",
    "\n",
    "# Split the dataset into training and testing sets\n",
    "X_train, X_test, y_train, y_test = train_test_split(X, y, test_size=0.3, random_state=42, stratify=y)\n"
   ]
  },
  {
   "cell_type": "markdown",
   "id": "3d7834f9",
   "metadata": {
    "id": "3d7834f9"
   },
   "source": [
    "## Scale the Features"
   ]
  },
  {
   "cell_type": "code",
   "execution_count": 4,
   "id": "f10abc0c",
   "metadata": {
    "executionInfo": {
     "elapsed": 6,
     "status": "ok",
     "timestamp": 1722901848776,
     "user": {
      "displayName": "Willian Macedo Rodrigues",
      "userId": "04289625524537895451"
     },
     "user_tz": 180
    },
    "id": "f10abc0c"
   },
   "outputs": [],
   "source": [
    "\n",
    "# Standardize features by removing the mean and scaling to unit variance.\n",
    "# This ensures that each feature contributes equally to the model performance.\n",
    "scaler = StandardScaler()\n",
    "\n",
    "# Fit the scaler on the training data and transform both training and test sets.\n",
    "X_train = scaler.fit_transform(X_train)\n",
    "X_test = scaler.transform(X_test)\n",
    "\n",
    "# Scale the features\n",
    "scaler = StandardScaler()\n",
    "X_train_scaled = scaler.fit_transform(X_train)\n",
    "X_test_scaled = scaler.transform(X_test)\n"
   ]
  },
  {
   "cell_type": "markdown",
   "id": "7913e9a1",
   "metadata": {
    "id": "7913e9a1"
   },
   "source": [
    "## Logistic Regression"
   ]
  },
  {
   "cell_type": "code",
   "execution_count": 5,
   "id": "58a8f353",
   "metadata": {
    "colab": {
     "base_uri": "https://localhost:8080/"
    },
    "executionInfo": {
     "elapsed": 6,
     "status": "ok",
     "timestamp": 1722901848776,
     "user": {
      "displayName": "Willian Macedo Rodrigues",
      "userId": "04289625524537895451"
     },
     "user_tz": 180
    },
    "id": "58a8f353",
    "outputId": "4056cce2-7e12-4885-d0ee-0aa102439d89"
   },
   "outputs": [
    {
     "name": "stdout",
     "output_type": "stream",
     "text": [
      "Modelo: Logistic Regression\n",
      "Acurácia: 0.98\n",
      "Relatório de Classificação:\n",
      "              precision    recall  f1-score   support\n",
      "\n",
      "           0       0.95      1.00      0.97        18\n",
      "           1       1.00      0.95      0.98        21\n",
      "           2       1.00      1.00      1.00        15\n",
      "\n",
      "    accuracy                           0.98        54\n",
      "   macro avg       0.98      0.98      0.98        54\n",
      "weighted avg       0.98      0.98      0.98        54\n",
      "\n",
      "--------------------------------------------------\n"
     ]
    }
   ],
   "source": [
    "\n",
    "# Logistic Regression Model\n",
    "# Training and evaluating the logistic regression model on the scaled dataset\n",
    "logreg = LogisticRegression(max_iter=1000, random_state=42)\n",
    "logreg.fit(X_train, y_train)\n",
    "y_pred_logreg = logreg.predict(X_test)\n",
    "\n",
    "# Evaluate the model performance\n",
    "print(\"Logistic Regression Accuracy:\", accuracy_score(y_test, y_pred_logreg))\n",
    "print(\"Classification Report for Logistic Regression:\\n\", classification_report(y_test, y_pred_logreg))\n",
    "\n",
    "logistic_regression = LogisticRegression(max_iter=200)\n",
    "logistic_regression.fit(X_train_scaled, y_train)\n",
    "y_pred_lr = logistic_regression.predict(X_test_scaled)\n",
    "\n",
    "print(\"Modelo: Logistic Regression\")\n",
    "print(f\"Acurácia: {accuracy_score(y_test, y_pred_lr):.2f}\")\n",
    "print(\"Relatório de Classificação:\")\n",
    "print(classification_report(y_test, y_pred_lr))\n",
    "print(\"-\" * 50)\n"
   ]
  },
  {
   "cell_type": "markdown",
   "id": "966abac3",
   "metadata": {
    "id": "966abac3"
   },
   "source": [
    "## Random Forest"
   ]
  },
  {
   "cell_type": "code",
   "execution_count": 6,
   "id": "4ddf0ac2",
   "metadata": {
    "colab": {
     "base_uri": "https://localhost:8080/"
    },
    "executionInfo": {
     "elapsed": 1167,
     "status": "ok",
     "timestamp": 1722901849939,
     "user": {
      "displayName": "Willian Macedo Rodrigues",
      "userId": "04289625524537895451"
     },
     "user_tz": 180
    },
    "id": "4ddf0ac2",
    "outputId": "0958b7e1-d3b3-4c94-ebd8-c7d3269a1344"
   },
   "outputs": [
    {
     "name": "stdout",
     "output_type": "stream",
     "text": [
      "Modelo: Random Forest\n",
      "Acurácia: 1.00\n",
      "Relatório de Classificação:\n",
      "              precision    recall  f1-score   support\n",
      "\n",
      "           0       1.00      1.00      1.00        18\n",
      "           1       1.00      1.00      1.00        21\n",
      "           2       1.00      1.00      1.00        15\n",
      "\n",
      "    accuracy                           1.00        54\n",
      "   macro avg       1.00      1.00      1.00        54\n",
      "weighted avg       1.00      1.00      1.00        54\n",
      "\n",
      "--------------------------------------------------\n"
     ]
    }
   ],
   "source": [
    "\n",
    "random_forest = RandomForestClassifier()\n",
    "random_forest.fit(X_train, y_train)\n",
    "y_pred_rf = random_forest.predict(X_test)\n",
    "\n",
    "print(\"Modelo: Random Forest\")\n",
    "print(f\"Acurácia: {accuracy_score(y_test, y_pred_rf):.2f}\")\n",
    "print(\"Relatório de Classificação:\")\n",
    "print(classification_report(y_test, y_pred_rf))\n",
    "print(\"-\" * 50)\n"
   ]
  },
  {
   "cell_type": "markdown",
   "id": "94234771",
   "metadata": {
    "id": "94234771"
   },
   "source": [
    "## XGBoost"
   ]
  },
  {
   "cell_type": "code",
   "execution_count": 7,
   "id": "cdea74c2",
   "metadata": {
    "colab": {
     "base_uri": "https://localhost:8080/"
    },
    "executionInfo": {
     "elapsed": 477,
     "status": "ok",
     "timestamp": 1722901850413,
     "user": {
      "displayName": "Willian Macedo Rodrigues",
      "userId": "04289625524537895451"
     },
     "user_tz": 180
    },
    "id": "cdea74c2",
    "outputId": "dd62fcf8-7a23-4651-ccbe-dc385d977e3a"
   },
   "outputs": [
    {
     "name": "stderr",
     "output_type": "stream",
     "text": [
      "/usr/local/lib/python3.10/dist-packages/xgboost/core.py:158: UserWarning: [23:50:51] WARNING: /workspace/src/learner.cc:740: \n",
      "Parameters: { \"use_label_encoder\" } are not used.\n",
      "\n",
      "  warnings.warn(smsg, UserWarning)\n"
     ]
    },
    {
     "name": "stdout",
     "output_type": "stream",
     "text": [
      "Modelo: XGBoost\n",
      "Acurácia: 1.00\n",
      "Relatório de Classificação:\n",
      "              precision    recall  f1-score   support\n",
      "\n",
      "           0       1.00      1.00      1.00        18\n",
      "           1       1.00      1.00      1.00        21\n",
      "           2       1.00      1.00      1.00        15\n",
      "\n",
      "    accuracy                           1.00        54\n",
      "   macro avg       1.00      1.00      1.00        54\n",
      "weighted avg       1.00      1.00      1.00        54\n",
      "\n",
      "--------------------------------------------------\n"
     ]
    }
   ],
   "source": [
    "\n",
    "xgboost = XGBClassifier(use_label_encoder=False, eval_metric='mlogloss')\n",
    "xgboost.fit(X_train, y_train)\n",
    "y_pred_xgb = xgboost.predict(X_test)\n",
    "\n",
    "print(\"Modelo: XGBoost\")\n",
    "print(f\"Acurácia: {accuracy_score(y_test, y_pred_xgb):.2f}\")\n",
    "print(\"Relatório de Classificação:\")\n",
    "print(classification_report(y_test, y_pred_xgb))\n",
    "print(\"-\" * 50)\n"
   ]
  },
  {
   "cell_type": "markdown",
   "id": "1d7cf6ce",
   "metadata": {
    "id": "1d7cf6ce"
   },
   "source": [
    "## K-Nearest Neighbors"
   ]
  },
  {
   "cell_type": "code",
   "execution_count": 8,
   "id": "449fec58",
   "metadata": {
    "colab": {
     "base_uri": "https://localhost:8080/"
    },
    "executionInfo": {
     "elapsed": 292,
     "status": "ok",
     "timestamp": 1722901850702,
     "user": {
      "displayName": "Willian Macedo Rodrigues",
      "userId": "04289625524537895451"
     },
     "user_tz": 180
    },
    "id": "449fec58",
    "outputId": "215a6d67-1efb-4aa8-80bd-2dc19c50ca3f"
   },
   "outputs": [
    {
     "name": "stdout",
     "output_type": "stream",
     "text": [
      "Modelo: KNN\n",
      "Acurácia: 0.94\n",
      "Relatório de Classificação:\n",
      "              precision    recall  f1-score   support\n",
      "\n",
      "           0       1.00      1.00      1.00        18\n",
      "           1       1.00      0.86      0.92        21\n",
      "           2       0.83      1.00      0.91        15\n",
      "\n",
      "    accuracy                           0.94        54\n",
      "   macro avg       0.94      0.95      0.94        54\n",
      "weighted avg       0.95      0.94      0.94        54\n",
      "\n",
      "--------------------------------------------------\n"
     ]
    }
   ],
   "source": [
    "\n",
    "knn = KNeighborsClassifier()\n",
    "knn.fit(X_train_scaled, y_train)\n",
    "y_pred_knn = knn.predict(X_test_scaled)\n",
    "\n",
    "print(\"Modelo: KNN\")\n",
    "print(f\"Acurácia: {accuracy_score(y_test, y_pred_knn):.2f}\")\n",
    "print(\"Relatório de Classificação:\")\n",
    "print(classification_report(y_test, y_pred_knn))\n",
    "print(\"-\" * 50)\n"
   ]
  }
 ],
 "metadata": {
  "colab": {
   "provenance": []
  },
  "kernelspec": {
   "display_name": "Python 3",
   "name": "python3"
  },
  "language_info": {
   "name": "python"
  }
 },
 "nbformat": 4,
 "nbformat_minor": 5
}
