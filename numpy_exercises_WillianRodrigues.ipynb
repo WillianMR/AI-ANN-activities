{
 "cells": [
  {
   "cell_type": "markdown",
   "id": "b2a7f1b2",
   "metadata": {},
   "source": [
    "\n",
    "# Exercícios com Numpy - Manipulação e Operações em Arrays\n",
    "\n",
    "Este notebook é uma coleção de exercícios com a biblioteca Numpy, abordando manipulações e operações comuns em arrays.\n",
    "\n",
    "## Conteúdos:\n",
    "1. Criação e Manipulação de Arrays\n",
    "2. Operações Matemáticas com Numpy\n",
    "3. Exercícios para Prática de Fundamentos\n"
   ]
  },
  {
   "cell_type": "markdown",
   "metadata": {
    "id": "MPDx6OgPrUU7"
   },
   "source": [
    "### Exercícios NumPy"
   ]
  },
  {
   "cell_type": "code",
   "execution_count": 1,
   "metadata": {
    "executionInfo": {
     "elapsed": 314,
     "status": "ok",
     "timestamp": 1728484054605,
     "user": {
      "displayName": "Willian Macedo Rodrigues",
      "userId": "04289625524537895451"
     },
     "user_tz": 180
    },
    "id": "D1v20E5krUU9"
   },
   "outputs": [],
   "source": [
    "import numpy as np"
   ]
  },
  {
   "cell_type": "markdown",
   "metadata": {
    "id": "OeyLaKktrUU9"
   },
   "source": [
    "**1.** Crie um array com 6 elementos em que os elementos possuem o padrão a seguir:\n",
    "\n",
    "```\n",
    "[0 2 4 6 8 10]\n",
    "```"
   ]
  },
  {
   "cell_type": "code",
   "execution_count": 2,
   "metadata": {
    "colab": {
     "base_uri": "https://localhost:8080/"
    },
    "executionInfo": {
     "elapsed": 18,
     "status": "ok",
     "timestamp": 1728484055608,
     "user": {
      "displayName": "Willian Macedo Rodrigues",
      "userId": "04289625524537895451"
     },
     "user_tz": 180
    },
    "id": "DXeQ5QNWrUU-",
    "outputId": "9b033fee-030c-4dd9-ec86-06342106ad09"
   },
   "outputs": [
    {
     "data": {
      "text/plain": [
       "array([ 0,  2,  4,  6,  8, 10])"
      ]
     },
     "execution_count": 2,
     "metadata": {},
     "output_type": "execute_result"
    }
   ],
   "source": [
    "ex1_array = np.arange(0, 12, 2)\n",
    "ex1_array"
   ]
  },
  {
   "cell_type": "markdown",
   "metadata": {
    "id": "ghPrBiYHrUU_"
   },
   "source": [
    "**2.** Crie um array $3 \\times 4$ com o seguinte padrão:\n",
    "\n",
    "```\n",
    "[[  0   1   4   9]\n",
    " [ 16  25  36  49]\n",
    " [ 64  81 100 121]]\n",
    " ```"
   ]
  },
  {
   "cell_type": "code",
   "execution_count": 3,
   "metadata": {
    "colab": {
     "base_uri": "https://localhost:8080/"
    },
    "executionInfo": {
     "elapsed": 15,
     "status": "ok",
     "timestamp": 1728484055608,
     "user": {
      "displayName": "Willian Macedo Rodrigues",
      "userId": "04289625524537895451"
     },
     "user_tz": 180
    },
    "id": "ef2XpTtNrUU_",
    "outputId": "1d2e345b-544b-41d3-baa3-7297bd4031ad"
   },
   "outputs": [
    {
     "data": {
      "text/plain": [
       "array([[  0,   1,   4,   9],\n",
       "       [ 16,  25,  36,  49],\n",
       "       [ 81, 100, 121, 144]])"
      ]
     },
     "execution_count": 3,
     "metadata": {},
     "output_type": "execute_result"
    }
   ],
   "source": [
    "ex2_array = np.array([[i ** 2 for i in range(j, j + 4)] for j in [0, 4, 9]])\n",
    "ex2_array"
   ]
  },
  {
   "cell_type": "markdown",
   "metadata": {
    "id": "6z3slN9OrUU_"
   },
   "source": [
    "**3.** Crie um array $7\\times7$ no qual todos os elementos têm valor 0, exceto os da linha 3 e da coluna 3, que têm valor 1, como a seguir:\n",
    "\n",
    "```\n",
    "[[0 0 0 1 0 0 0]\n",
    " [0 0 0 1 0 0 0]\n",
    " [0 0 0 1 0 0 0]\n",
    " [1 1 1 1 1 1 1]\n",
    " [0 0 0 1 0 0 0]\n",
    " [0 0 0 1 0 0 0]\n",
    " [0 0 0 1 0 0 0]]\n",
    "```"
   ]
  },
  {
   "cell_type": "code",
   "execution_count": 4,
   "metadata": {
    "colab": {
     "base_uri": "https://localhost:8080/"
    },
    "executionInfo": {
     "elapsed": 13,
     "status": "ok",
     "timestamp": 1728484055608,
     "user": {
      "displayName": "Willian Macedo Rodrigues",
      "userId": "04289625524537895451"
     },
     "user_tz": 180
    },
    "id": "QaMcpESRrUU_",
    "outputId": "b09915c1-ff84-4afe-f821-6fd0213a55dd"
   },
   "outputs": [
    {
     "data": {
      "text/plain": [
       "array([[0, 0, 0, 1, 0, 0, 0],\n",
       "       [0, 0, 0, 1, 0, 0, 0],\n",
       "       [0, 0, 0, 1, 0, 0, 0],\n",
       "       [1, 1, 1, 1, 1, 1, 1],\n",
       "       [0, 0, 0, 1, 0, 0, 0],\n",
       "       [0, 0, 0, 1, 0, 0, 0],\n",
       "       [0, 0, 0, 1, 0, 0, 0]])"
      ]
     },
     "execution_count": 4,
     "metadata": {},
     "output_type": "execute_result"
    }
   ],
   "source": [
    "ex3_array = np.zeros((7, 7), dtype=int)\n",
    "ex3_array[:, 3] = 1\n",
    "ex3_array[3, :] = 1\n",
    "ex3_array"
   ]
  },
  {
   "cell_type": "markdown",
   "metadata": {
    "id": "StuUgjp9rUU_"
   },
   "source": [
    "**4.** Crie um array $5 \\times 5$ com o seguinte padrão:\n",
    "\n",
    "```\n",
    "[[10  0  0  0  0]\n",
    " [ 0 10  0  0  0]\n",
    " [ 0  0 10  0  0]\n",
    " [ 0  0  0 10  0]\n",
    " [ 0  0  0  0 10]]\n",
    "```"
   ]
  },
  {
   "cell_type": "code",
   "execution_count": 5,
   "metadata": {
    "colab": {
     "base_uri": "https://localhost:8080/"
    },
    "executionInfo": {
     "elapsed": 12,
     "status": "ok",
     "timestamp": 1728484055608,
     "user": {
      "displayName": "Willian Macedo Rodrigues",
      "userId": "04289625524537895451"
     },
     "user_tz": 180
    },
    "id": "6LgBqSFUrUU_",
    "outputId": "94746cf4-b469-48ed-9010-fa81c166ca42"
   },
   "outputs": [
    {
     "data": {
      "text/plain": [
       "array([[10,  0,  0,  0,  0],\n",
       "       [ 0, 10,  0,  0,  0],\n",
       "       [ 0,  0, 10,  0,  0],\n",
       "       [ 0,  0,  0, 10,  0],\n",
       "       [ 0,  0,  0,  0, 10]])"
      ]
     },
     "execution_count": 5,
     "metadata": {},
     "output_type": "execute_result"
    }
   ],
   "source": [
    "ex4_array = np.eye(5, dtype=int) * 10\n",
    "ex4_array"
   ]
  },
  {
   "cell_type": "markdown",
   "metadata": {
    "id": "yABtwZs5rUVA"
   },
   "source": [
    "**5.** Crie um array $5 \\times 5$ com o seguinte padrão:\n",
    "\n",
    "```\n",
    "[[ 1  0  0  0  0]\n",
    " [ 0  4  0  0  0]\n",
    " [ 0  0  9  0  0]\n",
    " [ 0  0  0 16  0]\n",
    " [ 0  0  0  0 25]]\n",
    "```\n",
    "\n",
    "Utilize as funções `np.diag` e `np.arange`."
   ]
  },
  {
   "cell_type": "code",
   "execution_count": 6,
   "metadata": {
    "colab": {
     "base_uri": "https://localhost:8080/"
    },
    "executionInfo": {
     "elapsed": 11,
     "status": "ok",
     "timestamp": 1728484055608,
     "user": {
      "displayName": "Willian Macedo Rodrigues",
      "userId": "04289625524537895451"
     },
     "user_tz": 180
    },
    "id": "xGSUAYgLrUVA",
    "outputId": "e12d5cf5-7469-439e-91dd-036035689b2e"
   },
   "outputs": [
    {
     "data": {
      "text/plain": [
       "array([[ 1,  0,  0,  0,  0],\n",
       "       [ 0,  4,  0,  0,  0],\n",
       "       [ 0,  0,  9,  0,  0],\n",
       "       [ 0,  0,  0, 16,  0],\n",
       "       [ 0,  0,  0,  0, 25]])"
      ]
     },
     "execution_count": 6,
     "metadata": {},
     "output_type": "execute_result"
    }
   ],
   "source": [
    "diagonal_values = np.arange(1, 6) ** 2\n",
    "ex5_array = np.diag(diagonal_values)\n",
    "ex5_array"
   ]
  },
  {
   "cell_type": "markdown",
   "metadata": {
    "id": "P1mbbpASrUVA"
   },
   "source": [
    "**6.** Crie um array $3\\times2\\times4$ onde o elemento de índice $(i, j, k)$ tem valor $i^2$ para qualquer $j, k$, como abaixo:\n",
    "\n",
    "```\n",
    "[[[0 0 0 0]\n",
    "  [0 0 0 0]]\n",
    "\n",
    " [[1 1 1 1]\n",
    "  [1 1 1 1]]\n",
    "\n",
    " [[4 4 4 4]\n",
    "  [4 4 4 4]]]\n",
    "```\n",
    "\n",
    "Dica: utilize a função `np.indices`."
   ]
  },
  {
   "cell_type": "code",
   "execution_count": 7,
   "metadata": {
    "colab": {
     "base_uri": "https://localhost:8080/"
    },
    "executionInfo": {
     "elapsed": 9,
     "status": "ok",
     "timestamp": 1728484055608,
     "user": {
      "displayName": "Willian Macedo Rodrigues",
      "userId": "04289625524537895451"
     },
     "user_tz": 180
    },
    "id": "6hxzQD2arUVA",
    "outputId": "27b084c7-da45-4307-dae7-01829cf7e06f"
   },
   "outputs": [
    {
     "data": {
      "text/plain": [
       "array([[[0, 0, 0, 0],\n",
       "        [0, 0, 0, 0]],\n",
       "\n",
       "       [[1, 1, 1, 1],\n",
       "        [1, 1, 1, 1]],\n",
       "\n",
       "       [[4, 4, 4, 4],\n",
       "        [4, 4, 4, 4]]])"
      ]
     },
     "execution_count": 7,
     "metadata": {},
     "output_type": "execute_result"
    }
   ],
   "source": [
    "i_indices = np.indices((3, 2, 4))[0]\n",
    "ex6_array = i_indices ** 2\n",
    "ex6_array\n"
   ]
  },
  {
   "cell_type": "markdown",
   "metadata": {
    "id": "-T4U9-okrUVA"
   },
   "source": [
    "**7.** Crie um array $5\\times5$ onde o elemento de índice $(i,j)$ tem valor $i^2 + j^2$.\n",
    "\n",
    "Dica: utilize a função `np.indices`."
   ]
  },
  {
   "cell_type": "code",
   "execution_count": 8,
   "metadata": {
    "colab": {
     "base_uri": "https://localhost:8080/"
    },
    "executionInfo": {
     "elapsed": 8,
     "status": "ok",
     "timestamp": 1728484055608,
     "user": {
      "displayName": "Willian Macedo Rodrigues",
      "userId": "04289625524537895451"
     },
     "user_tz": 180
    },
    "id": "fCCc7LoPrUVA",
    "outputId": "4eb44fcf-2893-468a-9462-742df99dc0cb"
   },
   "outputs": [
    {
     "data": {
      "text/plain": [
       "array([[ 0,  1,  4,  9, 16],\n",
       "       [ 1,  2,  5, 10, 17],\n",
       "       [ 4,  5,  8, 13, 20],\n",
       "       [ 9, 10, 13, 18, 25],\n",
       "       [16, 17, 20, 25, 32]])"
      ]
     },
     "execution_count": 8,
     "metadata": {},
     "output_type": "execute_result"
    }
   ],
   "source": [
    "i_indices, j_indices = np.indices((5, 5))\n",
    "ex7_array = i_indices**2 + j_indices**2\n",
    "ex7_array"
   ]
  },
  {
   "cell_type": "markdown",
   "metadata": {
    "id": "b7FOyD52rUVA"
   },
   "source": [
    "**8.** Gere uma matriz $10\\times10$ de números aleatórios com distribuição normal de média 0 e desvio padrão 1. Calcule o *máximo* valor em cada linha e o *mínimo* valor em cada coluna.\n",
    "\n",
    "Dica: utilize a função `np.randn`."
   ]
  },
  {
   "cell_type": "code",
   "execution_count": 9,
   "metadata": {
    "colab": {
     "base_uri": "https://localhost:8080/"
    },
    "executionInfo": {
     "elapsed": 7,
     "status": "ok",
     "timestamp": 1728484055608,
     "user": {
      "displayName": "Willian Macedo Rodrigues",
      "userId": "04289625524537895451"
     },
     "user_tz": 180
    },
    "id": "ouwfb71-rUVA",
    "outputId": "a1ce0b0e-a461-476b-a15d-53bdd258ec9f"
   },
   "outputs": [
    {
     "data": {
      "text/plain": [
       "array([[-2.10565859,  0.93485917, -0.49041113, -0.29609467, -0.95335288,\n",
       "        -1.10129075,  0.8420209 ,  0.53523429,  1.44496031,  0.26181919],\n",
       "       [-0.0833899 , -0.38838685,  1.04653632, -0.06411032,  0.58319575,\n",
       "         1.15184189, -1.01893877, -0.91716786, -0.19192777, -0.84366795],\n",
       "       [ 1.1593146 ,  0.2315824 , -0.98933918, -2.91161542, -0.35809267,\n",
       "         1.40880299,  0.95298339, -0.49313647,  0.11730623,  0.246724  ],\n",
       "       [-0.58459846, -0.02305089,  0.13159829,  0.0512717 ,  1.41782712,\n",
       "         0.23632059,  1.22463236,  1.15648955, -0.47915947, -0.56606454],\n",
       "       [ 1.19548348,  0.39088623,  1.59585305, -1.33268758, -0.20638994,\n",
       "         1.17639987, -0.17918573, -0.53977631, -1.03861429,  1.95446934],\n",
       "       [ 0.75555037,  0.92043581, -0.82823553,  1.40821688,  0.75270642,\n",
       "         0.86809957, -2.18722004,  0.28612822,  1.20813513,  0.11254437],\n",
       "       [ 0.21004357, -1.53650544, -0.34385974,  0.42422108, -0.56610596,\n",
       "         0.30833016,  1.71948363, -0.86531813,  1.33520167, -0.55137688],\n",
       "       [ 0.22265723, -0.44162093,  0.09878017,  0.86842669, -0.71532824,\n",
       "        -0.03523077, -0.7767286 , -0.31915085, -2.07497487, -0.2707143 ],\n",
       "       [-0.77448277, -1.2380304 , -0.83273018,  0.11595541,  1.95202187,\n",
       "        -0.38469428, -1.36467897, -0.14923682,  0.08624315, -1.04986502],\n",
       "       [ 0.96992607, -1.37515828,  1.50909265,  2.34847846,  1.34787275,\n",
       "        -1.18042217, -0.52710735, -0.51696738,  0.04061226,  1.98127711]])"
      ]
     },
     "execution_count": 9,
     "metadata": {},
     "output_type": "execute_result"
    }
   ],
   "source": [
    "ex8_matrix = np.random.randn(10, 10)\n",
    "ex8_matrix"
   ]
  },
  {
   "cell_type": "code",
   "execution_count": 10,
   "metadata": {
    "colab": {
     "base_uri": "https://localhost:8080/"
    },
    "executionInfo": {
     "elapsed": 7,
     "status": "ok",
     "timestamp": 1728484055609,
     "user": {
      "displayName": "Willian Macedo Rodrigues",
      "userId": "04289625524537895451"
     },
     "user_tz": 180
    },
    "id": "yEksfYIurUVB",
    "outputId": "a4eb980f-cb2d-4b57-c219-59e004d40cc5"
   },
   "outputs": [
    {
     "data": {
      "text/plain": [
       "array([1.44496031, 1.15184189, 1.40880299, 1.41782712, 1.95446934,\n",
       "       1.40821688, 1.71948363, 0.86842669, 1.95202187, 2.34847846])"
      ]
     },
     "execution_count": 10,
     "metadata": {},
     "output_type": "execute_result"
    }
   ],
   "source": [
    "max_per_row = np.max(ex8_matrix, axis=1)\n",
    "max_per_row"
   ]
  },
  {
   "cell_type": "code",
   "execution_count": 11,
   "metadata": {
    "colab": {
     "base_uri": "https://localhost:8080/"
    },
    "executionInfo": {
     "elapsed": 5,
     "status": "ok",
     "timestamp": 1728484055609,
     "user": {
      "displayName": "Willian Macedo Rodrigues",
      "userId": "04289625524537895451"
     },
     "user_tz": 180
    },
    "id": "9PYXwT1rrUVB",
    "outputId": "4b72d575-e323-4993-e31e-543e86313582"
   },
   "outputs": [
    {
     "data": {
      "text/plain": [
       "array([-2.10565859, -1.53650544, -0.98933918, -2.91161542, -0.95335288,\n",
       "       -1.18042217, -2.18722004, -0.91716786, -2.07497487, -1.04986502])"
      ]
     },
     "execution_count": 11,
     "metadata": {},
     "output_type": "execute_result"
    }
   ],
   "source": [
    "min_per_column = np.min(ex8_matrix, axis=0)\n",
    "min_per_column"
   ]
  },
  {
   "cell_type": "markdown",
   "metadata": {
    "id": "gHcNCQ_wrUVB"
   },
   "source": [
    "**9.** Gere uma matriz $X \\in \\mathbb{R}^{5\\times5}$ de números aleatórios com distribuição normal de média 1 e desvio padrão 3, isto é, $X \\sim \\text{N}(1, 3)$. Depois gere uma matriz $Y$ de mesmo formato cujo elemento $(i,j)$ terá valor $1$ se o elemento $(i,j)$ da matriz aleatória for menor que -5 ou maior do que 7, e zero caso contrário.\n",
    "Conte o número de valores diferentes de zero nessa nova matriz.\n",
    "\n",
    "Dica: se $X \\sim \\text{N}(0, 1)$, então $(\\sigma \\cdot X + \\mu) \\sim \\text{N}(\\mu, \\sigma)$."
   ]
  },
  {
   "cell_type": "code",
   "execution_count": 12,
   "metadata": {
    "colab": {
     "base_uri": "https://localhost:8080/"
    },
    "executionInfo": {
     "elapsed": 334,
     "status": "ok",
     "timestamp": 1728484055939,
     "user": {
      "displayName": "Willian Macedo Rodrigues",
      "userId": "04289625524537895451"
     },
     "user_tz": 180
    },
    "id": "VxAgqRs_rUVB",
    "outputId": "f4753e74-5943-4f71-b26f-a97624549f03"
   },
   "outputs": [
    {
     "data": {
      "text/plain": [
       "array([[-1.73260737,  0.45416699, -0.72050393,  4.70543629,  1.74431036],\n",
       "       [ 5.76475025,  1.95207545,  0.94624303,  3.40989536,  3.60017979],\n",
       "       [-5.36322109, -4.70001713,  3.86613152,  4.1863554 ,  2.52448002],\n",
       "       [-1.59732577,  0.62949655,  3.21986152, -5.21427478, -1.76367645],\n",
       "       [ 2.16810776,  2.57417106,  1.89596482,  4.1341505 ,  1.57298257]])"
      ]
     },
     "execution_count": 12,
     "metadata": {},
     "output_type": "execute_result"
    }
   ],
   "source": [
    "X = 3 * np.random.randn(5, 5) + 1\n",
    "X"
   ]
  },
  {
   "cell_type": "code",
   "execution_count": 13,
   "metadata": {
    "colab": {
     "base_uri": "https://localhost:8080/"
    },
    "executionInfo": {
     "elapsed": 11,
     "status": "ok",
     "timestamp": 1728484055940,
     "user": {
      "displayName": "Willian Macedo Rodrigues",
      "userId": "04289625524537895451"
     },
     "user_tz": 180
    },
    "id": "cvR3bXiVrUVB",
    "outputId": "94a58124-964e-4466-e654-c6eee33cec66"
   },
   "outputs": [
    {
     "data": {
      "text/plain": [
       "array([[0, 0, 0, 0, 0],\n",
       "       [0, 0, 0, 0, 0],\n",
       "       [1, 0, 0, 0, 0],\n",
       "       [0, 0, 0, 1, 0],\n",
       "       [0, 0, 0, 0, 0]])"
      ]
     },
     "execution_count": 13,
     "metadata": {},
     "output_type": "execute_result"
    }
   ],
   "source": [
    "Y = np.where((X < -5) | (X > 7), 1, 0)\n",
    "Y"
   ]
  },
  {
   "cell_type": "code",
   "execution_count": 14,
   "metadata": {
    "colab": {
     "base_uri": "https://localhost:8080/"
    },
    "executionInfo": {
     "elapsed": 10,
     "status": "ok",
     "timestamp": 1728484055940,
     "user": {
      "displayName": "Willian Macedo Rodrigues",
      "userId": "04289625524537895451"
     },
     "user_tz": 180
    },
    "id": "fuQRTJPOrUVB",
    "outputId": "27178ca6-ec91-4996-c7a9-f27738a84d3d"
   },
   "outputs": [
    {
     "data": {
      "text/plain": [
       "2"
      ]
     },
     "execution_count": 14,
     "metadata": {},
     "output_type": "execute_result"
    }
   ],
   "source": [
    "non_zero_count = np.count_nonzero(Y)\n",
    "non_zero_count"
   ]
  },
  {
   "cell_type": "markdown",
   "metadata": {
    "id": "JfDXknJ6rUVC"
   },
   "source": [
    "**10.** Use as regras de *broadcast* em seu benefício para gerar uma matriz $5\\times5$ cujos elementos $(i,j)$ têm valor $i$. Faça o mesmo para gerar uma outra matriz de mesmo tamanho cujos elementos $(i,j)$ tenham valor $j$. Por fim, combine isso para gerar uma matriz também $5\\times5$ cujos elementos $(i,j)$ tenham valor $2 i - j$.\n",
    "\n",
    "Atenção: não utilizar `np.indices`.\n",
    "Dica: utilizar soma com matriz de zeros com dimensões $10\\times10$"
   ]
  },
  {
   "cell_type": "code",
   "execution_count": 15,
   "metadata": {
    "colab": {
     "base_uri": "https://localhost:8080/"
    },
    "executionInfo": {
     "elapsed": 9,
     "status": "ok",
     "timestamp": 1728484055940,
     "user": {
      "displayName": "Willian Macedo Rodrigues",
      "userId": "04289625524537895451"
     },
     "user_tz": 180
    },
    "id": "S6YnkiUMrUVC",
    "outputId": "c8ca9f1e-7cf0-49b1-f1c8-63e2693512a4"
   },
   "outputs": [
    {
     "data": {
      "text/plain": [
       "array([[0., 0., 0., 0., 0.],\n",
       "       [1., 1., 1., 1., 1.],\n",
       "       [2., 2., 2., 2., 2.],\n",
       "       [3., 3., 3., 3., 3.],\n",
       "       [4., 4., 4., 4., 4.]])"
      ]
     },
     "execution_count": 15,
     "metadata": {},
     "output_type": "execute_result"
    }
   ],
   "source": [
    "i_values = np.arange(5).reshape(5, 1).astype(float)\n",
    "i_matrix = i_values + np.zeros((5, 5))\n",
    "i_matrix"
   ]
  },
  {
   "cell_type": "code",
   "execution_count": 16,
   "metadata": {
    "colab": {
     "base_uri": "https://localhost:8080/"
    },
    "executionInfo": {
     "elapsed": 8,
     "status": "ok",
     "timestamp": 1728484055940,
     "user": {
      "displayName": "Willian Macedo Rodrigues",
      "userId": "04289625524537895451"
     },
     "user_tz": 180
    },
    "id": "PmEOOTw9rUVC",
    "outputId": "736e891e-caf3-45d6-8d39-bfbac412a69d"
   },
   "outputs": [
    {
     "data": {
      "text/plain": [
       "array([[0., 1., 2., 3., 4.],\n",
       "       [0., 1., 2., 3., 4.],\n",
       "       [0., 1., 2., 3., 4.],\n",
       "       [0., 1., 2., 3., 4.],\n",
       "       [0., 1., 2., 3., 4.]])"
      ]
     },
     "execution_count": 16,
     "metadata": {},
     "output_type": "execute_result"
    }
   ],
   "source": [
    "j_values = np.arange(5).reshape(1, 5).astype(float)\n",
    "j_matrix = np.zeros((5, 5)) + j_values\n",
    "j_matrix"
   ]
  },
  {
   "cell_type": "code",
   "execution_count": 17,
   "metadata": {
    "colab": {
     "base_uri": "https://localhost:8080/"
    },
    "executionInfo": {
     "elapsed": 6,
     "status": "ok",
     "timestamp": 1728484055940,
     "user": {
      "displayName": "Willian Macedo Rodrigues",
      "userId": "04289625524537895451"
     },
     "user_tz": 180
    },
    "id": "_eMaXibJrUVC",
    "outputId": "d7b7b8d6-77e9-4b2c-b9c1-be49677333dd"
   },
   "outputs": [
    {
     "data": {
      "text/plain": [
       "array([[ 0., -1., -2., -3., -4.],\n",
       "       [ 2.,  1.,  0., -1., -2.],\n",
       "       [ 4.,  3.,  2.,  1.,  0.],\n",
       "       [ 6.,  5.,  4.,  3.,  2.],\n",
       "       [ 8.,  7.,  6.,  5.,  4.]])"
      ]
     },
     "execution_count": 17,
     "metadata": {},
     "output_type": "execute_result"
    }
   ],
   "source": [
    "ex10_matrix= 2 * i_matrix - j_matrix\n",
    "ex10_matrix"
   ]
  },
  {
   "cell_type": "markdown",
   "metadata": {
    "id": "oPUJIuC4rUVC"
   },
   "source": [
    "**11.** Considere a matriz\n",
    "\n",
    "$\n",
    "X = \\begin{bmatrix}\n",
    "  9 & 3 & 8 \\\\\n",
    "  7 & 4 & 5 \\\\\n",
    "  2 & 3 & 1 \\\\\n",
    "  2 & 10 & 9 \\\\\n",
    "  8 & 9 & 2 \\\\\n",
    "\\end{bmatrix}.\n",
    "$\n",
    "\n",
    "Calcule $X_{shifted} = X - \\mu$, onde $\\mu$ é a média das linhas de $X$. Explore a funcionalidade de broadcasting e não utilize loops.\n"
   ]
  },
  {
   "cell_type": "code",
   "execution_count": 18,
   "metadata": {
    "colab": {
     "base_uri": "https://localhost:8080/"
    },
    "executionInfo": {
     "elapsed": 5,
     "status": "ok",
     "timestamp": 1728484055940,
     "user": {
      "displayName": "Willian Macedo Rodrigues",
      "userId": "04289625524537895451"
     },
     "user_tz": 180
    },
    "id": "8xsjk_MFrUVC",
    "outputId": "8932332d-32cd-412e-eaf0-5bc6a78674d6"
   },
   "outputs": [
    {
     "name": "stdout",
     "output_type": "stream",
     "text": [
      "Your function is not correct.\n",
      "Your function is correct.\n",
      "X_shifted:\n",
      " [[ 2.33333333 -3.66666667  1.33333333]\n",
      " [ 1.66666667 -1.33333333 -0.33333333]\n",
      " [ 0.          1.         -1.        ]\n",
      " [-5.          3.          2.        ]\n",
      " [ 1.66666667  2.66666667 -4.33333333]]\n",
      "X_shifted:\n",
      " [[ 3.4 -2.8  3. ]\n",
      " [ 1.4 -1.8  0. ]\n",
      " [-3.6 -2.8 -4. ]\n",
      " [-3.6  4.2  4. ]\n",
      " [ 2.4  3.2 -3. ]]\n"
     ]
    }
   ],
   "source": [
    "X = np.array([[9, 3, 8], [7, 4, 5], [2, 3, 1], [2, 10, 9], [8, 9, 2]])\n",
    "\n",
    "mu = X.mean(axis=1, keepdims=True)\n",
    "mu_col = X.mean(axis=0, keepdims=True)\n",
    "\n",
    "X_shifted = X - mu\n",
    "Y_shifted = X - mu_col\n",
    "ans = np.array([[3.4, -2.8, 3.0], [1.4, -1.8, 0.0], [-3.6, -2.8, -4.0], [-3.6, 4.2, 4.0], [2.4, 3.2, -3.0]])\n",
    "\n",
    "are_equal = np.allclose(X_shifted, ans, atol=1e-5)\n",
    "are_equal_y = np.allclose(Y_shifted, ans, atol=1e-5)\n",
    "\n",
    "if are_equal:\n",
    "    print(\"Your function is correct.\")\n",
    "else:\n",
    "    print(\"Your function is not correct.\")\n",
    "\n",
    "if are_equal_y:\n",
    "    print(\"Your function is correct.\")\n",
    "else:\n",
    "    print(\"Your function is not correct.\")\n",
    "print(\"X_shifted:\\n\", X_shifted)\n",
    "print(\"X_shifted:\\n\", Y_shifted)\n"
   ]
  },
  {
   "cell_type": "markdown",
   "metadata": {
    "id": "hqPwkIcjrUVC"
   },
   "source": [
    "**12.** A distância euclidiana entre dois vetores $u$ e $v$ de tamanho $n$ é dada por $\\left\\|u - v\\right\\|_2 = \\sqrt{\\sum_{i=1}^{n}(u_i - v_i)^2}.$\n",
    "\n",
    "Dado os vetores (1-D arrays) a seguir, complete a função `euclidean_distance` para cálculo da distância. Não utilize loops, nem a função `np.linalg.norm`."
   ]
  },
  {
   "cell_type": "code",
   "execution_count": 19,
   "metadata": {
    "colab": {
     "base_uri": "https://localhost:8080/"
    },
    "executionInfo": {
     "elapsed": 4,
     "status": "ok",
     "timestamp": 1728484055940,
     "user": {
      "displayName": "Willian Macedo Rodrigues",
      "userId": "04289625524537895451"
     },
     "user_tz": 180
    },
    "id": "5s-bp_gorUVC",
    "outputId": "213c7efe-2c55-4343-e7bf-939dd289976f"
   },
   "outputs": [
    {
     "name": "stdout",
     "output_type": "stream",
     "text": [
      "Your function is correct.\n"
     ]
    },
    {
     "data": {
      "text/plain": [
       "5.196152422706632"
      ]
     },
     "execution_count": 19,
     "metadata": {},
     "output_type": "execute_result"
    }
   ],
   "source": [
    "def euclidean_distance(u, v):\n",
    "    distances = 0\n",
    "\n",
    "    diff = u - v\n",
    "    squared_diff = diff ** 2\n",
    "    distances = np.sqrt(np.sum(squared_diff))\n",
    "\n",
    "    return distances\n",
    "\n",
    "\n",
    "array1 = np.array([1, 2, 3])\n",
    "array2 = np.array([4, 5, 6])\n",
    "\n",
    "distances = euclidean_distance(array1, array2)\n",
    "are_equal = np.allclose(distances, np.linalg.norm(array1 - array2), atol=1e-5)\n",
    "if are_equal:\n",
    "    print(\"Your function is correct.\")\n",
    "else:\n",
    "    print(\"Your function is not correct.\")\n",
    "\n",
    "distances"
   ]
  },
  {
   "cell_type": "markdown",
   "metadata": {
    "id": "Pw7oo7ghrUVD"
   },
   "source": [
    "**13.** Considere duas matrizes $X$ e $Y$, onde cada linha representa um vetor. Você foi solicitado a calcular a distância euclidiana entre as linhas de $X$ e as linhas correspondentes de $Y$. Escreva uma função que recebe as matrizes $X$ e $Y$ como entrada e retorna uma matriz $D$ onde cada elemento $(i,j)$ representa a distância euclidiana entre a linha $i$ de $X$ ($X_i$) e a linha $j$ de $Y$ ($Y_j$). O cálculo deve ser feito por meio de dois loops, conforme a equação\n",
    "\n",
    "$D_{ij} = \\left \\|X_i - Y_j \\right \\|_2$"
   ]
  },
  {
   "cell_type": "code",
   "execution_count": 20,
   "metadata": {
    "colab": {
     "base_uri": "https://localhost:8080/"
    },
    "executionInfo": {
     "elapsed": 509,
     "status": "ok",
     "timestamp": 1728484056446,
     "user": {
      "displayName": "Willian Macedo Rodrigues",
      "userId": "04289625524537895451"
     },
     "user_tz": 180
    },
    "id": "7cW4phDZrUVD",
    "outputId": "8de16e25-669f-45ab-d5cd-d0dea8675ff2"
   },
   "outputs": [
    {
     "name": "stdout",
     "output_type": "stream",
     "text": [
      "Your function is correct.\n"
     ]
    }
   ],
   "source": [
    "from scipy.spatial.distance import cdist\n",
    "\n",
    "\n",
    "def calculate_distances_two_loops(X, Y):\n",
    "    distances = np.zeros((X.shape[0], Y.shape[0]))\n",
    "\n",
    "    for i in range(X.shape[0]):\n",
    "        for j in range(Y.shape[0]):\n",
    "            distances[i, j] = np.sqrt(np.sum((X[i] - Y[j]) ** 2))\n",
    "\n",
    "    return distances\n",
    "\n",
    "\n",
    "X = np.array([[1, 2, 3], [4, 5, 6], [7, 8, 9], [10, 11, 12], [13, 14, 15]])\n",
    "Y = np.array([[16, 17, 18], [19, 20, 21]])\n",
    "\n",
    "distances = calculate_distances_two_loops(X, Y)\n",
    "are_equal = np.allclose(distances, cdist(X, Y), atol=1e-5)\n",
    "if are_equal:\n",
    "    print(\"Your function is correct.\")\n",
    "else:\n",
    "    print(\"Your function is not correct.\")"
   ]
  },
  {
   "cell_type": "markdown",
   "metadata": {
    "id": "Az3C-yNArUVD"
   },
   "source": [
    "**14.** O mesmo da questão anterior, mas agora utilizando um loop e broadcasting.\n",
    "\n",
    "Dica: verifique se o resultado de `X[i] - Y` pode lhe ser útil na solução do exercício."
   ]
  },
  {
   "cell_type": "code",
   "execution_count": 21,
   "metadata": {
    "colab": {
     "base_uri": "https://localhost:8080/"
    },
    "executionInfo": {
     "elapsed": 6,
     "status": "ok",
     "timestamp": 1728484056446,
     "user": {
      "displayName": "Willian Macedo Rodrigues",
      "userId": "04289625524537895451"
     },
     "user_tz": 180
    },
    "id": "YdlzdoImrUVD",
    "outputId": "c3cfd47c-1005-4cfa-e9eb-7fa09b05640d"
   },
   "outputs": [
    {
     "name": "stdout",
     "output_type": "stream",
     "text": [
      "[[ -9  -9  -9]\n",
      " [-12 -12 -12]]\n"
     ]
    }
   ],
   "source": [
    "# Create two 1D numpy array\n",
    "X = np.array([[1, 2, 3], [4, 5, 6], [7, 8, 9], [10, 11, 12], [13, 14, 15]])\n",
    "Y = np.array([[16, 17, 18], [19, 20, 21]])\n",
    "\n",
    "i = 2\n",
    "print(X[i] - Y)"
   ]
  },
  {
   "cell_type": "code",
   "execution_count": 22,
   "metadata": {
    "colab": {
     "base_uri": "https://localhost:8080/"
    },
    "executionInfo": {
     "elapsed": 5,
     "status": "ok",
     "timestamp": 1728484056446,
     "user": {
      "displayName": "Willian Macedo Rodrigues",
      "userId": "04289625524537895451"
     },
     "user_tz": 180
    },
    "id": "FUkrnOulrUVD",
    "outputId": "6bd5b4c9-634c-4013-ff58-69614986def9"
   },
   "outputs": [
    {
     "name": "stdout",
     "output_type": "stream",
     "text": [
      "Your function is correct.\n"
     ]
    }
   ],
   "source": [
    "def calculate_distances_one_loop(X, Y):\n",
    "    distances = np.zeros((X.shape[0], Y.shape[0]))\n",
    "\n",
    "    for i in range(X.shape[0]):\n",
    "        distances[i] = np.sqrt(np.sum((X[i] - Y) ** 2, axis=1))\n",
    "\n",
    "    return distances\n",
    "\n",
    "\n",
    "distances = calculate_distances_one_loop(X, Y)\n",
    "are_equal = np.allclose(distances, cdist(X, Y), atol=1e-5)\n",
    "if are_equal:\n",
    "    print(\"Your function is correct.\")\n",
    "else:\n",
    "    print(\"Your function is not correct.\")"
   ]
  },
  {
   "cell_type": "markdown",
   "metadata": {
    "id": "CnprHVl6rUVD"
   },
   "source": [
    "**15.** O mesmo da questão anterior, mas agora - você que é um mago do broadcasting - não pode utilizar loops.\n",
    "\n",
    "Dica: verifique se o resultado de `X[:, np.newaxis, :] - Y` pode lhe ser útil na solução do exercício."
   ]
  },
  {
   "cell_type": "code",
   "execution_count": 23,
   "metadata": {
    "colab": {
     "base_uri": "https://localhost:8080/"
    },
    "executionInfo": {
     "elapsed": 5,
     "status": "ok",
     "timestamp": 1728484056447,
     "user": {
      "displayName": "Willian Macedo Rodrigues",
      "userId": "04289625524537895451"
     },
     "user_tz": 180
    },
    "id": "he02m-U3rUVD",
    "outputId": "95edc331-6e87-4466-f26b-b356047c4fa7"
   },
   "outputs": [
    {
     "name": "stdout",
     "output_type": "stream",
     "text": [
      "[[[-15 -15 -15]\n",
      "  [-18 -18 -18]]\n",
      "\n",
      " [[-12 -12 -12]\n",
      "  [-15 -15 -15]]\n",
      "\n",
      " [[ -9  -9  -9]\n",
      "  [-12 -12 -12]]\n",
      "\n",
      " [[ -6  -6  -6]\n",
      "  [ -9  -9  -9]]\n",
      "\n",
      " [[ -3  -3  -3]\n",
      "  [ -6  -6  -6]]]\n"
     ]
    }
   ],
   "source": [
    "# Create two 1D numpy array\n",
    "X = np.array([[1, 2, 3], [4, 5, 6], [7, 8, 9], [10, 11, 12], [13, 14, 15]])\n",
    "Y = np.array([[16, 17, 18], [19, 20, 21]])\n",
    "\n",
    "print(X[:, np.newaxis, :] - Y)"
   ]
  },
  {
   "cell_type": "code",
   "execution_count": 24,
   "metadata": {
    "colab": {
     "base_uri": "https://localhost:8080/"
    },
    "executionInfo": {
     "elapsed": 4,
     "status": "ok",
     "timestamp": 1728484056447,
     "user": {
      "displayName": "Willian Macedo Rodrigues",
      "userId": "04289625524537895451"
     },
     "user_tz": 180
    },
    "id": "5zioPyNirUVH",
    "outputId": "33b2c8bd-4b7f-423a-8c54-dcffb3a2e091"
   },
   "outputs": [
    {
     "name": "stdout",
     "output_type": "stream",
     "text": [
      "Your function is correct.\n"
     ]
    }
   ],
   "source": [
    "def calculate_distances_vectorized(X, Y):\n",
    "    distances = np.zeros((X.shape[0], Y.shape[0]))\n",
    "\n",
    "    diff = X[:, np.newaxis, :] - Y\n",
    "    distances = np.sqrt(np.sum(diff ** 2, axis=2))\n",
    "\n",
    "    return distances\n",
    "\n",
    "\n",
    "distances = calculate_distances_one_loop(X, Y)\n",
    "are_equal = np.allclose(distances, cdist(X, Y), atol=1e-5)\n",
    "if are_equal:\n",
    "    print(\"Your function is correct.\")\n",
    "else:\n",
    "    print(\"Your function is not correct.\")"
   ]
  }
 ],
 "metadata": {
  "colab": {
   "provenance": []
  },
  "kernelspec": {
   "display_name": "base",
   "language": "python",
   "name": "python3"
  },
  "language_info": {
   "codemirror_mode": {
    "name": "ipython",
    "version": 3
   },
   "file_extension": ".py",
   "mimetype": "text/x-python",
   "name": "python",
   "nbconvert_exporter": "python",
   "pygments_lexer": "ipython3",
   "version": "3.9.13"
  }
 },
 "nbformat": 4,
 "nbformat_minor": 0
}
